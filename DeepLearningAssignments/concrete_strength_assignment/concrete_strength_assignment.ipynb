{
  "nbformat": 4,
  "nbformat_minor": 0,
  "metadata": {
    "colab": {
      "name": "concrete-strength-assignment.ipynb",
      "provenance": []
    },
    "kernelspec": {
      "name": "python3",
      "display_name": "Python 3"
    },
    "language_info": {
      "name": "python"
    }
  },
  "cells": [
    {
      "cell_type": "markdown",
      "metadata": {
        "id": "pJ-tdstxXG-3"
      },
      "source": [
        "<h1 align=\"center\">DL Assignment: Concrete Strength Assignment (Regression)</h1>"
      ]
    },
    {
      "cell_type": "code",
      "metadata": {
        "id": "3jZHVr_0WoGg"
      },
      "source": [
        "import numpy as np\n",
        "import pandas as pd\n",
        "import matplotlib.pyplot as plt\n",
        "\n",
        "from keras.preprocessing import image_dataset_from_directory\n",
        "from keras import models\n",
        "from keras import layers\n",
        "from keras import losses"
      ],
      "execution_count": 79,
      "outputs": []
    },
    {
      "cell_type": "markdown",
      "metadata": {
        "id": "8t1lEQEgNCkH"
      },
      "source": [
        "# Loading Data"
      ]
    },
    {
      "cell_type": "markdown",
      "metadata": {
        "id": "hUanpmN_NHO6"
      },
      "source": [
        "Let's, first, load the data into a data frame."
      ]
    },
    {
      "cell_type": "code",
      "metadata": {
        "id": "uMcNA6XBiMu3"
      },
      "source": [
        "dataset_directory = '/content/drive/MyDrive/datasets/compresive_strength_concrete.csv'"
      ],
      "execution_count": 80,
      "outputs": []
    },
    {
      "cell_type": "code",
      "metadata": {
        "id": "yXpKAQHYifU0"
      },
      "source": [
        "data_df = pd.read_csv(dataset_directory)"
      ],
      "execution_count": 81,
      "outputs": []
    },
    {
      "cell_type": "code",
      "metadata": {
        "colab": {
          "base_uri": "https://localhost:8080/",
          "height": 255
        },
        "id": "EC5sUzasMs8N",
        "outputId": "e883a8d4-370e-4d8c-8069-9ac0847df4f6"
      },
      "source": [
        "data_df.head()"
      ],
      "execution_count": 82,
      "outputs": [
        {
          "output_type": "execute_result",
          "data": {
            "text/html": [
              "<div>\n",
              "<style scoped>\n",
              "    .dataframe tbody tr th:only-of-type {\n",
              "        vertical-align: middle;\n",
              "    }\n",
              "\n",
              "    .dataframe tbody tr th {\n",
              "        vertical-align: top;\n",
              "    }\n",
              "\n",
              "    .dataframe thead th {\n",
              "        text-align: right;\n",
              "    }\n",
              "</style>\n",
              "<table border=\"1\" class=\"dataframe\">\n",
              "  <thead>\n",
              "    <tr style=\"text-align: right;\">\n",
              "      <th></th>\n",
              "      <th>Cement (component 1)(kg in a m^3 mixture)</th>\n",
              "      <th>Blast Furnace Slag (component 2)(kg in a m^3 mixture)</th>\n",
              "      <th>Fly Ash (component 3)(kg in a m^3 mixture)</th>\n",
              "      <th>Water  (component 4)(kg in a m^3 mixture)</th>\n",
              "      <th>Superplasticizer (component 5)(kg in a m^3 mixture)</th>\n",
              "      <th>Coarse Aggregate  (component 6)(kg in a m^3 mixture)</th>\n",
              "      <th>Fine Aggregate (component 7)(kg in a m^3 mixture)</th>\n",
              "      <th>Age (day)</th>\n",
              "      <th>Concrete compressive strength(MPa, megapascals)</th>\n",
              "    </tr>\n",
              "  </thead>\n",
              "  <tbody>\n",
              "    <tr>\n",
              "      <th>0</th>\n",
              "      <td>540.0</td>\n",
              "      <td>0.0</td>\n",
              "      <td>0.0</td>\n",
              "      <td>162.0</td>\n",
              "      <td>2.5</td>\n",
              "      <td>1040.0</td>\n",
              "      <td>676.0</td>\n",
              "      <td>28</td>\n",
              "      <td>79.99</td>\n",
              "    </tr>\n",
              "    <tr>\n",
              "      <th>1</th>\n",
              "      <td>540.0</td>\n",
              "      <td>0.0</td>\n",
              "      <td>0.0</td>\n",
              "      <td>162.0</td>\n",
              "      <td>2.5</td>\n",
              "      <td>1055.0</td>\n",
              "      <td>676.0</td>\n",
              "      <td>28</td>\n",
              "      <td>61.89</td>\n",
              "    </tr>\n",
              "    <tr>\n",
              "      <th>2</th>\n",
              "      <td>332.5</td>\n",
              "      <td>142.5</td>\n",
              "      <td>0.0</td>\n",
              "      <td>228.0</td>\n",
              "      <td>0.0</td>\n",
              "      <td>932.0</td>\n",
              "      <td>594.0</td>\n",
              "      <td>270</td>\n",
              "      <td>40.27</td>\n",
              "    </tr>\n",
              "    <tr>\n",
              "      <th>3</th>\n",
              "      <td>332.5</td>\n",
              "      <td>142.5</td>\n",
              "      <td>0.0</td>\n",
              "      <td>228.0</td>\n",
              "      <td>0.0</td>\n",
              "      <td>932.0</td>\n",
              "      <td>594.0</td>\n",
              "      <td>365</td>\n",
              "      <td>41.05</td>\n",
              "    </tr>\n",
              "    <tr>\n",
              "      <th>4</th>\n",
              "      <td>198.6</td>\n",
              "      <td>132.4</td>\n",
              "      <td>0.0</td>\n",
              "      <td>192.0</td>\n",
              "      <td>0.0</td>\n",
              "      <td>978.4</td>\n",
              "      <td>825.5</td>\n",
              "      <td>360</td>\n",
              "      <td>44.30</td>\n",
              "    </tr>\n",
              "  </tbody>\n",
              "</table>\n",
              "</div>"
            ],
            "text/plain": [
              "   Cement (component 1)(kg in a m^3 mixture)  ...  Concrete compressive strength(MPa, megapascals) \n",
              "0                                      540.0  ...                                             79.99\n",
              "1                                      540.0  ...                                             61.89\n",
              "2                                      332.5  ...                                             40.27\n",
              "3                                      332.5  ...                                             41.05\n",
              "4                                      198.6  ...                                             44.30\n",
              "\n",
              "[5 rows x 9 columns]"
            ]
          },
          "metadata": {
            "tags": []
          },
          "execution_count": 82
        }
      ]
    },
    {
      "cell_type": "markdown",
      "metadata": {
        "id": "PqEXuw0GNzQ2"
      },
      "source": [
        "# Data Preprocessing"
      ]
    },
    {
      "cell_type": "markdown",
      "metadata": {
        "id": "-Ncv-4ChN4-g"
      },
      "source": [
        "There are 1030 samples in the dataset."
      ]
    },
    {
      "cell_type": "code",
      "metadata": {
        "colab": {
          "base_uri": "https://localhost:8080/"
        },
        "id": "lbblOuQvN9qE",
        "outputId": "a06d321b-f6c5-4041-abe4-53a072767b5c"
      },
      "source": [
        "data_df.shape"
      ],
      "execution_count": 83,
      "outputs": [
        {
          "output_type": "execute_result",
          "data": {
            "text/plain": [
              "(1030, 9)"
            ]
          },
          "metadata": {
            "tags": []
          },
          "execution_count": 83
        }
      ]
    },
    {
      "cell_type": "markdown",
      "metadata": {
        "id": "ArbcNNc4N15O"
      },
      "source": [
        "## Checking for Missing Values"
      ]
    },
    {
      "cell_type": "markdown",
      "metadata": {
        "id": "tNmgKbpxOTtj"
      },
      "source": [
        "There are no missing values in the data."
      ]
    },
    {
      "cell_type": "code",
      "metadata": {
        "colab": {
          "base_uri": "https://localhost:8080/"
        },
        "id": "MBD3p7ktMx4E",
        "outputId": "e18136f3-0749-40c4-9d5d-9a4256066164"
      },
      "source": [
        "data_df.info()"
      ],
      "execution_count": 84,
      "outputs": [
        {
          "output_type": "stream",
          "text": [
            "<class 'pandas.core.frame.DataFrame'>\n",
            "RangeIndex: 1030 entries, 0 to 1029\n",
            "Data columns (total 9 columns):\n",
            " #   Column                                                 Non-Null Count  Dtype  \n",
            "---  ------                                                 --------------  -----  \n",
            " 0   Cement (component 1)(kg in a m^3 mixture)              1030 non-null   float64\n",
            " 1   Blast Furnace Slag (component 2)(kg in a m^3 mixture)  1030 non-null   float64\n",
            " 2   Fly Ash (component 3)(kg in a m^3 mixture)             1030 non-null   float64\n",
            " 3   Water  (component 4)(kg in a m^3 mixture)              1030 non-null   float64\n",
            " 4   Superplasticizer (component 5)(kg in a m^3 mixture)    1030 non-null   float64\n",
            " 5   Coarse Aggregate  (component 6)(kg in a m^3 mixture)   1030 non-null   float64\n",
            " 6   Fine Aggregate (component 7)(kg in a m^3 mixture)      1030 non-null   float64\n",
            " 7   Age (day)                                              1030 non-null   int64  \n",
            " 8   Concrete compressive strength(MPa, megapascals)        1030 non-null   float64\n",
            "dtypes: float64(8), int64(1)\n",
            "memory usage: 72.5 KB\n"
          ],
          "name": "stdout"
        }
      ]
    },
    {
      "cell_type": "markdown",
      "metadata": {
        "id": "mpzHOelEOXwG"
      },
      "source": [
        "## Checking for Duplicate Data"
      ]
    },
    {
      "cell_type": "markdown",
      "metadata": {
        "id": "Am1e_fViO1VI"
      },
      "source": [
        "There are 25 duplicate samples."
      ]
    },
    {
      "cell_type": "code",
      "metadata": {
        "colab": {
          "base_uri": "https://localhost:8080/",
          "height": 875
        },
        "id": "oiHGmIgWObLh",
        "outputId": "ae879e20-26df-4082-f50f-7d9cb0065489"
      },
      "source": [
        "duplicate_data = data_df.loc[data_df.duplicated()]\n",
        "duplicate_data"
      ],
      "execution_count": 85,
      "outputs": [
        {
          "output_type": "execute_result",
          "data": {
            "text/html": [
              "<div>\n",
              "<style scoped>\n",
              "    .dataframe tbody tr th:only-of-type {\n",
              "        vertical-align: middle;\n",
              "    }\n",
              "\n",
              "    .dataframe tbody tr th {\n",
              "        vertical-align: top;\n",
              "    }\n",
              "\n",
              "    .dataframe thead th {\n",
              "        text-align: right;\n",
              "    }\n",
              "</style>\n",
              "<table border=\"1\" class=\"dataframe\">\n",
              "  <thead>\n",
              "    <tr style=\"text-align: right;\">\n",
              "      <th></th>\n",
              "      <th>Cement (component 1)(kg in a m^3 mixture)</th>\n",
              "      <th>Blast Furnace Slag (component 2)(kg in a m^3 mixture)</th>\n",
              "      <th>Fly Ash (component 3)(kg in a m^3 mixture)</th>\n",
              "      <th>Water  (component 4)(kg in a m^3 mixture)</th>\n",
              "      <th>Superplasticizer (component 5)(kg in a m^3 mixture)</th>\n",
              "      <th>Coarse Aggregate  (component 6)(kg in a m^3 mixture)</th>\n",
              "      <th>Fine Aggregate (component 7)(kg in a m^3 mixture)</th>\n",
              "      <th>Age (day)</th>\n",
              "      <th>Concrete compressive strength(MPa, megapascals)</th>\n",
              "    </tr>\n",
              "  </thead>\n",
              "  <tbody>\n",
              "    <tr>\n",
              "      <th>77</th>\n",
              "      <td>425.0</td>\n",
              "      <td>106.3</td>\n",
              "      <td>0.0</td>\n",
              "      <td>153.5</td>\n",
              "      <td>16.5</td>\n",
              "      <td>852.1</td>\n",
              "      <td>887.1</td>\n",
              "      <td>3</td>\n",
              "      <td>33.40</td>\n",
              "    </tr>\n",
              "    <tr>\n",
              "      <th>80</th>\n",
              "      <td>425.0</td>\n",
              "      <td>106.3</td>\n",
              "      <td>0.0</td>\n",
              "      <td>153.5</td>\n",
              "      <td>16.5</td>\n",
              "      <td>852.1</td>\n",
              "      <td>887.1</td>\n",
              "      <td>3</td>\n",
              "      <td>33.40</td>\n",
              "    </tr>\n",
              "    <tr>\n",
              "      <th>86</th>\n",
              "      <td>362.6</td>\n",
              "      <td>189.0</td>\n",
              "      <td>0.0</td>\n",
              "      <td>164.9</td>\n",
              "      <td>11.6</td>\n",
              "      <td>944.7</td>\n",
              "      <td>755.8</td>\n",
              "      <td>3</td>\n",
              "      <td>35.30</td>\n",
              "    </tr>\n",
              "    <tr>\n",
              "      <th>88</th>\n",
              "      <td>362.6</td>\n",
              "      <td>189.0</td>\n",
              "      <td>0.0</td>\n",
              "      <td>164.9</td>\n",
              "      <td>11.6</td>\n",
              "      <td>944.7</td>\n",
              "      <td>755.8</td>\n",
              "      <td>3</td>\n",
              "      <td>35.30</td>\n",
              "    </tr>\n",
              "    <tr>\n",
              "      <th>91</th>\n",
              "      <td>362.6</td>\n",
              "      <td>189.0</td>\n",
              "      <td>0.0</td>\n",
              "      <td>164.9</td>\n",
              "      <td>11.6</td>\n",
              "      <td>944.7</td>\n",
              "      <td>755.8</td>\n",
              "      <td>3</td>\n",
              "      <td>35.30</td>\n",
              "    </tr>\n",
              "    <tr>\n",
              "      <th>100</th>\n",
              "      <td>425.0</td>\n",
              "      <td>106.3</td>\n",
              "      <td>0.0</td>\n",
              "      <td>153.5</td>\n",
              "      <td>16.5</td>\n",
              "      <td>852.1</td>\n",
              "      <td>887.1</td>\n",
              "      <td>7</td>\n",
              "      <td>49.20</td>\n",
              "    </tr>\n",
              "    <tr>\n",
              "      <th>103</th>\n",
              "      <td>425.0</td>\n",
              "      <td>106.3</td>\n",
              "      <td>0.0</td>\n",
              "      <td>153.5</td>\n",
              "      <td>16.5</td>\n",
              "      <td>852.1</td>\n",
              "      <td>887.1</td>\n",
              "      <td>7</td>\n",
              "      <td>49.20</td>\n",
              "    </tr>\n",
              "    <tr>\n",
              "      <th>109</th>\n",
              "      <td>362.6</td>\n",
              "      <td>189.0</td>\n",
              "      <td>0.0</td>\n",
              "      <td>164.9</td>\n",
              "      <td>11.6</td>\n",
              "      <td>944.7</td>\n",
              "      <td>755.8</td>\n",
              "      <td>7</td>\n",
              "      <td>55.90</td>\n",
              "    </tr>\n",
              "    <tr>\n",
              "      <th>111</th>\n",
              "      <td>362.6</td>\n",
              "      <td>189.0</td>\n",
              "      <td>0.0</td>\n",
              "      <td>164.9</td>\n",
              "      <td>11.6</td>\n",
              "      <td>944.7</td>\n",
              "      <td>755.8</td>\n",
              "      <td>7</td>\n",
              "      <td>55.90</td>\n",
              "    </tr>\n",
              "    <tr>\n",
              "      <th>123</th>\n",
              "      <td>425.0</td>\n",
              "      <td>106.3</td>\n",
              "      <td>0.0</td>\n",
              "      <td>153.5</td>\n",
              "      <td>16.5</td>\n",
              "      <td>852.1</td>\n",
              "      <td>887.1</td>\n",
              "      <td>28</td>\n",
              "      <td>60.29</td>\n",
              "    </tr>\n",
              "    <tr>\n",
              "      <th>126</th>\n",
              "      <td>425.0</td>\n",
              "      <td>106.3</td>\n",
              "      <td>0.0</td>\n",
              "      <td>153.5</td>\n",
              "      <td>16.5</td>\n",
              "      <td>852.1</td>\n",
              "      <td>887.1</td>\n",
              "      <td>28</td>\n",
              "      <td>60.29</td>\n",
              "    </tr>\n",
              "    <tr>\n",
              "      <th>132</th>\n",
              "      <td>362.6</td>\n",
              "      <td>189.0</td>\n",
              "      <td>0.0</td>\n",
              "      <td>164.9</td>\n",
              "      <td>11.6</td>\n",
              "      <td>944.7</td>\n",
              "      <td>755.8</td>\n",
              "      <td>28</td>\n",
              "      <td>71.30</td>\n",
              "    </tr>\n",
              "    <tr>\n",
              "      <th>134</th>\n",
              "      <td>362.6</td>\n",
              "      <td>189.0</td>\n",
              "      <td>0.0</td>\n",
              "      <td>164.9</td>\n",
              "      <td>11.6</td>\n",
              "      <td>944.7</td>\n",
              "      <td>755.8</td>\n",
              "      <td>28</td>\n",
              "      <td>71.30</td>\n",
              "    </tr>\n",
              "    <tr>\n",
              "      <th>137</th>\n",
              "      <td>362.6</td>\n",
              "      <td>189.0</td>\n",
              "      <td>0.0</td>\n",
              "      <td>164.9</td>\n",
              "      <td>11.6</td>\n",
              "      <td>944.7</td>\n",
              "      <td>755.8</td>\n",
              "      <td>28</td>\n",
              "      <td>71.30</td>\n",
              "    </tr>\n",
              "    <tr>\n",
              "      <th>146</th>\n",
              "      <td>425.0</td>\n",
              "      <td>106.3</td>\n",
              "      <td>0.0</td>\n",
              "      <td>153.5</td>\n",
              "      <td>16.5</td>\n",
              "      <td>852.1</td>\n",
              "      <td>887.1</td>\n",
              "      <td>56</td>\n",
              "      <td>64.30</td>\n",
              "    </tr>\n",
              "    <tr>\n",
              "      <th>149</th>\n",
              "      <td>425.0</td>\n",
              "      <td>106.3</td>\n",
              "      <td>0.0</td>\n",
              "      <td>153.5</td>\n",
              "      <td>16.5</td>\n",
              "      <td>852.1</td>\n",
              "      <td>887.1</td>\n",
              "      <td>56</td>\n",
              "      <td>64.30</td>\n",
              "    </tr>\n",
              "    <tr>\n",
              "      <th>155</th>\n",
              "      <td>362.6</td>\n",
              "      <td>189.0</td>\n",
              "      <td>0.0</td>\n",
              "      <td>164.9</td>\n",
              "      <td>11.6</td>\n",
              "      <td>944.7</td>\n",
              "      <td>755.8</td>\n",
              "      <td>56</td>\n",
              "      <td>77.30</td>\n",
              "    </tr>\n",
              "    <tr>\n",
              "      <th>157</th>\n",
              "      <td>362.6</td>\n",
              "      <td>189.0</td>\n",
              "      <td>0.0</td>\n",
              "      <td>164.9</td>\n",
              "      <td>11.6</td>\n",
              "      <td>944.7</td>\n",
              "      <td>755.8</td>\n",
              "      <td>56</td>\n",
              "      <td>77.30</td>\n",
              "    </tr>\n",
              "    <tr>\n",
              "      <th>160</th>\n",
              "      <td>362.6</td>\n",
              "      <td>189.0</td>\n",
              "      <td>0.0</td>\n",
              "      <td>164.9</td>\n",
              "      <td>11.6</td>\n",
              "      <td>944.7</td>\n",
              "      <td>755.8</td>\n",
              "      <td>56</td>\n",
              "      <td>77.30</td>\n",
              "    </tr>\n",
              "    <tr>\n",
              "      <th>169</th>\n",
              "      <td>425.0</td>\n",
              "      <td>106.3</td>\n",
              "      <td>0.0</td>\n",
              "      <td>153.5</td>\n",
              "      <td>16.5</td>\n",
              "      <td>852.1</td>\n",
              "      <td>887.1</td>\n",
              "      <td>91</td>\n",
              "      <td>65.20</td>\n",
              "    </tr>\n",
              "    <tr>\n",
              "      <th>172</th>\n",
              "      <td>425.0</td>\n",
              "      <td>106.3</td>\n",
              "      <td>0.0</td>\n",
              "      <td>153.5</td>\n",
              "      <td>16.5</td>\n",
              "      <td>852.1</td>\n",
              "      <td>887.1</td>\n",
              "      <td>91</td>\n",
              "      <td>65.20</td>\n",
              "    </tr>\n",
              "    <tr>\n",
              "      <th>177</th>\n",
              "      <td>362.6</td>\n",
              "      <td>189.0</td>\n",
              "      <td>0.0</td>\n",
              "      <td>164.9</td>\n",
              "      <td>11.6</td>\n",
              "      <td>944.7</td>\n",
              "      <td>755.8</td>\n",
              "      <td>91</td>\n",
              "      <td>79.30</td>\n",
              "    </tr>\n",
              "    <tr>\n",
              "      <th>179</th>\n",
              "      <td>362.6</td>\n",
              "      <td>189.0</td>\n",
              "      <td>0.0</td>\n",
              "      <td>164.9</td>\n",
              "      <td>11.6</td>\n",
              "      <td>944.7</td>\n",
              "      <td>755.8</td>\n",
              "      <td>91</td>\n",
              "      <td>79.30</td>\n",
              "    </tr>\n",
              "    <tr>\n",
              "      <th>182</th>\n",
              "      <td>362.6</td>\n",
              "      <td>189.0</td>\n",
              "      <td>0.0</td>\n",
              "      <td>164.9</td>\n",
              "      <td>11.6</td>\n",
              "      <td>944.7</td>\n",
              "      <td>755.8</td>\n",
              "      <td>91</td>\n",
              "      <td>79.30</td>\n",
              "    </tr>\n",
              "    <tr>\n",
              "      <th>809</th>\n",
              "      <td>252.0</td>\n",
              "      <td>0.0</td>\n",
              "      <td>0.0</td>\n",
              "      <td>185.0</td>\n",
              "      <td>0.0</td>\n",
              "      <td>1111.0</td>\n",
              "      <td>784.0</td>\n",
              "      <td>28</td>\n",
              "      <td>19.69</td>\n",
              "    </tr>\n",
              "  </tbody>\n",
              "</table>\n",
              "</div>"
            ],
            "text/plain": [
              "     Cement (component 1)(kg in a m^3 mixture)  ...  Concrete compressive strength(MPa, megapascals) \n",
              "77                                       425.0  ...                                             33.40\n",
              "80                                       425.0  ...                                             33.40\n",
              "86                                       362.6  ...                                             35.30\n",
              "88                                       362.6  ...                                             35.30\n",
              "91                                       362.6  ...                                             35.30\n",
              "100                                      425.0  ...                                             49.20\n",
              "103                                      425.0  ...                                             49.20\n",
              "109                                      362.6  ...                                             55.90\n",
              "111                                      362.6  ...                                             55.90\n",
              "123                                      425.0  ...                                             60.29\n",
              "126                                      425.0  ...                                             60.29\n",
              "132                                      362.6  ...                                             71.30\n",
              "134                                      362.6  ...                                             71.30\n",
              "137                                      362.6  ...                                             71.30\n",
              "146                                      425.0  ...                                             64.30\n",
              "149                                      425.0  ...                                             64.30\n",
              "155                                      362.6  ...                                             77.30\n",
              "157                                      362.6  ...                                             77.30\n",
              "160                                      362.6  ...                                             77.30\n",
              "169                                      425.0  ...                                             65.20\n",
              "172                                      425.0  ...                                             65.20\n",
              "177                                      362.6  ...                                             79.30\n",
              "179                                      362.6  ...                                             79.30\n",
              "182                                      362.6  ...                                             79.30\n",
              "809                                      252.0  ...                                             19.69\n",
              "\n",
              "[25 rows x 9 columns]"
            ]
          },
          "metadata": {
            "tags": []
          },
          "execution_count": 85
        }
      ]
    },
    {
      "cell_type": "code",
      "metadata": {
        "colab": {
          "base_uri": "https://localhost:8080/"
        },
        "id": "7wK1jCyyOfvs",
        "outputId": "2ddfa7d3-de65-4a04-bf2f-773c0171eea8"
      },
      "source": [
        "duplicate_data.shape"
      ],
      "execution_count": 86,
      "outputs": [
        {
          "output_type": "execute_result",
          "data": {
            "text/plain": [
              "(25, 9)"
            ]
          },
          "metadata": {
            "tags": []
          },
          "execution_count": 86
        }
      ]
    },
    {
      "cell_type": "markdown",
      "metadata": {
        "id": "zZM2hZzjO8D3"
      },
      "source": [
        "Removing the duplicates..."
      ]
    },
    {
      "cell_type": "code",
      "metadata": {
        "id": "nABiEb9nOydE"
      },
      "source": [
        "data_df.drop_duplicates(inplace=True)"
      ],
      "execution_count": 87,
      "outputs": []
    },
    {
      "cell_type": "code",
      "metadata": {
        "colab": {
          "base_uri": "https://localhost:8080/"
        },
        "id": "hH8UPkYBPCZA",
        "outputId": "c123d31e-2326-4b20-da08-0e7be5bdfe33"
      },
      "source": [
        "data_df.shape"
      ],
      "execution_count": 88,
      "outputs": [
        {
          "output_type": "execute_result",
          "data": {
            "text/plain": [
              "(1005, 9)"
            ]
          },
          "metadata": {
            "tags": []
          },
          "execution_count": 88
        }
      ]
    },
    {
      "cell_type": "markdown",
      "metadata": {
        "id": "j_1VN60oPGBh"
      },
      "source": [
        "## Data Normalization"
      ]
    },
    {
      "cell_type": "markdown",
      "metadata": {
        "id": "4PSbVvR8Pqo6"
      },
      "source": [
        "First, let's first convert the data type of \"Age\" column to float64 to make the data homogeneous."
      ]
    },
    {
      "cell_type": "code",
      "metadata": {
        "id": "cjXpQnzUPEPW"
      },
      "source": [
        "data_df.iloc[:, -2] = data_df.iloc[:, -2].astype(np.float64)"
      ],
      "execution_count": 89,
      "outputs": []
    },
    {
      "cell_type": "code",
      "metadata": {
        "colab": {
          "base_uri": "https://localhost:8080/"
        },
        "id": "LE5bs-0aQBFx",
        "outputId": "1a4ee364-5ea4-418b-cab9-9902d1a5a8f8"
      },
      "source": [
        "data_df.info()"
      ],
      "execution_count": 90,
      "outputs": [
        {
          "output_type": "stream",
          "text": [
            "<class 'pandas.core.frame.DataFrame'>\n",
            "Int64Index: 1005 entries, 0 to 1029\n",
            "Data columns (total 9 columns):\n",
            " #   Column                                                 Non-Null Count  Dtype  \n",
            "---  ------                                                 --------------  -----  \n",
            " 0   Cement (component 1)(kg in a m^3 mixture)              1005 non-null   float64\n",
            " 1   Blast Furnace Slag (component 2)(kg in a m^3 mixture)  1005 non-null   float64\n",
            " 2   Fly Ash (component 3)(kg in a m^3 mixture)             1005 non-null   float64\n",
            " 3   Water  (component 4)(kg in a m^3 mixture)              1005 non-null   float64\n",
            " 4   Superplasticizer (component 5)(kg in a m^3 mixture)    1005 non-null   float64\n",
            " 5   Coarse Aggregate  (component 6)(kg in a m^3 mixture)   1005 non-null   float64\n",
            " 6   Fine Aggregate (component 7)(kg in a m^3 mixture)      1005 non-null   float64\n",
            " 7   Age (day)                                              1005 non-null   float64\n",
            " 8   Concrete compressive strength(MPa, megapascals)        1005 non-null   float64\n",
            "dtypes: float64(9)\n",
            "memory usage: 78.5 KB\n"
          ],
          "name": "stdout"
        }
      ]
    },
    {
      "cell_type": "markdown",
      "metadata": {
        "id": "nkSMf0oRQGoW"
      },
      "source": [
        "Now, let's map the data in input columns to the range [0, 1]"
      ]
    },
    {
      "cell_type": "code",
      "metadata": {
        "id": "cNNeomscQDTN"
      },
      "source": [
        "data_df.iloc[:, :-1] = data_df.iloc[:, :-1] / data_df.std(axis='index')"
      ],
      "execution_count": 91,
      "outputs": []
    },
    {
      "cell_type": "code",
      "metadata": {
        "colab": {
          "base_uri": "https://localhost:8080/",
          "height": 348
        },
        "id": "2hdjFz6uQixA",
        "outputId": "f8026226-6662-4537-b9bd-13dce202c6b5"
      },
      "source": [
        "data_df.describe()"
      ],
      "execution_count": 92,
      "outputs": [
        {
          "output_type": "execute_result",
          "data": {
            "text/html": [
              "<div>\n",
              "<style scoped>\n",
              "    .dataframe tbody tr th:only-of-type {\n",
              "        vertical-align: middle;\n",
              "    }\n",
              "\n",
              "    .dataframe tbody tr th {\n",
              "        vertical-align: top;\n",
              "    }\n",
              "\n",
              "    .dataframe thead th {\n",
              "        text-align: right;\n",
              "    }\n",
              "</style>\n",
              "<table border=\"1\" class=\"dataframe\">\n",
              "  <thead>\n",
              "    <tr style=\"text-align: right;\">\n",
              "      <th></th>\n",
              "      <th>Cement (component 1)(kg in a m^3 mixture)</th>\n",
              "      <th>Blast Furnace Slag (component 2)(kg in a m^3 mixture)</th>\n",
              "      <th>Fly Ash (component 3)(kg in a m^3 mixture)</th>\n",
              "      <th>Water  (component 4)(kg in a m^3 mixture)</th>\n",
              "      <th>Superplasticizer (component 5)(kg in a m^3 mixture)</th>\n",
              "      <th>Coarse Aggregate  (component 6)(kg in a m^3 mixture)</th>\n",
              "      <th>Fine Aggregate (component 7)(kg in a m^3 mixture)</th>\n",
              "      <th>Age (day)</th>\n",
              "      <th>Concrete compressive strength(MPa, megapascals)</th>\n",
              "    </tr>\n",
              "  </thead>\n",
              "  <tbody>\n",
              "    <tr>\n",
              "      <th>count</th>\n",
              "      <td>1005.000000</td>\n",
              "      <td>1005.000000</td>\n",
              "      <td>1005.000000</td>\n",
              "      <td>1005.000000</td>\n",
              "      <td>1005.000000</td>\n",
              "      <td>1005.000000</td>\n",
              "      <td>1005.000000</td>\n",
              "      <td>1005.000000</td>\n",
              "      <td>1005.000000</td>\n",
              "    </tr>\n",
              "    <tr>\n",
              "      <th>mean</th>\n",
              "      <td>2.670308</td>\n",
              "      <td>0.836054</td>\n",
              "      <td>0.864944</td>\n",
              "      <td>8.532381</td>\n",
              "      <td>1.019133</td>\n",
              "      <td>12.559693</td>\n",
              "      <td>9.617676</td>\n",
              "      <td>0.719494</td>\n",
              "      <td>35.250378</td>\n",
              "    </tr>\n",
              "    <tr>\n",
              "      <th>std</th>\n",
              "      <td>1.000000</td>\n",
              "      <td>1.000000</td>\n",
              "      <td>1.000000</td>\n",
              "      <td>1.000000</td>\n",
              "      <td>1.000000</td>\n",
              "      <td>1.000000</td>\n",
              "      <td>1.000000</td>\n",
              "      <td>1.000000</td>\n",
              "      <td>16.284815</td>\n",
              "    </tr>\n",
              "    <tr>\n",
              "      <th>min</th>\n",
              "      <td>0.977533</td>\n",
              "      <td>0.000000</td>\n",
              "      <td>0.000000</td>\n",
              "      <td>5.707769</td>\n",
              "      <td>0.000000</td>\n",
              "      <td>10.324870</td>\n",
              "      <td>7.393537</td>\n",
              "      <td>0.015690</td>\n",
              "      <td>2.330000</td>\n",
              "    </tr>\n",
              "    <tr>\n",
              "      <th>25%</th>\n",
              "      <td>1.827604</td>\n",
              "      <td>0.000000</td>\n",
              "      <td>0.000000</td>\n",
              "      <td>7.807179</td>\n",
              "      <td>0.000000</td>\n",
              "      <td>12.013457</td>\n",
              "      <td>9.015386</td>\n",
              "      <td>0.109830</td>\n",
              "      <td>23.520000</td>\n",
              "    </tr>\n",
              "    <tr>\n",
              "      <th>50%</th>\n",
              "      <td>2.539670</td>\n",
              "      <td>0.232097</td>\n",
              "      <td>0.000000</td>\n",
              "      <td>8.702240</td>\n",
              "      <td>1.030411</td>\n",
              "      <td>12.477496</td>\n",
              "      <td>9.708685</td>\n",
              "      <td>0.439321</td>\n",
              "      <td>33.800000</td>\n",
              "    </tr>\n",
              "    <tr>\n",
              "      <th>75%</th>\n",
              "      <td>3.344698</td>\n",
              "      <td>1.653692</td>\n",
              "      <td>1.842450</td>\n",
              "      <td>9.039645</td>\n",
              "      <td>1.689199</td>\n",
              "      <td>13.289565</td>\n",
              "      <td>10.233950</td>\n",
              "      <td>0.878642</td>\n",
              "      <td>44.870000</td>\n",
              "    </tr>\n",
              "    <tr>\n",
              "      <th>max</th>\n",
              "      <td>5.175177</td>\n",
              "      <td>4.170786</td>\n",
              "      <td>3.116436</td>\n",
              "      <td>11.574869</td>\n",
              "      <td>5.439220</td>\n",
              "      <td>14.759022</td>\n",
              "      <td>12.354924</td>\n",
              "      <td>5.726865</td>\n",
              "      <td>82.600000</td>\n",
              "    </tr>\n",
              "  </tbody>\n",
              "</table>\n",
              "</div>"
            ],
            "text/plain": [
              "       Cement (component 1)(kg in a m^3 mixture)  ...  Concrete compressive strength(MPa, megapascals) \n",
              "count                                1005.000000  ...                                       1005.000000\n",
              "mean                                    2.670308  ...                                         35.250378\n",
              "std                                     1.000000  ...                                         16.284815\n",
              "min                                     0.977533  ...                                          2.330000\n",
              "25%                                     1.827604  ...                                         23.520000\n",
              "50%                                     2.539670  ...                                         33.800000\n",
              "75%                                     3.344698  ...                                         44.870000\n",
              "max                                     5.175177  ...                                         82.600000\n",
              "\n",
              "[8 rows x 9 columns]"
            ]
          },
          "metadata": {
            "tags": []
          },
          "execution_count": 92
        }
      ]
    },
    {
      "cell_type": "markdown",
      "metadata": {
        "id": "X1kB1paeSlvn"
      },
      "source": [
        "## Separating Data into Training and Test Datasets"
      ]
    },
    {
      "cell_type": "markdown",
      "metadata": {
        "id": "2EBK_vXUT910"
      },
      "source": [
        "Let's, first, shuffle the data."
      ]
    },
    {
      "cell_type": "code",
      "metadata": {
        "id": "TOHyO5fCUCN1"
      },
      "source": [
        "data_arr = np.asarray(data_df)"
      ],
      "execution_count": 93,
      "outputs": []
    },
    {
      "cell_type": "code",
      "metadata": {
        "id": "kHgK3VF2XrYR"
      },
      "source": [
        "np.random.seed(1234)\n",
        "np.random.shuffle(data_arr)"
      ],
      "execution_count": 94,
      "outputs": []
    },
    {
      "cell_type": "markdown",
      "metadata": {
        "id": "sAN4UtRuadWw"
      },
      "source": [
        "Now let's prepare the tensors for feeding our model."
      ]
    },
    {
      "cell_type": "code",
      "metadata": {
        "id": "rLZU9tmwSmIQ"
      },
      "source": [
        "x_train = data_arr[:int(data_arr.shape[0] * 0.5), :-1]\n",
        "y_train = data_arr[:int(data_arr.shape[0] * 0.5), -1]\n",
        "\n",
        "x_val = data_arr[int(data_arr.shape[0] * 0.5) : int(data_arr.shape[0] * 0.7), :-1]\n",
        "y_val = data_arr[int(data_arr.shape[0] * 0.5) : int(data_arr.shape[0] * 0.7), -1]\n",
        "\n",
        "x_test = data_arr[int(data_arr.shape[0] * 0.7):, :-1]\n",
        "y_test = data_arr[int(data_arr.shape[0] * 0.7):, -1]"
      ],
      "execution_count": 99,
      "outputs": []
    },
    {
      "cell_type": "code",
      "metadata": {
        "colab": {
          "base_uri": "https://localhost:8080/"
        },
        "id": "ml5tVryg1AZp",
        "outputId": "688f7693-031e-4a42-9a62-40fb1745e6c9"
      },
      "source": [
        "num_features = x_train.shape[1]\n",
        "num_features"
      ],
      "execution_count": 108,
      "outputs": [
        {
          "output_type": "execute_result",
          "data": {
            "text/plain": [
              "8"
            ]
          },
          "metadata": {
            "tags": []
          },
          "execution_count": 108
        }
      ]
    },
    {
      "cell_type": "markdown",
      "metadata": {
        "id": "Ydh4ZsqghZnS"
      },
      "source": [
        "# Build the Model"
      ]
    },
    {
      "cell_type": "code",
      "metadata": {
        "id": "SyWgJjmcS9G5"
      },
      "source": [
        "def build_model(num_hidden_units=16):\n",
        "  model = models.Sequential()\n",
        "  model.add(layers.Dense(num_hidden_units, activation='relu', input_shape=(num_features, )))\n",
        "  model.add(layers.Dense(num_hidden_units, activation='relu'))\n",
        "  model.add(layers.Dense(1))\n",
        "\n",
        "  model.compile(\n",
        "    optimizer='rmsprop',\n",
        "    loss=losses.mse,\n",
        "    metrics=['mae']\n",
        "  )\n",
        "\n",
        "  return model"
      ],
      "execution_count": 203,
      "outputs": []
    },
    {
      "cell_type": "code",
      "metadata": {
        "id": "VcraOd0h_9uj"
      },
      "source": [
        "def smooth_curve(points, factor=0.9):\n",
        "  smoothed_points = np.zeros_like(points)\n",
        "  for i, point in enumerate(points):\n",
        "    if i > 0:\n",
        "      previous = smoothed_points[i - 1]\n",
        "      smoothed_points[i] = previous * factor + point * (1- factor)\n",
        "    else:\n",
        "      smoothed_points[0] = point\n",
        "  \n",
        "  return smoothed_points"
      ],
      "execution_count": 204,
      "outputs": []
    },
    {
      "cell_type": "markdown",
      "metadata": {
        "id": "fDjMYrbGwpIW"
      },
      "source": [
        "## Exp1: Hidden Units = 2"
      ]
    },
    {
      "cell_type": "code",
      "metadata": {
        "colab": {
          "base_uri": "https://localhost:8080/",
          "height": 312
        },
        "id": "rskW4H0D067n",
        "outputId": "ec5420e4-cbc7-426d-a0f7-e0443ba6b1f1"
      },
      "source": [
        "exp_num = 1\n",
        "num_epochs = 100\n",
        "num_hidden_units = 2\n",
        "batch_size = 1\n",
        "\n",
        "model1 = build_model(num_hidden_units)\n",
        "history1 = model1.fit(\n",
        "  x_train,\n",
        "  y_train,\n",
        "  epochs=num_epochs,\n",
        "  batch_size=batch_size,\n",
        "  validation_data=(x_val, y_val),\n",
        "  verbose=False\n",
        ")\n",
        "\n",
        "train_mae_1 = history1.history['mae']\n",
        "val_mae_1 = history1.history['val_mae']\n",
        "\n",
        "plt.clf()\n",
        "plt.plot(range(1, num_epochs+1), train_mae_1)\n",
        "plt.plot(range(1, num_epochs+1), val_mae_1)\n",
        "plt.title('Exp #{e} MAE by Epochs: Hidden Units {u}'.format(\n",
        "  e=exp_num, u=num_hidden_units\n",
        "))\n",
        "plt.xlabel('Epochs')\n",
        "plt.ylabel('Mean Asolute Error')\n",
        "plt.legend(['Training MAE', 'Validation MAE'])\n",
        "plt.grid()\n",
        "plt.show()\n",
        "\n",
        "print(\"Validation MAE after 100 Epochs: {v:.4f}\".format(v=val_mae_1[-1]))"
      ],
      "execution_count": 205,
      "outputs": [
        {
          "output_type": "display_data",
          "data": {
            "image/png": "[encoded data removed]",
            "text/plain": [
              "<Figure size 432x288 with 1 Axes>"
            ]
          },
          "metadata": {
            "tags": [],
            "needs_background": "light"
          }
        },
        {
          "output_type": "stream",
          "text": [
            "Validation MAE after 100 Epochs: 13.0050\n"
          ],
          "name": "stdout"
        }
      ]
    },
    {
      "cell_type": "markdown",
      "metadata": {
        "id": "re45qHgRw_Xw"
      },
      "source": [
        "## Exp2: Hidden Units = 4"
      ]
    },
    {
      "cell_type": "code",
      "metadata": {
        "colab": {
          "base_uri": "https://localhost:8080/",
          "height": 312
        },
        "id": "jTUlrA584YkK",
        "outputId": "75624226-da7f-4740-e59b-b96d37a51ddd"
      },
      "source": [
        "exp_num = 2\n",
        "num_epochs = 100\n",
        "num_hidden_units = 4\n",
        "batch_size = 1\n",
        "\n",
        "model2 = build_model(num_hidden_units)\n",
        "history2 = model2.fit(\n",
        "  x_train,\n",
        "  y_train,\n",
        "  epochs=num_epochs,\n",
        "  batch_size=batch_size,\n",
        "  validation_data=(x_val, y_val),\n",
        "  verbose=False\n",
        ")\n",
        "\n",
        "train_mae_2 = history2.history['mae']\n",
        "val_mae_2 = history2.history['val_mae']\n",
        "\n",
        "plt.clf()\n",
        "plt.plot(range(1, num_epochs+1), train_mae_2)\n",
        "plt.plot(range(1, num_epochs+1), val_mae_2)\n",
        "plt.title('Exp #{e} MAE by Epochs: Hidden Units {u}'.format(\n",
        "  e=exp_num, u=num_hidden_units\n",
        "))\n",
        "plt.xlabel('Epochs')\n",
        "plt.ylabel('Mean Asolute Error')\n",
        "plt.legend(['Training MAE', 'Validation MAE'])\n",
        "plt.grid()\n",
        "plt.show()\n",
        "\n",
        "print(\"Validation MAE after 100 Epochs: {v:.4f}\".format(v=val_mae_2[-1]))"
      ],
      "execution_count": 206,
      "outputs": [
        {
          "output_type": "display_data",
          "data": {
            "image/png": "[encoded data removed]",
            "text/plain": [
              "<Figure size 432x288 with 1 Axes>"
            ]
          },
          "metadata": {
            "tags": [],
            "needs_background": "light"
          }
        },
        {
          "output_type": "stream",
          "text": [
            "Validation MAE after 100 Epochs: 8.0699\n"
          ],
          "name": "stdout"
        }
      ]
    },
    {
      "cell_type": "markdown",
      "metadata": {
        "id": "SPu3JwzcxFML"
      },
      "source": [
        "## Exp3: Hidden Units = 8"
      ]
    },
    {
      "cell_type": "code",
      "metadata": {
        "colab": {
          "base_uri": "https://localhost:8080/",
          "height": 312
        },
        "id": "RT6zSGb74c9E",
        "outputId": "b3a4d885-2e41-446b-e71e-cb37f9551fd2"
      },
      "source": [
        "exp_num = 3\n",
        "num_epochs = 100\n",
        "num_hidden_units = 8\n",
        "batch_size = 1\n",
        "\n",
        "model3 = build_model(num_hidden_units)\n",
        "history3 = model3.fit(\n",
        "  x_train,\n",
        "  y_train,\n",
        "  epochs=num_epochs,\n",
        "  batch_size=batch_size,\n",
        "  validation_data=(x_val, y_val),\n",
        "  verbose=False\n",
        ")\n",
        "\n",
        "train_mae_3 = history3.history['mae']\n",
        "val_mae_3 = history3.history['val_mae']\n",
        "\n",
        "plt.clf()\n",
        "plt.plot(range(1, num_epochs+1), train_mae_3)\n",
        "plt.plot(range(1, num_epochs+1), val_mae_3)\n",
        "plt.title('Exp #{e} MAE by Epochs: Hidden Units {u}'.format(\n",
        "  e=exp_num, u=num_hidden_units\n",
        "))\n",
        "plt.xlabel('Epochs')\n",
        "plt.ylabel('Mean Asolute Error')\n",
        "plt.legend(['Training MAE', 'Validation MAE'])\n",
        "plt.grid()\n",
        "plt.show()\n",
        "\n",
        "print(\"Validation MAE after 100 Epochs: {v:.4f}\".format(v=val_mae_3[-1]))\n"
      ],
      "execution_count": 207,
      "outputs": [
        {
          "output_type": "display_data",
          "data": {
            "image/png": "[encoded data removed]",
            "text/plain": [
              "<Figure size 432x288 with 1 Axes>"
            ]
          },
          "metadata": {
            "tags": [],
            "needs_background": "light"
          }
        },
        {
          "output_type": "stream",
          "text": [
            "Validation MAE after 100 Epochs: 5.8964\n"
          ],
          "name": "stdout"
        }
      ]
    },
    {
      "cell_type": "markdown",
      "metadata": {
        "id": "cF5grk6PxI0r"
      },
      "source": [
        "## Exp4: Hidden Units = 16"
      ]
    },
    {
      "cell_type": "code",
      "metadata": {
        "colab": {
          "base_uri": "https://localhost:8080/",
          "height": 312
        },
        "id": "t84sikFk7p36",
        "outputId": "6be37dc7-9176-4685-b5ba-2e3227ca8c87"
      },
      "source": [
        "exp_num = 4\n",
        "num_epochs = 100\n",
        "num_hidden_units = 16\n",
        "batch_size = 1\n",
        "\n",
        "model4 = build_model(num_hidden_units)\n",
        "history4 = model4.fit(\n",
        "  x_train,\n",
        "  y_train,\n",
        "  epochs=num_epochs,\n",
        "  batch_size=batch_size,\n",
        "  validation_data=(x_val, y_val),\n",
        "  verbose=False\n",
        ")\n",
        "\n",
        "train_mae_4 = history4.history['mae']\n",
        "val_mae_4 = history4.history['val_mae']\n",
        "\n",
        "plt.clf()\n",
        "plt.plot(range(1, num_epochs+1), train_mae_4)\n",
        "plt.plot(range(1, num_epochs+1), val_mae_4)\n",
        "plt.title('Exp #{e} MAE by Epochs: Hidden Units {u}'.format(\n",
        "  e=exp_num, u=num_hidden_units\n",
        "))\n",
        "plt.xlabel('Epochs')\n",
        "plt.ylabel('Mean Asolute Error')\n",
        "plt.legend(['Training MAE', 'Validation MAE'])\n",
        "plt.grid()\n",
        "plt.show()\n",
        "\n",
        "print(\"Validation MAE after 100 Epochs: {v:.4f}\".format(v=val_mae_4[-1]))"
      ],
      "execution_count": 208,
      "outputs": [
        {
          "output_type": "display_data",
          "data": {
            "image/png": "[encoded data removed]",
            "text/plain": [
              "<Figure size 432x288 with 1 Axes>"
            ]
          },
          "metadata": {
            "tags": [],
            "needs_background": "light"
          }
        },
        {
          "output_type": "stream",
          "text": [
            "Validation MAE after 100 Epochs: 5.9658\n"
          ],
          "name": "stdout"
        }
      ]
    },
    {
      "cell_type": "markdown",
      "metadata": {
        "id": "YNL9KnnwxLtU"
      },
      "source": [
        "## Exp5: Hidden Units = 32"
      ]
    },
    {
      "cell_type": "code",
      "metadata": {
        "colab": {
          "base_uri": "https://localhost:8080/",
          "height": 312
        },
        "id": "8JWjvH6G71CD",
        "outputId": "a1ff00cc-3cb5-40d1-d294-155a06405133"
      },
      "source": [
        "exp_num = 5\n",
        "num_epochs = 100\n",
        "num_hidden_units = 32\n",
        "batch_size = 1\n",
        "\n",
        "model5 = build_model(num_hidden_units)\n",
        "history5 = model5.fit(\n",
        "  x_train,\n",
        "  y_train,\n",
        "  epochs=num_epochs,\n",
        "  batch_size=batch_size,\n",
        "  validation_data=(x_val, y_val),\n",
        "  verbose=False\n",
        ")\n",
        "\n",
        "train_mae_5 = history5.history['mae']\n",
        "val_mae_5 = history5.history['val_mae']\n",
        "\n",
        "plt.clf()\n",
        "plt.plot(range(1, num_epochs+1), train_mae_5)\n",
        "plt.plot(range(1, num_epochs+1), val_mae_5)\n",
        "plt.title('Exp #{e} MAE by Epochs: Hidden Units {u}'.format(\n",
        "  e=exp_num, u=num_hidden_units\n",
        "))\n",
        "plt.xlabel('Epochs')\n",
        "plt.ylabel('Mean Asolute Error')\n",
        "plt.legend(['Training MAE', 'Validation MAE'])\n",
        "plt.grid()\n",
        "plt.show()\n",
        "\n",
        "print(\"Validation MAE after 100 Epochs: {v:.4f}\".format(v=val_mae_5[-1]))"
      ],
      "execution_count": 209,
      "outputs": [
        {
          "output_type": "display_data",
          "data": {
            "image/png": "[encoded data removed]",
            "text/plain": [
              "<Figure size 432x288 with 1 Axes>"
            ]
          },
          "metadata": {
            "tags": [],
            "needs_background": "light"
          }
        },
        {
          "output_type": "stream",
          "text": [
            "Validation MAE after 100 Epochs: 5.3395\n"
          ],
          "name": "stdout"
        }
      ]
    },
    {
      "cell_type": "markdown",
      "metadata": {
        "id": "X1JDx8-uxOGa"
      },
      "source": [
        "## Exp6: Hidden Units = 64"
      ]
    },
    {
      "cell_type": "code",
      "metadata": {
        "colab": {
          "base_uri": "https://localhost:8080/",
          "height": 312
        },
        "id": "gd5mp4nFCRrB",
        "outputId": "0f525695-2d61-4974-a380-b6f3f598296b"
      },
      "source": [
        "exp_num = 6\n",
        "num_epochs = 100\n",
        "num_hidden_units = 64\n",
        "batch_size = 1\n",
        "\n",
        "model6 = build_model(num_hidden_units)\n",
        "history6 = model6.fit(\n",
        "  x_train,\n",
        "  y_train,\n",
        "  epochs=num_epochs,\n",
        "  batch_size=batch_size,\n",
        "  validation_data=(x_val, y_val),\n",
        "  verbose=False\n",
        ")\n",
        "\n",
        "train_mae_6 = history6.history['mae']\n",
        "val_mae_6 = history6.history['val_mae']\n",
        "\n",
        "plt.clf()\n",
        "plt.plot(range(1, num_epochs+1), train_mae_6)\n",
        "plt.plot(range(1, num_epochs+1), val_mae_6)\n",
        "plt.title('Exp #{e} MAE by Epochs: Hidden Units {u}'.format(\n",
        "  e=exp_num, u=num_hidden_units\n",
        "))\n",
        "plt.xlabel('Epochs')\n",
        "plt.ylabel('Mean Asolute Error')\n",
        "plt.legend(['Training MAE', 'Validation MAE'])\n",
        "plt.grid()\n",
        "plt.show()\n",
        "\n",
        "print(\"Validation MAE after 100 Epochs: {v:.4f}\".format(v=val_mae_6[-1]))"
      ],
      "execution_count": 210,
      "outputs": [
        {
          "output_type": "display_data",
          "data": {
            "image/png": "[encoded data removed]",
            "text/plain": [
              "<Figure size 432x288 with 1 Axes>"
            ]
          },
          "metadata": {
            "tags": [],
            "needs_background": "light"
          }
        },
        {
          "output_type": "stream",
          "text": [
            "Validation MAE after 100 Epochs: 6.0500\n"
          ],
          "name": "stdout"
        }
      ]
    },
    {
      "cell_type": "markdown",
      "metadata": {
        "id": "BbkxIbwexQuH"
      },
      "source": [
        "## Exp7: Hidden Units = 128"
      ]
    },
    {
      "cell_type": "code",
      "metadata": {
        "colab": {
          "base_uri": "https://localhost:8080/",
          "height": 312
        },
        "id": "wFehcDOTFJ6O",
        "outputId": "6b7ff2c3-5290-421e-da26-9aa20a26a445"
      },
      "source": [
        "exp_num = 7\n",
        "num_epochs = 100\n",
        "num_hidden_units = 128\n",
        "batch_size = 1\n",
        "\n",
        "model7 = build_model(num_hidden_units)\n",
        "history7 = model7.fit(\n",
        "  x_train,\n",
        "  y_train,\n",
        "  epochs=num_epochs,\n",
        "  batch_size=batch_size,\n",
        "  validation_data=(x_val, y_val),\n",
        "  verbose=False\n",
        ")\n",
        "\n",
        "train_mae_7 = history7.history['mae']\n",
        "val_mae_7 = history7.history['val_mae']\n",
        "\n",
        "plt.clf()\n",
        "plt.plot(range(1, num_epochs+1), train_mae_7)\n",
        "plt.plot(range(1, num_epochs+1), val_mae_7)\n",
        "plt.title('Exp #{e} MAE by Epochs: Hidden Units {u}'.format(\n",
        "  e=exp_num, u=num_hidden_units\n",
        "))\n",
        "plt.xlabel('Epochs')\n",
        "plt.ylabel('Mean Asolute Error')\n",
        "plt.legend(['Training MAE', 'Validation MAE'])\n",
        "plt.grid()\n",
        "plt.show()\n",
        "\n",
        "print(\"Validation MAE after 100 Epochs: {v:.4f}\".format(v=val_mae_7[-1]))"
      ],
      "execution_count": 211,
      "outputs": [
        {
          "output_type": "display_data",
          "data": {
            "image/png": "[encoded data removed]",
            "text/plain": [
              "<Figure size 432x288 with 1 Axes>"
            ]
          },
          "metadata": {
            "tags": [],
            "needs_background": "light"
          }
        },
        {
          "output_type": "stream",
          "text": [
            "Validation MAE after 100 Epochs: 6.0120\n"
          ],
          "name": "stdout"
        }
      ]
    },
    {
      "cell_type": "markdown",
      "metadata": {
        "id": "OgdvmcNxxUay"
      },
      "source": [
        "## Exp8: Hidden Units = 256"
      ]
    },
    {
      "cell_type": "code",
      "metadata": {
        "colab": {
          "base_uri": "https://localhost:8080/",
          "height": 312
        },
        "id": "GBOAaAs0Fshy",
        "outputId": "2dd08047-db45-4d84-ce16-188a4c6c758a"
      },
      "source": [
        "exp_num = 8\n",
        "num_epochs = 100\n",
        "num_hidden_units = 256\n",
        "batch_size = 1\n",
        "\n",
        "model8 = build_model(num_hidden_units)\n",
        "history8 = model8.fit(\n",
        "  x_train,\n",
        "  y_train,\n",
        "  epochs=num_epochs,\n",
        "  batch_size=batch_size,\n",
        "  validation_data=(x_val, y_val),\n",
        "  verbose=False\n",
        ")\n",
        "\n",
        "train_mae_8 = history8.history['mae']\n",
        "val_mae_8 = history8.history['val_mae']\n",
        "\n",
        "plt.clf()\n",
        "plt.plot(range(1, num_epochs+1), train_mae_8)\n",
        "plt.plot(range(1, num_epochs+1), val_mae_8)\n",
        "plt.title('Exp #{e} MAE by Epochs: Hidden Units {u}'.format(\n",
        "  e=exp_num, u=num_hidden_units\n",
        "))\n",
        "plt.xlabel('Epochs')\n",
        "plt.ylabel('Mean Asolute Error')\n",
        "plt.legend(['Training MAE', 'Validation MAE'])\n",
        "plt.grid()\n",
        "plt.show()\n",
        "\n",
        "print(\"Validation MAE after 100 Epochs: {v:.4f}\".format(v=val_mae_8[-1]))"
      ],
      "execution_count": 212,
      "outputs": [
        {
          "output_type": "display_data",
          "data": {
            "image/png": "[encoded data removed]",
            "text/plain": [
              "<Figure size 432x288 with 1 Axes>"
            ]
          },
          "metadata": {
            "tags": [],
            "needs_background": "light"
          }
        },
        {
          "output_type": "stream",
          "text": [
            "Validation MAE after 100 Epochs: 4.6824\n"
          ],
          "name": "stdout"
        }
      ]
    },
    {
      "cell_type": "markdown",
      "metadata": {
        "id": "N7LMm0pjxYcN"
      },
      "source": [
        "## Comparing the Results for Varying Number of Hidden Units"
      ]
    },
    {
      "cell_type": "code",
      "metadata": {
        "colab": {
          "base_uri": "https://localhost:8080/",
          "height": 295
        },
        "id": "Gc1w67Wm8JSj",
        "outputId": "7c5c96ea-f8f0-476e-b304-fac300ab1510"
      },
      "source": [
        "total_experiments = 8\n",
        "plt.clf()\n",
        "plt.plot(range(11, num_epochs+1), smooth_curve(val_mae_1[10:]))\n",
        "plt.plot(range(11, num_epochs+1), smooth_curve(val_mae_2[10:]))\n",
        "plt.plot(range(11, num_epochs+1), smooth_curve(val_mae_3[10:]))\n",
        "plt.plot(range(11, num_epochs+1), smooth_curve(val_mae_4[10:]))\n",
        "plt.plot(range(11, num_epochs+1), smooth_curve(val_mae_5[10:]))\n",
        "plt.plot(range(11, num_epochs+1), smooth_curve(val_mae_6[10:]))\n",
        "plt.plot(range(11, num_epochs+1), smooth_curve(val_mae_7[10:]))\n",
        "plt.plot(range(11, num_epochs+1), smooth_curve(val_mae_8[10:]))\n",
        "plt.title('Comparison of Validation MAE for 1 Hidden Layer and Varying Hidden Units')\n",
        "plt.xlabel('Epochs')\n",
        "plt.ylabel('Mean Asolute Error')\n",
        "plt.legend([\n",
        "  '{units} Hidden Units'.format(units=2**i) for i in range(1, total_experiments + 1)\n",
        "], loc='upper right')\n",
        "plt.grid()\n",
        "plt.show()"
      ],
      "execution_count": 236,
      "outputs": [
        {
          "output_type": "display_data",
          "data": {
            "image/png": "[encoded data removed]",
            "text/plain": [
              "<Figure size 432x288 with 1 Axes>"
            ]
          },
          "metadata": {
            "tags": [],
            "needs_background": "light"
          }
        }
      ]
    },
    {
      "cell_type": "markdown",
      "metadata": {
        "id": "dVtydBhtx1Iu"
      },
      "source": [
        "After comparing the results of these models, it can be seen that the model in experiment 8 with 256 hidden units performs best."
      ]
    },
    {
      "cell_type": "markdown",
      "metadata": {
        "id": "--5C_NqNyL9M"
      },
      "source": [
        "# Final Model"
      ]
    },
    {
      "cell_type": "code",
      "metadata": {
        "id": "R0zKQ8hiyN2R"
      },
      "source": [
        "model = build_model(num_hidden_units=256)"
      ],
      "execution_count": 267,
      "outputs": []
    },
    {
      "cell_type": "code",
      "metadata": {
        "colab": {
          "base_uri": "https://localhost:8080/"
        },
        "id": "7UpPVQ9lyYUS",
        "outputId": "6c4308d1-b2e6-4888-ec50-5a36c5a77c93"
      },
      "source": [
        "model.fit(\n",
        "  x_train,\n",
        "  y_train,\n",
        "  epochs=100,\n",
        "  batch_size=1,\n",
        "  verbose=0\n",
        ")"
      ],
      "execution_count": 268,
      "outputs": [
        {
          "output_type": "execute_result",
          "data": {
            "text/plain": [
              "<tensorflow.python.keras.callbacks.History at 0x7ff1f49a8b50>"
            ]
          },
          "metadata": {
            "tags": []
          },
          "execution_count": 268
        }
      ]
    },
    {
      "cell_type": "code",
      "metadata": {
        "colab": {
          "base_uri": "https://localhost:8080/"
        },
        "id": "lEzmCmb5vQnx",
        "outputId": "ca16dd7b-841b-4a94-e556-54dd8aad8867"
      },
      "source": [
        "model.evaluate(x_test, y_test)"
      ],
      "execution_count": 269,
      "outputs": [
        {
          "output_type": "stream",
          "text": [
            "10/10 [==============================] - 0s 2ms/step - loss: 40.4235 - mae: 4.5041\n"
          ],
          "name": "stdout"
        },
        {
          "output_type": "execute_result",
          "data": {
            "text/plain": [
              "[40.42353820800781, 4.5041375160217285]"
            ]
          },
          "metadata": {
            "tags": []
          },
          "execution_count": 269
        }
      ]
    }
  ]
}