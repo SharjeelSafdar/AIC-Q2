{
  "nbformat": 4,
  "nbformat_minor": 0,
  "metadata": {
    "colab": {
      "name": "ionosphere-assignment.ipynb",
      "provenance": [],
      "collapsed_sections": []
    },
    "kernelspec": {
      "name": "python3",
      "display_name": "Python 3"
    },
    "language_info": {
      "name": "python"
    }
  },
  "cells": [
    {
      "cell_type": "markdown",
      "metadata": {
        "id": "9zmdpgFRAjoF"
      },
      "source": [
        "<h1 align=\"center\">DL Assignment: Ionosphere Data Problem (Binary Classification)</h1>"
      ]
    },
    {
      "cell_type": "code",
      "metadata": {
        "id": "ukI-SmEyAdhy"
      },
      "source": [
        "import numpy as np\n",
        "import pandas as pd\n",
        "\n",
        "from keras import models\n",
        "from keras import layers\n",
        "from keras import regularizers\n",
        "\n",
        "import matplotlib.pyplot as plt"
      ],
      "execution_count": 4,
      "outputs": []
    },
    {
      "cell_type": "markdown",
      "metadata": {
        "id": "2EzZ9V9jEUy6"
      },
      "source": [
        "# Loading Data and Preprocessing"
      ]
    },
    {
      "cell_type": "code",
      "metadata": {
        "colab": {
          "base_uri": "https://localhost:8080/",
          "height": 224
        },
        "id": "1gRdlOV-EPPw",
        "outputId": "1ffc8d74-cd76-49c4-ac11-598ccc366c02"
      },
      "source": [
        "ionosphere_df = pd.read_csv(\"./ionosphere_data.csv\")\n",
        "ionosphere_df.head()"
      ],
      "execution_count": 5,
      "outputs": [
        {
          "output_type": "execute_result",
          "data": {
            "text/html": [
              "<div>\n",
              "<style scoped>\n",
              "    .dataframe tbody tr th:only-of-type {\n",
              "        vertical-align: middle;\n",
              "    }\n",
              "\n",
              "    .dataframe tbody tr th {\n",
              "        vertical-align: top;\n",
              "    }\n",
              "\n",
              "    .dataframe thead th {\n",
              "        text-align: right;\n",
              "    }\n",
              "</style>\n",
              "<table border=\"1\" class=\"dataframe\">\n",
              "  <thead>\n",
              "    <tr style=\"text-align: right;\">\n",
              "      <th></th>\n",
              "      <th>feature1</th>\n",
              "      <th>feature2</th>\n",
              "      <th>feature3</th>\n",
              "      <th>feature4</th>\n",
              "      <th>feature5</th>\n",
              "      <th>feature6</th>\n",
              "      <th>feature7</th>\n",
              "      <th>feature8</th>\n",
              "      <th>feature9</th>\n",
              "      <th>feature10</th>\n",
              "      <th>feature11</th>\n",
              "      <th>feature12</th>\n",
              "      <th>feature13</th>\n",
              "      <th>feature14</th>\n",
              "      <th>feature15</th>\n",
              "      <th>feature16</th>\n",
              "      <th>feature17</th>\n",
              "      <th>feature18</th>\n",
              "      <th>feature19</th>\n",
              "      <th>feature20</th>\n",
              "      <th>feature21</th>\n",
              "      <th>feature22</th>\n",
              "      <th>feature23</th>\n",
              "      <th>feature24</th>\n",
              "      <th>feature25</th>\n",
              "      <th>feature26</th>\n",
              "      <th>feature27</th>\n",
              "      <th>feature28</th>\n",
              "      <th>feature29</th>\n",
              "      <th>feature30</th>\n",
              "      <th>feature31</th>\n",
              "      <th>feature32</th>\n",
              "      <th>feature33</th>\n",
              "      <th>feature34</th>\n",
              "      <th>label</th>\n",
              "    </tr>\n",
              "  </thead>\n",
              "  <tbody>\n",
              "    <tr>\n",
              "      <th>0</th>\n",
              "      <td>1</td>\n",
              "      <td>0</td>\n",
              "      <td>0.99539</td>\n",
              "      <td>-0.05889</td>\n",
              "      <td>0.85243</td>\n",
              "      <td>0.02306</td>\n",
              "      <td>0.83398</td>\n",
              "      <td>-0.37708</td>\n",
              "      <td>1.00000</td>\n",
              "      <td>0.03760</td>\n",
              "      <td>0.85243</td>\n",
              "      <td>-0.17755</td>\n",
              "      <td>0.59755</td>\n",
              "      <td>-0.44945</td>\n",
              "      <td>0.60536</td>\n",
              "      <td>-0.38223</td>\n",
              "      <td>0.84356</td>\n",
              "      <td>-0.38542</td>\n",
              "      <td>0.58212</td>\n",
              "      <td>-0.32192</td>\n",
              "      <td>0.56971</td>\n",
              "      <td>-0.29674</td>\n",
              "      <td>0.36946</td>\n",
              "      <td>-0.47357</td>\n",
              "      <td>0.56811</td>\n",
              "      <td>-0.51171</td>\n",
              "      <td>0.41078</td>\n",
              "      <td>-0.46168</td>\n",
              "      <td>0.21266</td>\n",
              "      <td>-0.34090</td>\n",
              "      <td>0.42267</td>\n",
              "      <td>-0.54487</td>\n",
              "      <td>0.18641</td>\n",
              "      <td>-0.45300</td>\n",
              "      <td>g</td>\n",
              "    </tr>\n",
              "    <tr>\n",
              "      <th>1</th>\n",
              "      <td>1</td>\n",
              "      <td>0</td>\n",
              "      <td>1.00000</td>\n",
              "      <td>-0.18829</td>\n",
              "      <td>0.93035</td>\n",
              "      <td>-0.36156</td>\n",
              "      <td>-0.10868</td>\n",
              "      <td>-0.93597</td>\n",
              "      <td>1.00000</td>\n",
              "      <td>-0.04549</td>\n",
              "      <td>0.50874</td>\n",
              "      <td>-0.67743</td>\n",
              "      <td>0.34432</td>\n",
              "      <td>-0.69707</td>\n",
              "      <td>-0.51685</td>\n",
              "      <td>-0.97515</td>\n",
              "      <td>0.05499</td>\n",
              "      <td>-0.62237</td>\n",
              "      <td>0.33109</td>\n",
              "      <td>-1.00000</td>\n",
              "      <td>-0.13151</td>\n",
              "      <td>-0.45300</td>\n",
              "      <td>-0.18056</td>\n",
              "      <td>-0.35734</td>\n",
              "      <td>-0.20332</td>\n",
              "      <td>-0.26569</td>\n",
              "      <td>-0.20468</td>\n",
              "      <td>-0.18401</td>\n",
              "      <td>-0.19040</td>\n",
              "      <td>-0.11593</td>\n",
              "      <td>-0.16626</td>\n",
              "      <td>-0.06288</td>\n",
              "      <td>-0.13738</td>\n",
              "      <td>-0.02447</td>\n",
              "      <td>b</td>\n",
              "    </tr>\n",
              "    <tr>\n",
              "      <th>2</th>\n",
              "      <td>1</td>\n",
              "      <td>0</td>\n",
              "      <td>1.00000</td>\n",
              "      <td>-0.03365</td>\n",
              "      <td>1.00000</td>\n",
              "      <td>0.00485</td>\n",
              "      <td>1.00000</td>\n",
              "      <td>-0.12062</td>\n",
              "      <td>0.88965</td>\n",
              "      <td>0.01198</td>\n",
              "      <td>0.73082</td>\n",
              "      <td>0.05346</td>\n",
              "      <td>0.85443</td>\n",
              "      <td>0.00827</td>\n",
              "      <td>0.54591</td>\n",
              "      <td>0.00299</td>\n",
              "      <td>0.83775</td>\n",
              "      <td>-0.13644</td>\n",
              "      <td>0.75535</td>\n",
              "      <td>-0.08540</td>\n",
              "      <td>0.70887</td>\n",
              "      <td>-0.27502</td>\n",
              "      <td>0.43385</td>\n",
              "      <td>-0.12062</td>\n",
              "      <td>0.57528</td>\n",
              "      <td>-0.40220</td>\n",
              "      <td>0.58984</td>\n",
              "      <td>-0.22145</td>\n",
              "      <td>0.43100</td>\n",
              "      <td>-0.17365</td>\n",
              "      <td>0.60436</td>\n",
              "      <td>-0.24180</td>\n",
              "      <td>0.56045</td>\n",
              "      <td>-0.38238</td>\n",
              "      <td>g</td>\n",
              "    </tr>\n",
              "    <tr>\n",
              "      <th>3</th>\n",
              "      <td>1</td>\n",
              "      <td>0</td>\n",
              "      <td>1.00000</td>\n",
              "      <td>-0.45161</td>\n",
              "      <td>1.00000</td>\n",
              "      <td>1.00000</td>\n",
              "      <td>0.71216</td>\n",
              "      <td>-1.00000</td>\n",
              "      <td>0.00000</td>\n",
              "      <td>0.00000</td>\n",
              "      <td>0.00000</td>\n",
              "      <td>0.00000</td>\n",
              "      <td>0.00000</td>\n",
              "      <td>0.00000</td>\n",
              "      <td>-1.00000</td>\n",
              "      <td>0.14516</td>\n",
              "      <td>0.54094</td>\n",
              "      <td>-0.39330</td>\n",
              "      <td>-1.00000</td>\n",
              "      <td>-0.54467</td>\n",
              "      <td>-0.69975</td>\n",
              "      <td>1.00000</td>\n",
              "      <td>0.00000</td>\n",
              "      <td>0.00000</td>\n",
              "      <td>1.00000</td>\n",
              "      <td>0.90695</td>\n",
              "      <td>0.51613</td>\n",
              "      <td>1.00000</td>\n",
              "      <td>1.00000</td>\n",
              "      <td>-0.20099</td>\n",
              "      <td>0.25682</td>\n",
              "      <td>1.00000</td>\n",
              "      <td>-0.32382</td>\n",
              "      <td>1.00000</td>\n",
              "      <td>b</td>\n",
              "    </tr>\n",
              "    <tr>\n",
              "      <th>4</th>\n",
              "      <td>1</td>\n",
              "      <td>0</td>\n",
              "      <td>1.00000</td>\n",
              "      <td>-0.02401</td>\n",
              "      <td>0.94140</td>\n",
              "      <td>0.06531</td>\n",
              "      <td>0.92106</td>\n",
              "      <td>-0.23255</td>\n",
              "      <td>0.77152</td>\n",
              "      <td>-0.16399</td>\n",
              "      <td>0.52798</td>\n",
              "      <td>-0.20275</td>\n",
              "      <td>0.56409</td>\n",
              "      <td>-0.00712</td>\n",
              "      <td>0.34395</td>\n",
              "      <td>-0.27457</td>\n",
              "      <td>0.52940</td>\n",
              "      <td>-0.21780</td>\n",
              "      <td>0.45107</td>\n",
              "      <td>-0.17813</td>\n",
              "      <td>0.05982</td>\n",
              "      <td>-0.35575</td>\n",
              "      <td>0.02309</td>\n",
              "      <td>-0.52879</td>\n",
              "      <td>0.03286</td>\n",
              "      <td>-0.65158</td>\n",
              "      <td>0.13290</td>\n",
              "      <td>-0.53206</td>\n",
              "      <td>0.02431</td>\n",
              "      <td>-0.62197</td>\n",
              "      <td>-0.05707</td>\n",
              "      <td>-0.59573</td>\n",
              "      <td>-0.04608</td>\n",
              "      <td>-0.65697</td>\n",
              "      <td>g</td>\n",
              "    </tr>\n",
              "  </tbody>\n",
              "</table>\n",
              "</div>"
            ],
            "text/plain": [
              "   feature1  feature2  feature3  ...  feature33  feature34  label\n",
              "0         1         0   0.99539  ...    0.18641   -0.45300      g\n",
              "1         1         0   1.00000  ...   -0.13738   -0.02447      b\n",
              "2         1         0   1.00000  ...    0.56045   -0.38238      g\n",
              "3         1         0   1.00000  ...   -0.32382    1.00000      b\n",
              "4         1         0   1.00000  ...   -0.04608   -0.65697      g\n",
              "\n",
              "[5 rows x 35 columns]"
            ]
          },
          "metadata": {
            "tags": []
          },
          "execution_count": 5
        }
      ]
    },
    {
      "cell_type": "markdown",
      "metadata": {
        "id": "BAqS_9hzMWFj"
      },
      "source": [
        "## Checking for Missing Values"
      ]
    },
    {
      "cell_type": "markdown",
      "metadata": {
        "id": "10IwA9QkMXAi"
      },
      "source": [
        "There are no missing values in the data."
      ]
    },
    {
      "cell_type": "code",
      "metadata": {
        "colab": {
          "base_uri": "https://localhost:8080/"
        },
        "id": "eBr4OEh1MCSj",
        "outputId": "3549d8ba-c336-432d-dc4e-b67d52c695a3"
      },
      "source": [
        "ionosphere_df.isna().any().any()"
      ],
      "execution_count": 6,
      "outputs": [
        {
          "output_type": "execute_result",
          "data": {
            "text/plain": [
              "False"
            ]
          },
          "metadata": {
            "tags": []
          },
          "execution_count": 6
        }
      ]
    },
    {
      "cell_type": "markdown",
      "metadata": {
        "id": "5Yhz-KOPMbWh"
      },
      "source": [
        "## Removing Duplicates"
      ]
    },
    {
      "cell_type": "markdown",
      "metadata": {
        "id": "ITu9sL73McBB"
      },
      "source": [
        "There is only 1 duplicate row"
      ]
    },
    {
      "cell_type": "code",
      "metadata": {
        "colab": {
          "base_uri": "https://localhost:8080/",
          "height": 100
        },
        "id": "oKe1HdjNMfOR",
        "outputId": "9f9c8ed3-e251-4236-e194-d6e0870cbdd4"
      },
      "source": [
        "ionosphere_df[ionosphere_df.duplicated()]"
      ],
      "execution_count": 7,
      "outputs": [
        {
          "output_type": "execute_result",
          "data": {
            "text/html": [
              "<div>\n",
              "<style scoped>\n",
              "    .dataframe tbody tr th:only-of-type {\n",
              "        vertical-align: middle;\n",
              "    }\n",
              "\n",
              "    .dataframe tbody tr th {\n",
              "        vertical-align: top;\n",
              "    }\n",
              "\n",
              "    .dataframe thead th {\n",
              "        text-align: right;\n",
              "    }\n",
              "</style>\n",
              "<table border=\"1\" class=\"dataframe\">\n",
              "  <thead>\n",
              "    <tr style=\"text-align: right;\">\n",
              "      <th></th>\n",
              "      <th>feature1</th>\n",
              "      <th>feature2</th>\n",
              "      <th>feature3</th>\n",
              "      <th>feature4</th>\n",
              "      <th>feature5</th>\n",
              "      <th>feature6</th>\n",
              "      <th>feature7</th>\n",
              "      <th>feature8</th>\n",
              "      <th>feature9</th>\n",
              "      <th>feature10</th>\n",
              "      <th>feature11</th>\n",
              "      <th>feature12</th>\n",
              "      <th>feature13</th>\n",
              "      <th>feature14</th>\n",
              "      <th>feature15</th>\n",
              "      <th>feature16</th>\n",
              "      <th>feature17</th>\n",
              "      <th>feature18</th>\n",
              "      <th>feature19</th>\n",
              "      <th>feature20</th>\n",
              "      <th>feature21</th>\n",
              "      <th>feature22</th>\n",
              "      <th>feature23</th>\n",
              "      <th>feature24</th>\n",
              "      <th>feature25</th>\n",
              "      <th>feature26</th>\n",
              "      <th>feature27</th>\n",
              "      <th>feature28</th>\n",
              "      <th>feature29</th>\n",
              "      <th>feature30</th>\n",
              "      <th>feature31</th>\n",
              "      <th>feature32</th>\n",
              "      <th>feature33</th>\n",
              "      <th>feature34</th>\n",
              "      <th>label</th>\n",
              "    </tr>\n",
              "  </thead>\n",
              "  <tbody>\n",
              "    <tr>\n",
              "      <th>248</th>\n",
              "      <td>0</td>\n",
              "      <td>0</td>\n",
              "      <td>0.0</td>\n",
              "      <td>0.0</td>\n",
              "      <td>0.0</td>\n",
              "      <td>0.0</td>\n",
              "      <td>0.0</td>\n",
              "      <td>0.0</td>\n",
              "      <td>0.0</td>\n",
              "      <td>0.0</td>\n",
              "      <td>0.0</td>\n",
              "      <td>0.0</td>\n",
              "      <td>0.0</td>\n",
              "      <td>0.0</td>\n",
              "      <td>0.0</td>\n",
              "      <td>0.0</td>\n",
              "      <td>0.0</td>\n",
              "      <td>0.0</td>\n",
              "      <td>0.0</td>\n",
              "      <td>0.0</td>\n",
              "      <td>0.0</td>\n",
              "      <td>0.0</td>\n",
              "      <td>0.0</td>\n",
              "      <td>0.0</td>\n",
              "      <td>0.0</td>\n",
              "      <td>0.0</td>\n",
              "      <td>1.0</td>\n",
              "      <td>-1.0</td>\n",
              "      <td>0.0</td>\n",
              "      <td>0.0</td>\n",
              "      <td>0.0</td>\n",
              "      <td>0.0</td>\n",
              "      <td>0.0</td>\n",
              "      <td>0.0</td>\n",
              "      <td>b</td>\n",
              "    </tr>\n",
              "  </tbody>\n",
              "</table>\n",
              "</div>"
            ],
            "text/plain": [
              "     feature1  feature2  feature3  ...  feature33  feature34  label\n",
              "248         0         0       0.0  ...        0.0        0.0      b\n",
              "\n",
              "[1 rows x 35 columns]"
            ]
          },
          "metadata": {
            "tags": []
          },
          "execution_count": 7
        }
      ]
    },
    {
      "cell_type": "markdown",
      "metadata": {
        "id": "J4fjnnSfM5mD"
      },
      "source": [
        "Dropping the duplicates..."
      ]
    },
    {
      "cell_type": "code",
      "metadata": {
        "id": "pAxiLoMbM7t6"
      },
      "source": [
        "ionosphere_df.drop_duplicates(inplace=True)"
      ],
      "execution_count": 8,
      "outputs": []
    },
    {
      "cell_type": "markdown",
      "metadata": {
        "id": "XOr-0qCzNOJi"
      },
      "source": [
        "## Data Normalization and Vectorization"
      ]
    },
    {
      "cell_type": "markdown",
      "metadata": {
        "id": "h5z2SsICNO6C"
      },
      "source": [
        "All the features range between -1 and 1. So, there is no need for normalization."
      ]
    },
    {
      "cell_type": "code",
      "metadata": {
        "colab": {
          "base_uri": "https://localhost:8080/",
          "height": 317
        },
        "id": "1mlQNAwyNQvC",
        "outputId": "a2455ee7-ee36-4efe-bf95-e29b0ad8c91b"
      },
      "source": [
        "data_stats = ionosphere_df.describe()\n",
        "data_stats"
      ],
      "execution_count": 9,
      "outputs": [
        {
          "output_type": "execute_result",
          "data": {
            "text/html": [
              "<div>\n",
              "<style scoped>\n",
              "    .dataframe tbody tr th:only-of-type {\n",
              "        vertical-align: middle;\n",
              "    }\n",
              "\n",
              "    .dataframe tbody tr th {\n",
              "        vertical-align: top;\n",
              "    }\n",
              "\n",
              "    .dataframe thead th {\n",
              "        text-align: right;\n",
              "    }\n",
              "</style>\n",
              "<table border=\"1\" class=\"dataframe\">\n",
              "  <thead>\n",
              "    <tr style=\"text-align: right;\">\n",
              "      <th></th>\n",
              "      <th>feature1</th>\n",
              "      <th>feature2</th>\n",
              "      <th>feature3</th>\n",
              "      <th>feature4</th>\n",
              "      <th>feature5</th>\n",
              "      <th>feature6</th>\n",
              "      <th>feature7</th>\n",
              "      <th>feature8</th>\n",
              "      <th>feature9</th>\n",
              "      <th>feature10</th>\n",
              "      <th>feature11</th>\n",
              "      <th>feature12</th>\n",
              "      <th>feature13</th>\n",
              "      <th>feature14</th>\n",
              "      <th>feature15</th>\n",
              "      <th>feature16</th>\n",
              "      <th>feature17</th>\n",
              "      <th>feature18</th>\n",
              "      <th>feature19</th>\n",
              "      <th>feature20</th>\n",
              "      <th>feature21</th>\n",
              "      <th>feature22</th>\n",
              "      <th>feature23</th>\n",
              "      <th>feature24</th>\n",
              "      <th>feature25</th>\n",
              "      <th>feature26</th>\n",
              "      <th>feature27</th>\n",
              "      <th>feature28</th>\n",
              "      <th>feature29</th>\n",
              "      <th>feature30</th>\n",
              "      <th>feature31</th>\n",
              "      <th>feature32</th>\n",
              "      <th>feature33</th>\n",
              "      <th>feature34</th>\n",
              "    </tr>\n",
              "  </thead>\n",
              "  <tbody>\n",
              "    <tr>\n",
              "      <th>count</th>\n",
              "      <td>350.000000</td>\n",
              "      <td>350.0</td>\n",
              "      <td>350.000000</td>\n",
              "      <td>350.000000</td>\n",
              "      <td>350.000000</td>\n",
              "      <td>350.000000</td>\n",
              "      <td>350.000000</td>\n",
              "      <td>350.000000</td>\n",
              "      <td>350.000000</td>\n",
              "      <td>350.000000</td>\n",
              "      <td>350.000000</td>\n",
              "      <td>350.000000</td>\n",
              "      <td>350.000000</td>\n",
              "      <td>350.000000</td>\n",
              "      <td>350.000000</td>\n",
              "      <td>350.000000</td>\n",
              "      <td>350.000000</td>\n",
              "      <td>350.000000</td>\n",
              "      <td>350.000000</td>\n",
              "      <td>350.000000</td>\n",
              "      <td>350.000000</td>\n",
              "      <td>350.000000</td>\n",
              "      <td>350.000000</td>\n",
              "      <td>350.000000</td>\n",
              "      <td>350.000000</td>\n",
              "      <td>350.000000</td>\n",
              "      <td>350.000000</td>\n",
              "      <td>350.000000</td>\n",
              "      <td>350.000000</td>\n",
              "      <td>350.000000</td>\n",
              "      <td>350.000000</td>\n",
              "      <td>350.000000</td>\n",
              "      <td>350.000000</td>\n",
              "      <td>350.000000</td>\n",
              "    </tr>\n",
              "    <tr>\n",
              "      <th>mean</th>\n",
              "      <td>0.894286</td>\n",
              "      <td>0.0</td>\n",
              "      <td>0.643174</td>\n",
              "      <td>0.044499</td>\n",
              "      <td>0.602785</td>\n",
              "      <td>0.116220</td>\n",
              "      <td>0.551667</td>\n",
              "      <td>0.119701</td>\n",
              "      <td>0.513311</td>\n",
              "      <td>0.181864</td>\n",
              "      <td>0.477543</td>\n",
              "      <td>0.155483</td>\n",
              "      <td>0.401946</td>\n",
              "      <td>0.093681</td>\n",
              "      <td>0.345142</td>\n",
              "      <td>0.071336</td>\n",
              "      <td>0.383040</td>\n",
              "      <td>-0.003627</td>\n",
              "      <td>0.360416</td>\n",
              "      <td>-0.024093</td>\n",
              "      <td>0.337657</td>\n",
              "      <td>0.008320</td>\n",
              "      <td>0.363511</td>\n",
              "      <td>-0.057570</td>\n",
              "      <td>0.397266</td>\n",
              "      <td>-0.071390</td>\n",
              "      <td>0.540331</td>\n",
              "      <td>-0.066879</td>\n",
              "      <td>0.379526</td>\n",
              "      <td>-0.027987</td>\n",
              "      <td>0.353521</td>\n",
              "      <td>-0.003805</td>\n",
              "      <td>0.350362</td>\n",
              "      <td>0.014521</td>\n",
              "    </tr>\n",
              "    <tr>\n",
              "      <th>std</th>\n",
              "      <td>0.307912</td>\n",
              "      <td>0.0</td>\n",
              "      <td>0.497234</td>\n",
              "      <td>0.442060</td>\n",
              "      <td>0.519608</td>\n",
              "      <td>0.461428</td>\n",
              "      <td>0.492477</td>\n",
              "      <td>0.521456</td>\n",
              "      <td>0.507050</td>\n",
              "      <td>0.484446</td>\n",
              "      <td>0.563725</td>\n",
              "      <td>0.495456</td>\n",
              "      <td>0.622706</td>\n",
              "      <td>0.495556</td>\n",
              "      <td>0.653502</td>\n",
              "      <td>0.459011</td>\n",
              "      <td>0.618566</td>\n",
              "      <td>0.497473</td>\n",
              "      <td>0.626867</td>\n",
              "      <td>0.519818</td>\n",
              "      <td>0.610435</td>\n",
              "      <td>0.518908</td>\n",
              "      <td>0.604320</td>\n",
              "      <td>0.528202</td>\n",
              "      <td>0.578890</td>\n",
              "      <td>0.509208</td>\n",
              "      <td>0.516359</td>\n",
              "      <td>0.548550</td>\n",
              "      <td>0.576353</td>\n",
              "      <td>0.508699</td>\n",
              "      <td>0.571989</td>\n",
              "      <td>0.514310</td>\n",
              "      <td>0.523076</td>\n",
              "      <td>0.469007</td>\n",
              "    </tr>\n",
              "    <tr>\n",
              "      <th>min</th>\n",
              "      <td>0.000000</td>\n",
              "      <td>0.0</td>\n",
              "      <td>-1.000000</td>\n",
              "      <td>-1.000000</td>\n",
              "      <td>-1.000000</td>\n",
              "      <td>-1.000000</td>\n",
              "      <td>-1.000000</td>\n",
              "      <td>-1.000000</td>\n",
              "      <td>-1.000000</td>\n",
              "      <td>-1.000000</td>\n",
              "      <td>-1.000000</td>\n",
              "      <td>-1.000000</td>\n",
              "      <td>-1.000000</td>\n",
              "      <td>-1.000000</td>\n",
              "      <td>-1.000000</td>\n",
              "      <td>-1.000000</td>\n",
              "      <td>-1.000000</td>\n",
              "      <td>-1.000000</td>\n",
              "      <td>-1.000000</td>\n",
              "      <td>-1.000000</td>\n",
              "      <td>-1.000000</td>\n",
              "      <td>-1.000000</td>\n",
              "      <td>-1.000000</td>\n",
              "      <td>-1.000000</td>\n",
              "      <td>-1.000000</td>\n",
              "      <td>-1.000000</td>\n",
              "      <td>-1.000000</td>\n",
              "      <td>-1.000000</td>\n",
              "      <td>-1.000000</td>\n",
              "      <td>-1.000000</td>\n",
              "      <td>-1.000000</td>\n",
              "      <td>-1.000000</td>\n",
              "      <td>-1.000000</td>\n",
              "      <td>-1.000000</td>\n",
              "    </tr>\n",
              "    <tr>\n",
              "      <th>25%</th>\n",
              "      <td>1.000000</td>\n",
              "      <td>0.0</td>\n",
              "      <td>0.473447</td>\n",
              "      <td>-0.065388</td>\n",
              "      <td>0.415473</td>\n",
              "      <td>-0.024868</td>\n",
              "      <td>0.219745</td>\n",
              "      <td>-0.055235</td>\n",
              "      <td>0.093298</td>\n",
              "      <td>-0.049003</td>\n",
              "      <td>0.027873</td>\n",
              "      <td>-0.065677</td>\n",
              "      <td>0.000000</td>\n",
              "      <td>-0.074152</td>\n",
              "      <td>0.000000</td>\n",
              "      <td>-0.082973</td>\n",
              "      <td>0.000000</td>\n",
              "      <td>-0.226480</td>\n",
              "      <td>0.000000</td>\n",
              "      <td>-0.237420</td>\n",
              "      <td>0.000000</td>\n",
              "      <td>-0.246935</td>\n",
              "      <td>0.000000</td>\n",
              "      <td>-0.371658</td>\n",
              "      <td>0.000000</td>\n",
              "      <td>-0.332860</td>\n",
              "      <td>0.283612</td>\n",
              "      <td>-0.428992</td>\n",
              "      <td>0.000000</td>\n",
              "      <td>-0.237083</td>\n",
              "      <td>0.000000</td>\n",
              "      <td>-0.242993</td>\n",
              "      <td>0.000000</td>\n",
              "      <td>-0.166810</td>\n",
              "    </tr>\n",
              "    <tr>\n",
              "      <th>50%</th>\n",
              "      <td>1.000000</td>\n",
              "      <td>0.0</td>\n",
              "      <td>0.873445</td>\n",
              "      <td>0.016700</td>\n",
              "      <td>0.811145</td>\n",
              "      <td>0.022930</td>\n",
              "      <td>0.729315</td>\n",
              "      <td>0.015085</td>\n",
              "      <td>0.686450</td>\n",
              "      <td>0.020665</td>\n",
              "      <td>0.670560</td>\n",
              "      <td>0.029750</td>\n",
              "      <td>0.645660</td>\n",
              "      <td>0.030500</td>\n",
              "      <td>0.603650</td>\n",
              "      <td>0.000000</td>\n",
              "      <td>0.593375</td>\n",
              "      <td>0.000000</td>\n",
              "      <td>0.579155</td>\n",
              "      <td>0.000000</td>\n",
              "      <td>0.501865</td>\n",
              "      <td>0.000000</td>\n",
              "      <td>0.532110</td>\n",
              "      <td>0.000000</td>\n",
              "      <td>0.555330</td>\n",
              "      <td>-0.015200</td>\n",
              "      <td>0.703345</td>\n",
              "      <td>-0.017685</td>\n",
              "      <td>0.499215</td>\n",
              "      <td>0.000000</td>\n",
              "      <td>0.446875</td>\n",
              "      <td>0.000000</td>\n",
              "      <td>0.413115</td>\n",
              "      <td>0.000000</td>\n",
              "    </tr>\n",
              "    <tr>\n",
              "      <th>75%</th>\n",
              "      <td>1.000000</td>\n",
              "      <td>0.0</td>\n",
              "      <td>1.000000</td>\n",
              "      <td>0.194727</td>\n",
              "      <td>1.000000</td>\n",
              "      <td>0.335318</td>\n",
              "      <td>0.970445</td>\n",
              "      <td>0.451572</td>\n",
              "      <td>0.954185</td>\n",
              "      <td>0.536192</td>\n",
              "      <td>0.958157</td>\n",
              "      <td>0.483613</td>\n",
              "      <td>0.956078</td>\n",
              "      <td>0.375625</td>\n",
              "      <td>0.919475</td>\n",
              "      <td>0.311683</td>\n",
              "      <td>0.936167</td>\n",
              "      <td>0.195467</td>\n",
              "      <td>0.900318</td>\n",
              "      <td>0.136720</td>\n",
              "      <td>0.896813</td>\n",
              "      <td>0.188820</td>\n",
              "      <td>0.912932</td>\n",
              "      <td>0.164895</td>\n",
              "      <td>0.907165</td>\n",
              "      <td>0.157922</td>\n",
              "      <td>0.999523</td>\n",
              "      <td>0.154862</td>\n",
              "      <td>0.884572</td>\n",
              "      <td>0.154218</td>\n",
              "      <td>0.859490</td>\n",
              "      <td>0.200935</td>\n",
              "      <td>0.816777</td>\n",
              "      <td>0.172105</td>\n",
              "    </tr>\n",
              "    <tr>\n",
              "      <th>max</th>\n",
              "      <td>1.000000</td>\n",
              "      <td>0.0</td>\n",
              "      <td>1.000000</td>\n",
              "      <td>1.000000</td>\n",
              "      <td>1.000000</td>\n",
              "      <td>1.000000</td>\n",
              "      <td>1.000000</td>\n",
              "      <td>1.000000</td>\n",
              "      <td>1.000000</td>\n",
              "      <td>1.000000</td>\n",
              "      <td>1.000000</td>\n",
              "      <td>1.000000</td>\n",
              "      <td>1.000000</td>\n",
              "      <td>1.000000</td>\n",
              "      <td>1.000000</td>\n",
              "      <td>1.000000</td>\n",
              "      <td>1.000000</td>\n",
              "      <td>1.000000</td>\n",
              "      <td>1.000000</td>\n",
              "      <td>1.000000</td>\n",
              "      <td>1.000000</td>\n",
              "      <td>1.000000</td>\n",
              "      <td>1.000000</td>\n",
              "      <td>1.000000</td>\n",
              "      <td>1.000000</td>\n",
              "      <td>1.000000</td>\n",
              "      <td>1.000000</td>\n",
              "      <td>1.000000</td>\n",
              "      <td>1.000000</td>\n",
              "      <td>1.000000</td>\n",
              "      <td>1.000000</td>\n",
              "      <td>1.000000</td>\n",
              "      <td>1.000000</td>\n",
              "      <td>1.000000</td>\n",
              "    </tr>\n",
              "  </tbody>\n",
              "</table>\n",
              "</div>"
            ],
            "text/plain": [
              "         feature1  feature2    feature3  ...   feature32   feature33   feature34\n",
              "count  350.000000     350.0  350.000000  ...  350.000000  350.000000  350.000000\n",
              "mean     0.894286       0.0    0.643174  ...   -0.003805    0.350362    0.014521\n",
              "std      0.307912       0.0    0.497234  ...    0.514310    0.523076    0.469007\n",
              "min      0.000000       0.0   -1.000000  ...   -1.000000   -1.000000   -1.000000\n",
              "25%      1.000000       0.0    0.473447  ...   -0.242993    0.000000   -0.166810\n",
              "50%      1.000000       0.0    0.873445  ...    0.000000    0.413115    0.000000\n",
              "75%      1.000000       0.0    1.000000  ...    0.200935    0.816777    0.172105\n",
              "max      1.000000       0.0    1.000000  ...    1.000000    1.000000    1.000000\n",
              "\n",
              "[8 rows x 34 columns]"
            ]
          },
          "metadata": {
            "tags": []
          },
          "execution_count": 9
        }
      ]
    },
    {
      "cell_type": "markdown",
      "metadata": {
        "id": "YukD-93IdoHZ"
      },
      "source": [
        "Convert \"label\" column to 0s (for bad) and 1s (for good)"
      ]
    },
    {
      "cell_type": "code",
      "metadata": {
        "colab": {
          "base_uri": "https://localhost:8080/"
        },
        "id": "oG_exxaONkri",
        "outputId": "bf1822da-684e-49a5-994c-70d508d618fa"
      },
      "source": [
        "labels_column = ionosphere_df[\"label\"]\n",
        "labels_column = labels_column.where(ionosphere_df[\"label\"] == \"b\", 1)\n",
        "labels_column = labels_column.where(ionosphere_df[\"label\"] == \"g\", 0)\n",
        "labels_column = labels_column.astype(np.float64)\n",
        "labels_column"
      ],
      "execution_count": 10,
      "outputs": [
        {
          "output_type": "execute_result",
          "data": {
            "text/plain": [
              "0      1.0\n",
              "1      0.0\n",
              "2      1.0\n",
              "3      0.0\n",
              "4      1.0\n",
              "      ... \n",
              "346    1.0\n",
              "347    1.0\n",
              "348    1.0\n",
              "349    1.0\n",
              "350    1.0\n",
              "Name: label, Length: 350, dtype: float64"
            ]
          },
          "metadata": {
            "tags": []
          },
          "execution_count": 10
        }
      ]
    },
    {
      "cell_type": "code",
      "metadata": {
        "id": "qNed-QHpcCry"
      },
      "source": [
        "ionosphere_df[\"label\"] = labels_column"
      ],
      "execution_count": 11,
      "outputs": []
    },
    {
      "cell_type": "markdown",
      "metadata": {
        "id": "IHLJNjsYun_i"
      },
      "source": [
        "First two features have dtype of int; let's convert them to float64 to make the data homogeneous."
      ]
    },
    {
      "cell_type": "code",
      "metadata": {
        "colab": {
          "base_uri": "https://localhost:8080/"
        },
        "id": "U-FsH_lJhlNl",
        "outputId": "cb74b009-1285-4c1f-995a-9080f7865883"
      },
      "source": [
        "ionosphere_df.info()"
      ],
      "execution_count": 12,
      "outputs": [
        {
          "output_type": "stream",
          "text": [
            "<class 'pandas.core.frame.DataFrame'>\n",
            "Int64Index: 350 entries, 0 to 350\n",
            "Data columns (total 35 columns):\n",
            " #   Column     Non-Null Count  Dtype  \n",
            "---  ------     --------------  -----  \n",
            " 0   feature1   350 non-null    int64  \n",
            " 1   feature2   350 non-null    int64  \n",
            " 2   feature3   350 non-null    float64\n",
            " 3   feature4   350 non-null    float64\n",
            " 4   feature5   350 non-null    float64\n",
            " 5   feature6   350 non-null    float64\n",
            " 6   feature7   350 non-null    float64\n",
            " 7   feature8   350 non-null    float64\n",
            " 8   feature9   350 non-null    float64\n",
            " 9   feature10  350 non-null    float64\n",
            " 10  feature11  350 non-null    float64\n",
            " 11  feature12  350 non-null    float64\n",
            " 12  feature13  350 non-null    float64\n",
            " 13  feature14  350 non-null    float64\n",
            " 14  feature15  350 non-null    float64\n",
            " 15  feature16  350 non-null    float64\n",
            " 16  feature17  350 non-null    float64\n",
            " 17  feature18  350 non-null    float64\n",
            " 18  feature19  350 non-null    float64\n",
            " 19  feature20  350 non-null    float64\n",
            " 20  feature21  350 non-null    float64\n",
            " 21  feature22  350 non-null    float64\n",
            " 22  feature23  350 non-null    float64\n",
            " 23  feature24  350 non-null    float64\n",
            " 24  feature25  350 non-null    float64\n",
            " 25  feature26  350 non-null    float64\n",
            " 26  feature27  350 non-null    float64\n",
            " 27  feature28  350 non-null    float64\n",
            " 28  feature29  350 non-null    float64\n",
            " 29  feature30  350 non-null    float64\n",
            " 30  feature31  350 non-null    float64\n",
            " 31  feature32  350 non-null    float64\n",
            " 32  feature33  350 non-null    float64\n",
            " 33  feature34  350 non-null    float64\n",
            " 34  label      350 non-null    float64\n",
            "dtypes: float64(33), int64(2)\n",
            "memory usage: 98.4 KB\n"
          ],
          "name": "stdout"
        }
      ]
    },
    {
      "cell_type": "code",
      "metadata": {
        "id": "FYQW3KFId33z"
      },
      "source": [
        "ionosphere_df[\"feature1\"] = ionosphere_df[\"feature1\"].astype(np.float64)\n",
        "ionosphere_df[\"feature2\"] = ionosphere_df[\"feature2\"].astype(np.float64)"
      ],
      "execution_count": 13,
      "outputs": []
    },
    {
      "cell_type": "markdown",
      "metadata": {
        "id": "rTeA_va9vSch"
      },
      "source": [
        "## Separating Data into Training and Test Datasets"
      ]
    },
    {
      "cell_type": "markdown",
      "metadata": {
        "id": "DijMpapLvTv4"
      },
      "source": [
        "There are 225 samples with \"good\" label and 125 with \"bad\" label."
      ]
    },
    {
      "cell_type": "code",
      "metadata": {
        "colab": {
          "base_uri": "https://localhost:8080/"
        },
        "id": "tLfAAIFTu9es",
        "outputId": "e61857de-8ce6-4dd4-b378-1117068ad6ee"
      },
      "source": [
        "ionosphere_df[\"label\"].sum()"
      ],
      "execution_count": 14,
      "outputs": [
        {
          "output_type": "execute_result",
          "data": {
            "text/plain": [
              "225.0"
            ]
          },
          "metadata": {
            "tags": []
          },
          "execution_count": 14
        }
      ]
    },
    {
      "cell_type": "code",
      "metadata": {
        "colab": {
          "base_uri": "https://localhost:8080/"
        },
        "id": "d2QsUZnxvtPv",
        "outputId": "74c010c5-544d-443f-82ad-bd4d17741b33"
      },
      "source": [
        "(ionosphere_df[\"label\"] == 0).sum()"
      ],
      "execution_count": 15,
      "outputs": [
        {
          "output_type": "execute_result",
          "data": {
            "text/plain": [
              "125"
            ]
          },
          "metadata": {
            "tags": []
          },
          "execution_count": 15
        }
      ]
    },
    {
      "cell_type": "markdown",
      "metadata": {
        "id": "-HMeck8Wve33"
      },
      "source": [
        "Both the classes have pretty good representation in the dataset. However, let's shuffle the data before splitting it."
      ]
    },
    {
      "cell_type": "code",
      "metadata": {
        "id": "pSi5GaHpvd8s"
      },
      "source": [
        "data = np.asarray(ionosphere_df)"
      ],
      "execution_count": 16,
      "outputs": []
    },
    {
      "cell_type": "code",
      "metadata": {
        "id": "bxDsb9jnwNbL"
      },
      "source": [
        "np.random.shuffle(data)"
      ],
      "execution_count": 17,
      "outputs": []
    },
    {
      "cell_type": "markdown",
      "metadata": {
        "id": "HYPhH4c3wdko"
      },
      "source": [
        "We are required to take 60% of the data for training and 40% for testing."
      ]
    },
    {
      "cell_type": "code",
      "metadata": {
        "id": "8ZLyzWfuwdGp"
      },
      "source": [
        "x_train = data[:int(data.shape[0] * 0.6), :-1]\n",
        "y_train = data[:int(data.shape[0] * 0.6), -1]"
      ],
      "execution_count": 18,
      "outputs": []
    },
    {
      "cell_type": "code",
      "metadata": {
        "id": "oihNZeXCwTSL"
      },
      "source": [
        "x_test = data[int(data.shape[0] * 0.6):, :-1]\n",
        "y_test = data[int(data.shape[0] * 0.6):, -1]"
      ],
      "execution_count": 19,
      "outputs": []
    },
    {
      "cell_type": "markdown",
      "metadata": {
        "id": "fqYa395zYUt4"
      },
      "source": [
        "# Building the Model"
      ]
    },
    {
      "cell_type": "code",
      "metadata": {
        "id": "lO2r9bhtxKSr"
      },
      "source": [
        "def build_model(num_hidden_units=16, num_hidden_layers=1):\n",
        "  model = models.Sequential()\n",
        "  model.add(layers.Dense(num_hidden_units, activation='relu', input_shape=(34, )))\n",
        "  for i in range(num_hidden_layers):\n",
        "    model.add(layers.Dense(num_hidden_units, activation='relu'))\n",
        "  model.add(layers.Dense(1, activation='sigmoid'))\n",
        "\n",
        "  model.compile(\n",
        "      optimizer='rmsprop',\n",
        "      loss='binary_crossentropy',\n",
        "      metrics=['accuracy']\n",
        "  )\n",
        "\n",
        "  return model"
      ],
      "execution_count": 37,
      "outputs": []
    },
    {
      "cell_type": "markdown",
      "metadata": {
        "id": "oDfml77HYY19"
      },
      "source": [
        "# Training and Evaluating the Model With K-Fold"
      ]
    },
    {
      "cell_type": "markdown",
      "metadata": {
        "id": "5_0TVn-v5zlB"
      },
      "source": [
        "There are only 210 samples in the training data. Simple Hold-Out Validation won't be reliable. So, let's use K-Fold Cross Validation."
      ]
    },
    {
      "cell_type": "code",
      "metadata": {
        "id": "UuR4PVa-Yc3Y"
      },
      "source": [
        "def train_and_validate_model_with_k_fold(\n",
        "  x_train, y_train, k, num_epochs, num_hidden_units=16, num_hidden_layers=1, verbose=1\n",
        "):\n",
        "  num_val_samples = len(x_train) // k\n",
        "  accuracies = np.zeros(shape=(k, num_epochs), dtype=np.float64)\n",
        "  for i in range(k):\n",
        "    if verbose:\n",
        "      print(\"Processing Fold #{iter}\".format(iter=i))\n",
        "    x_val = x_train[i * num_val_samples: (i + 1) * num_val_samples]\n",
        "    y_val = y_train[i * num_val_samples: (i + 1) * num_val_samples]\n",
        "    x_train_partial = np.vstack((\n",
        "      x_train[:i * num_val_samples],\n",
        "      x_train[(i + 1) * num_val_samples:]\n",
        "    ))\n",
        "    y_train_partial = np.hstack((\n",
        "      y_train[:i * num_val_samples],\n",
        "      y_train[(i + 1) * num_val_samples:]\n",
        "    ))\n",
        "\n",
        "    model = build_model(num_hidden_units, num_hidden_layers)\n",
        "    history = model.fit(\n",
        "      x_train_partial,\n",
        "      y_train_partial,\n",
        "      epochs=num_epochs,\n",
        "      batch_size=1,\n",
        "      validation_data=(x_val, y_val),\n",
        "      verbose=0\n",
        "    )\n",
        "    accuracies[i, :] = history.history['val_accuracy']\n",
        "  \n",
        "  if verbose:\n",
        "    print(\"Completed!\")\n",
        "  return accuracies"
      ],
      "execution_count": 38,
      "outputs": []
    },
    {
      "cell_type": "markdown",
      "metadata": {
        "id": "xEOJ0Yu9ioFf"
      },
      "source": [
        "A utility function for smoothening curves."
      ]
    },
    {
      "cell_type": "code",
      "metadata": {
        "id": "okYI6W-nHqgp"
      },
      "source": [
        "def smooth_curve(points, factor=0.9):\n",
        "  smoothed_points = np.zeros_like(points)\n",
        "  for i, point in enumerate(points):\n",
        "    if i > 0:\n",
        "      previous = smoothed_points[i - 1]\n",
        "      smoothed_points[i] = previous * factor + point * (1- factor)\n",
        "    else:\n",
        "      smoothed_points[0] = point\n",
        "  \n",
        "  return smoothed_points"
      ],
      "execution_count": 39,
      "outputs": []
    },
    {
      "cell_type": "markdown",
      "metadata": {
        "id": "W_YfC2CgvaZD"
      },
      "source": [
        "Let's start experimenting."
      ]
    },
    {
      "cell_type": "markdown",
      "metadata": {
        "id": "ESBuI8DXQLpp"
      },
      "source": [
        "# Model With 1 Hidden Layer"
      ]
    },
    {
      "cell_type": "markdown",
      "metadata": {
        "id": "AE2GimZmhItA"
      },
      "source": [
        "## Exp1: Hidden Layers = 1, Hidden Units = 2"
      ]
    },
    {
      "cell_type": "code",
      "metadata": {
        "colab": {
          "base_uri": "https://localhost:8080/"
        },
        "id": "q6J83onOhPgI",
        "outputId": "9ef0d3a0-6209-432f-b568-78fdbb94e156"
      },
      "source": [
        "val_acc_by_epoch_exp1 = train_and_validate_model_with_k_fold(\n",
        "    x_train, y_train, k=4, num_epochs=200, num_hidden_layers=1, num_hidden_units=2\n",
        ")\n",
        "val_acc_by_epoch_exp1 = val_acc_by_epoch_exp1.mean(axis=0)"
      ],
      "execution_count": 40,
      "outputs": [
        {
          "output_type": "stream",
          "text": [
            "Processing Fold #0\n",
            "Processing Fold #1\n",
            "Processing Fold #2\n",
            "Processing Fold #3\n",
            "Completed!\n"
          ],
          "name": "stdout"
        }
      ]
    },
    {
      "cell_type": "markdown",
      "metadata": {
        "id": "UTqD1oIpj1Ky"
      },
      "source": [
        "Now, let's plot the validation accuracy against epochs"
      ]
    },
    {
      "cell_type": "code",
      "metadata": {
        "colab": {
          "base_uri": "https://localhost:8080/",
          "height": 295
        },
        "id": "b1a2sXnpFWDQ",
        "outputId": "335d8c99-9260-499b-f544-41be1b2d0ed5"
      },
      "source": [
        "plt.clf()\n",
        "plt.plot(range(1, len(val_acc_by_epoch_exp1) + 1), val_acc_by_epoch_exp1)\n",
        "plt.grid()\n",
        "plt.title('Validation Accuracy by Epoch')\n",
        "plt.xlabel('Epochs')\n",
        "plt.ylabel('Validation Accuracy')\n",
        "plt.show()"
      ],
      "execution_count": 41,
      "outputs": [
        {
          "output_type": "display_data",
          "data": {
            "image/png": "[encoded data removed]",
            "text/plain": [
              "<Figure size 432x288 with 1 Axes>"
            ]
          },
          "metadata": {
            "tags": [],
            "needs_background": "light"
          }
        }
      ]
    },
    {
      "cell_type": "markdown",
      "metadata": {
        "id": "dF1FXHB3kCjg"
      },
      "source": [
        "Accuracy is fluctuating a lot. Let's smooth it and replot it."
      ]
    },
    {
      "cell_type": "code",
      "metadata": {
        "id": "Tl0Y3DmkHrlp"
      },
      "source": [
        "skip_points = 10\n",
        "smooth_val_acc_exp1 = smooth_curve(val_acc_by_epoch_exp1[skip_points:])"
      ],
      "execution_count": 42,
      "outputs": []
    },
    {
      "cell_type": "code",
      "metadata": {
        "colab": {
          "base_uri": "https://localhost:8080/",
          "height": 295
        },
        "id": "n2zy_rTgJEm4",
        "outputId": "949dc6bf-2d51-42ac-dd2b-ebebd527a746"
      },
      "source": [
        "plt.clf()\n",
        "plt.plot(range(skip_points + 1, skip_points + len(smooth_val_acc_exp1) + 1), smooth_val_acc_exp1)\n",
        "plt.grid()\n",
        "plt.title('Validation Accuracy by Epoch')\n",
        "plt.xlabel('Epochs')\n",
        "plt.ylabel('Validation Accuracy')\n",
        "plt.show()"
      ],
      "execution_count": 43,
      "outputs": [
        {
          "output_type": "display_data",
          "data": {
            "image/png": "[encoded data removed]",
            "text/plain": [
              "<Figure size 432x288 with 1 Axes>"
            ]
          },
          "metadata": {
            "tags": [],
            "needs_background": "light"
          }
        }
      ]
    },
    {
      "cell_type": "code",
      "metadata": {
        "colab": {
          "base_uri": "https://localhost:8080/"
        },
        "id": "r3Zo5GqdlUu8",
        "outputId": "d99c0fc1-9f3d-460c-d707-a61ee6a0dc9f"
      },
      "source": [
        "print(\"Max Acc.: {acc:.2f}%\".format(acc=np.max(smooth_val_acc_exp1)*100))\n",
        "print(\"Max Acc. Epoch: {epo}\".format(epo=np.argmax(smooth_val_acc_exp1)+skip_points+1))"
      ],
      "execution_count": 44,
      "outputs": [
        {
          "output_type": "stream",
          "text": [
            "Max Acc.: 81.27%\n",
            "Max Acc. Epoch: 120\n"
          ],
          "name": "stdout"
        }
      ]
    },
    {
      "cell_type": "markdown",
      "metadata": {
        "id": "ia9Lw7E55cl1"
      },
      "source": [
        "The validation accuracy peaks at 81% after 120 epochs. We need to improve our model."
      ]
    },
    {
      "cell_type": "markdown",
      "metadata": {
        "id": "nSq4lVwo5sGt"
      },
      "source": [
        "## Exp2: Hidden Layers = 1, Hidden Units = 4"
      ]
    },
    {
      "cell_type": "code",
      "metadata": {
        "colab": {
          "base_uri": "https://localhost:8080/",
          "height": 414
        },
        "id": "Gy2JDVja6NfI",
        "outputId": "95f3ea5e-a012-4942-d695-4409192fc271"
      },
      "source": [
        "val_acc_by_epoch_exp2 = train_and_validate_model_with_k_fold(\n",
        "    x_train, y_train, k=4, num_epochs=200, num_hidden_layers=1, num_hidden_units=4\n",
        ")\n",
        "val_acc_by_epoch_exp2 = val_acc_by_epoch_exp2.mean(axis=0)\n",
        "\n",
        "skip_points = 10\n",
        "smooth_val_acc_exp2 = smooth_curve(val_acc_by_epoch_exp2[skip_points:])\n",
        "\n",
        "plt.clf()\n",
        "plt.plot(range(skip_points + 1, skip_points + len(smooth_val_acc_exp2) + 1), smooth_val_acc_exp2)\n",
        "plt.grid()\n",
        "plt.title('Validation Accuracy by Epoch')\n",
        "plt.xlabel('Epochs')\n",
        "plt.ylabel('Validation Accuracy')\n",
        "plt.show()\n",
        "\n",
        "print(\"Max Acc.: {acc:.2f}%\".format(acc=np.max(smooth_val_acc_exp2)*100))\n",
        "print(\"Max Acc. Epoch: {epo}\".format(epo=np.argmax(smooth_val_acc_exp2)+skip_points+1))"
      ],
      "execution_count": 45,
      "outputs": [
        {
          "output_type": "stream",
          "text": [
            "Processing Fold #0\n",
            "Processing Fold #1\n",
            "Processing Fold #2\n",
            "Processing Fold #3\n",
            "Completed!\n"
          ],
          "name": "stdout"
        },
        {
          "output_type": "display_data",
          "data": {
            "image/png": "[encoded data removed]",
            "text/plain": [
              "<Figure size 432x288 with 1 Axes>"
            ]
          },
          "metadata": {
            "tags": [],
            "needs_background": "light"
          }
        },
        {
          "output_type": "stream",
          "text": [
            "Max Acc.: 91.28%\n",
            "Max Acc. Epoch: 118\n"
          ],
          "name": "stdout"
        }
      ]
    },
    {
      "cell_type": "markdown",
      "metadata": {
        "id": "tExHYtVlEH_C"
      },
      "source": [
        "## Exp3: Hidden Layers = 1, Hidden Units = 8"
      ]
    },
    {
      "cell_type": "code",
      "metadata": {
        "colab": {
          "base_uri": "https://localhost:8080/",
          "height": 414
        },
        "id": "MBOOui59EIwy",
        "outputId": "e2638524-71e7-4313-a86e-3f238057b7ff"
      },
      "source": [
        "exp_num = 3\n",
        "val_acc_by_epoch_exp3 = train_and_validate_model_with_k_fold(\n",
        "    x_train, y_train, k=4, num_epochs=200, num_hidden_layers=1, num_hidden_units=8\n",
        ")\n",
        "val_acc_by_epoch_exp3 = val_acc_by_epoch_exp3.mean(axis=0)\n",
        "\n",
        "skip_points = 10\n",
        "smooth_val_acc_exp3 = smooth_curve(val_acc_by_epoch_exp3[skip_points:])\n",
        "\n",
        "plt.clf()\n",
        "plt.plot(range(skip_points + 1, skip_points + len(smooth_val_acc_exp3) + 1), smooth_val_acc_exp3)\n",
        "plt.grid()\n",
        "plt.title('Exp #{num}: Validation Accuracy by Epoch'.format(num=exp_num))\n",
        "plt.xlabel('Epochs')\n",
        "plt.ylabel('Validation Accuracy')\n",
        "plt.show()\n",
        "\n",
        "print(\"Max Acc.: {acc:.2f}%\".format(acc=np.max(smooth_val_acc_exp3)*100))\n",
        "print(\"Max Acc. Epoch: {epo}\".format(epo=np.argmax(smooth_val_acc_exp3)+skip_points+1))"
      ],
      "execution_count": 46,
      "outputs": [
        {
          "output_type": "stream",
          "text": [
            "Processing Fold #0\n",
            "Processing Fold #1\n",
            "Processing Fold #2\n",
            "Processing Fold #3\n",
            "Completed!\n"
          ],
          "name": "stdout"
        },
        {
          "output_type": "display_data",
          "data": {
            "image/png": "[encoded data removed]",
            "text/plain": [
              "<Figure size 432x288 with 1 Axes>"
            ]
          },
          "metadata": {
            "tags": [],
            "needs_background": "light"
          }
        },
        {
          "output_type": "stream",
          "text": [
            "Max Acc.: 89.75%\n",
            "Max Acc. Epoch: 81\n"
          ],
          "name": "stdout"
        }
      ]
    },
    {
      "cell_type": "markdown",
      "metadata": {
        "id": "AenS75rVGDIl"
      },
      "source": [
        "## Exp4: Hidden Layers = 1, Hidden Units = 16"
      ]
    },
    {
      "cell_type": "code",
      "metadata": {
        "colab": {
          "base_uri": "https://localhost:8080/",
          "height": 414
        },
        "id": "65S5tHFZGCbl",
        "outputId": "3792f2fa-dbe7-4dde-9329-38e5f9b84aa8"
      },
      "source": [
        "exp_num = 4\n",
        "val_acc_by_epoch_exp4 = train_and_validate_model_with_k_fold(\n",
        "    x_train, y_train, k=4, num_epochs=200, num_hidden_layers=1, num_hidden_units=16\n",
        ")\n",
        "val_acc_by_epoch_exp4 = val_acc_by_epoch_exp4.mean(axis=0)\n",
        "\n",
        "skip_points = 10\n",
        "smooth_val_acc_exp4 = smooth_curve(val_acc_by_epoch_exp4[skip_points:])\n",
        "\n",
        "plt.clf()\n",
        "plt.plot(range(skip_points + 1, skip_points + len(smooth_val_acc_exp4) + 1), smooth_val_acc_exp4)\n",
        "plt.grid()\n",
        "plt.title('Exp #{num}: Validation Accuracy by Epoch'.format(num=exp_num))\n",
        "plt.xlabel('Epochs')\n",
        "plt.ylabel('Validation Accuracy')\n",
        "plt.show()\n",
        "\n",
        "print(\"Max Acc.: {acc:.2f}%\".format(acc=np.max(smooth_val_acc_exp4)*100))\n",
        "print(\"Max Acc. Epoch: {epo}\".format(epo=np.argmax(smooth_val_acc_exp4)+skip_points+1))"
      ],
      "execution_count": 47,
      "outputs": [
        {
          "output_type": "stream",
          "text": [
            "Processing Fold #0\n",
            "Processing Fold #1\n",
            "Processing Fold #2\n",
            "Processing Fold #3\n",
            "Completed!\n"
          ],
          "name": "stdout"
        },
        {
          "output_type": "display_data",
          "data": {
            "image/png": "[encoded data removed]",
            "text/plain": [
              "<Figure size 432x288 with 1 Axes>"
            ]
          },
          "metadata": {
            "tags": [],
            "needs_background": "light"
          }
        },
        {
          "output_type": "stream",
          "text": [
            "Max Acc.: 91.24%\n",
            "Max Acc. Epoch: 42\n"
          ],
          "name": "stdout"
        }
      ]
    },
    {
      "cell_type": "markdown",
      "metadata": {
        "id": "xnH-p7VKHqQj"
      },
      "source": [
        "## Exp5: Hidden Layers = 1, Hidden Units = 32"
      ]
    },
    {
      "cell_type": "code",
      "metadata": {
        "colab": {
          "base_uri": "https://localhost:8080/",
          "height": 414
        },
        "id": "FeUpKcNYHr98",
        "outputId": "c5a31012-ec66-4efc-b593-4b117236d503"
      },
      "source": [
        "exp_num = 5\n",
        "val_acc_by_epoch_exp5 = train_and_validate_model_with_k_fold(\n",
        "    x_train, y_train, k=4, num_epochs=200, num_hidden_layers=1, num_hidden_units=32\n",
        ")\n",
        "val_acc_by_epoch_exp5 = val_acc_by_epoch_exp5.mean(axis=0)\n",
        "\n",
        "skip_points = 10\n",
        "smooth_val_acc_exp5 = smooth_curve(val_acc_by_epoch_exp5[skip_points:])\n",
        "\n",
        "plt.clf()\n",
        "plt.plot(range(skip_points + 1, skip_points + len(smooth_val_acc_exp5) + 1), smooth_val_acc_exp5)\n",
        "plt.grid()\n",
        "plt.title('Exp #{num}: Validation Accuracy by Epoch'.format(num=exp_num))\n",
        "plt.xlabel('Epochs')\n",
        "plt.ylabel('Validation Accuracy')\n",
        "plt.show()\n",
        "\n",
        "print(\"Max Acc.: {acc:.2f}%\".format(acc=np.max(smooth_val_acc_exp5)*100))\n",
        "print(\"Max Acc. Epoch: {epo}\".format(epo=np.argmax(smooth_val_acc_exp5)+skip_points+1))"
      ],
      "execution_count": 48,
      "outputs": [
        {
          "output_type": "stream",
          "text": [
            "Processing Fold #0\n",
            "Processing Fold #1\n",
            "Processing Fold #2\n",
            "Processing Fold #3\n",
            "Completed!\n"
          ],
          "name": "stdout"
        },
        {
          "output_type": "display_data",
          "data": {
            "image/png": "[encoded data removed]",
            "text/plain": [
              "<Figure size 432x288 with 1 Axes>"
            ]
          },
          "metadata": {
            "tags": [],
            "needs_background": "light"
          }
        },
        {
          "output_type": "stream",
          "text": [
            "Max Acc.: 93.76%\n",
            "Max Acc. Epoch: 30\n"
          ],
          "name": "stdout"
        }
      ]
    },
    {
      "cell_type": "markdown",
      "metadata": {
        "id": "IVuVlBF-H8Q0"
      },
      "source": [
        "## Exp6: Hidden Layers = 1, Hidden Units = 64"
      ]
    },
    {
      "cell_type": "code",
      "metadata": {
        "colab": {
          "base_uri": "https://localhost:8080/",
          "height": 414
        },
        "id": "0KNEYVaNH-Wn",
        "outputId": "2a3a416a-4429-4289-b284-fee18973ad13"
      },
      "source": [
        "exp_num = 6\n",
        "val_acc_by_epoch_exp6 = train_and_validate_model_with_k_fold(\n",
        "    x_train, y_train, k=4, num_epochs=200, num_hidden_layers=1, num_hidden_units=64\n",
        ")\n",
        "val_acc_by_epoch_exp6 = val_acc_by_epoch_exp6.mean(axis=0)\n",
        "\n",
        "skip_points = 10\n",
        "smooth_val_acc_exp6 = smooth_curve(val_acc_by_epoch_exp6[skip_points:])\n",
        "\n",
        "plt.clf()\n",
        "plt.plot(range(skip_points + 1, skip_points + len(smooth_val_acc_exp6) + 1), smooth_val_acc_exp6)\n",
        "plt.grid()\n",
        "plt.title('Exp #{num}: Validation Accuracy by Epoch'.format(num=exp_num))\n",
        "plt.xlabel('Epochs')\n",
        "plt.ylabel('Validation Accuracy')\n",
        "plt.show()\n",
        "\n",
        "print(\"Max Acc.: {acc:.2f}%\".format(acc=np.max(smooth_val_acc_exp6)*100))\n",
        "print(\"Max Acc. Epoch: {epo}\".format(epo=np.argmax(smooth_val_acc_exp6)+skip_points+1))"
      ],
      "execution_count": 49,
      "outputs": [
        {
          "output_type": "stream",
          "text": [
            "Processing Fold #0\n",
            "Processing Fold #1\n",
            "Processing Fold #2\n",
            "Processing Fold #3\n",
            "Completed!\n"
          ],
          "name": "stdout"
        },
        {
          "output_type": "display_data",
          "data": {
            "image/png": "[encoded data removed]",
            "text/plain": [
              "<Figure size 432x288 with 1 Axes>"
            ]
          },
          "metadata": {
            "tags": [],
            "needs_background": "light"
          }
        },
        {
          "output_type": "stream",
          "text": [
            "Max Acc.: 94.71%\n",
            "Max Acc. Epoch: 12\n"
          ],
          "name": "stdout"
        }
      ]
    },
    {
      "cell_type": "markdown",
      "metadata": {
        "id": "F5LmFfMyJPJX"
      },
      "source": [
        "## Exp7: Hidden Layers = 1, Hidden Units = 128"
      ]
    },
    {
      "cell_type": "code",
      "metadata": {
        "colab": {
          "base_uri": "https://localhost:8080/",
          "height": 414
        },
        "id": "1hc5VBcNJUEk",
        "outputId": "f11f3a99-0011-4b5c-8253-a815c0d2dae0"
      },
      "source": [
        "exp_num = 7\n",
        "val_acc_by_epoch_exp7 = train_and_validate_model_with_k_fold(\n",
        "    x_train, y_train, k=4, num_epochs=200, num_hidden_layers=1, num_hidden_units=128\n",
        ")\n",
        "val_acc_by_epoch_exp7 = val_acc_by_epoch_exp7.mean(axis=0)\n",
        "\n",
        "skip_points = 10\n",
        "smooth_val_acc_exp7 = smooth_curve(val_acc_by_epoch_exp7[skip_points:])\n",
        "\n",
        "plt.clf()\n",
        "plt.plot(range(skip_points + 1, skip_points + len(smooth_val_acc_exp7) + 1), smooth_val_acc_exp7)\n",
        "plt.grid()\n",
        "plt.title('Exp #{num}: Validation Accuracy by Epoch'.format(num=exp_num))\n",
        "plt.xlabel('Epochs')\n",
        "plt.ylabel('Validation Accuracy')\n",
        "plt.show()\n",
        "\n",
        "print(\"Max Acc.: {acc:.2f}%\".format(acc=np.max(smooth_val_acc_exp7)*100))\n",
        "print(\"Max Acc. Epoch: {epo}\".format(epo=np.argmax(smooth_val_acc_exp7)+skip_points+1))"
      ],
      "execution_count": 50,
      "outputs": [
        {
          "output_type": "stream",
          "text": [
            "Processing Fold #0\n",
            "Processing Fold #1\n",
            "Processing Fold #2\n",
            "Processing Fold #3\n",
            "Completed!\n"
          ],
          "name": "stdout"
        },
        {
          "output_type": "display_data",
          "data": {
            "image/png": "[encoded data removed]",
            "text/plain": [
              "<Figure size 432x288 with 1 Axes>"
            ]
          },
          "metadata": {
            "tags": [],
            "needs_background": "light"
          }
        },
        {
          "output_type": "stream",
          "text": [
            "Max Acc.: 94.23%\n",
            "Max Acc. Epoch: 11\n"
          ],
          "name": "stdout"
        }
      ]
    },
    {
      "cell_type": "markdown",
      "metadata": {
        "id": "2DY4OKoTPKue"
      },
      "source": [
        "## Exp8: Hidden Layers = 1, Hidden Units = 256"
      ]
    },
    {
      "cell_type": "code",
      "metadata": {
        "colab": {
          "base_uri": "https://localhost:8080/",
          "height": 414
        },
        "id": "zMfyLqBNPKJ_",
        "outputId": "51c696b7-6367-4356-d745-4cfdf6cbae55"
      },
      "source": [
        "exp_num = 8\n",
        "val_acc_by_epoch_exp8 = train_and_validate_model_with_k_fold(\n",
        "    x_train, y_train, k=4, num_epochs=200, num_hidden_layers=1, num_hidden_units=256\n",
        ")\n",
        "val_acc_by_epoch_exp8 = val_acc_by_epoch_exp8.mean(axis=0)\n",
        "\n",
        "skip_points = 10\n",
        "smooth_val_acc_exp8 = smooth_curve(val_acc_by_epoch_exp8[skip_points:])\n",
        "\n",
        "plt.clf()\n",
        "plt.plot(range(skip_points + 1, skip_points + len(smooth_val_acc_exp8) + 1), smooth_val_acc_exp8)\n",
        "plt.grid()\n",
        "plt.title('Exp #{num}: Validation Accuracy by Epoch'.format(num=exp_num))\n",
        "plt.xlabel('Epochs')\n",
        "plt.ylabel('Validation Accuracy')\n",
        "plt.show()\n",
        "\n",
        "print(\"Max Acc.: {acc:.2f}%\".format(acc=np.max(smooth_val_acc_exp8)*100))\n",
        "print(\"Max Acc. Epoch: {epo}\".format(epo=np.argmax(smooth_val_acc_exp8)+skip_points+1))"
      ],
      "execution_count": 53,
      "outputs": [
        {
          "output_type": "stream",
          "text": [
            "Processing Fold #0\n",
            "Processing Fold #1\n",
            "Processing Fold #2\n",
            "Processing Fold #3\n",
            "Completed!\n"
          ],
          "name": "stdout"
        },
        {
          "output_type": "display_data",
          "data": {
            "image/png": "[encoded data removed]",
            "text/plain": [
              "<Figure size 432x288 with 1 Axes>"
            ]
          },
          "metadata": {
            "tags": [],
            "needs_background": "light"
          }
        },
        {
          "output_type": "stream",
          "text": [
            "Max Acc.: 93.15%\n",
            "Max Acc. Epoch: 19\n"
          ],
          "name": "stdout"
        }
      ]
    },
    {
      "cell_type": "markdown",
      "metadata": {
        "id": "l1enK-pNPbDC"
      },
      "source": [
        "## Comparing the Results for 1 Hidden Layer and Varying Number of Hidden Units"
      ]
    },
    {
      "cell_type": "markdown",
      "metadata": {
        "id": "ZTotbDamTDZw"
      },
      "source": [
        "The model performs best for 32 and 64 hidden units. Now, let's increase the number of layers to 2 for further experiments."
      ]
    },
    {
      "cell_type": "code",
      "metadata": {
        "colab": {
          "base_uri": "https://localhost:8080/",
          "height": 295
        },
        "id": "x2f5tSTfON_M",
        "outputId": "f3c3de6a-842f-453d-d6ea-1524e0851de0"
      },
      "source": [
        "plt.clf()\n",
        "plt.plot(range(skip_points + 1, skip_points + len(smooth_val_acc_exp1) + 1), smooth_val_acc_exp1, 'b--')\n",
        "plt.plot(range(skip_points + 1, skip_points + len(smooth_val_acc_exp2) + 1), smooth_val_acc_exp2, 'g--')\n",
        "plt.plot(range(skip_points + 1, skip_points + len(smooth_val_acc_exp3) + 1), smooth_val_acc_exp3, 'r--')\n",
        "plt.plot(range(skip_points + 1, skip_points + len(smooth_val_acc_exp4) + 1), smooth_val_acc_exp4, 'k--')\n",
        "plt.plot(range(skip_points + 1, skip_points + len(smooth_val_acc_exp5) + 1), smooth_val_acc_exp5, 'b')\n",
        "plt.plot(range(skip_points + 1, skip_points + len(smooth_val_acc_exp6) + 1), smooth_val_acc_exp6, 'g')\n",
        "plt.plot(range(skip_points + 1, skip_points + len(smooth_val_acc_exp7) + 1), smooth_val_acc_exp7, 'r')\n",
        "plt.plot(range(skip_points + 1, skip_points + len(smooth_val_acc_exp8) + 1), smooth_val_acc_exp8, 'k')\n",
        "plt.grid()\n",
        "plt.title('Validation Accuracy by Epoch'.format(num=exp_num))\n",
        "plt.legend(['{units} Hidden Units'.format(units=2**i) for i in range(1, 9)], loc='lower right')\n",
        "plt.xlabel('Epochs')\n",
        "plt.ylabel('Validation Accuracy')\n",
        "plt.show()"
      ],
      "execution_count": 54,
      "outputs": [
        {
          "output_type": "display_data",
          "data": {
            "image/png": "[encoded data removed]",
            "text/plain": [
              "<Figure size 432x288 with 1 Axes>"
            ]
          },
          "metadata": {
            "tags": [],
            "needs_background": "light"
          }
        }
      ]
    },
    {
      "cell_type": "markdown",
      "metadata": {
        "id": "NAMce9OOTkbE"
      },
      "source": [
        "# Model With 2 Hidden Layer"
      ]
    },
    {
      "cell_type": "markdown",
      "metadata": {
        "id": "i949_Ew7TuQI"
      },
      "source": [
        "## Exp9: Hidden Layers = 2, Hidden Units = 16"
      ]
    },
    {
      "cell_type": "code",
      "metadata": {
        "colab": {
          "base_uri": "https://localhost:8080/",
          "height": 414
        },
        "id": "2cxulWU4Tw20",
        "outputId": "ad141813-e697-44a1-9625-62aeab143516"
      },
      "source": [
        "exp_num = 9\n",
        "val_acc_by_epoch_exp9 = train_and_validate_model_with_k_fold(\n",
        "    x_train, y_train, k=4, num_epochs=100, num_hidden_layers=2, num_hidden_units=16\n",
        ")\n",
        "val_acc_by_epoch_exp9 = val_acc_by_epoch_exp9.mean(axis=0)\n",
        "\n",
        "skip_points = 10\n",
        "smooth_val_acc_exp9 = smooth_curve(val_acc_by_epoch_exp9[skip_points:], factor=0.9)\n",
        "\n",
        "plt.clf()\n",
        "plt.plot(range(skip_points + 1, skip_points + len(smooth_val_acc_exp9) + 1), smooth_val_acc_exp9)\n",
        "plt.grid()\n",
        "plt.title('Exp #{num}: Validation Accuracy by Epoch'.format(num=exp_num))\n",
        "plt.xlabel('Epochs')\n",
        "plt.ylabel('Validation Accuracy')\n",
        "plt.show()\n",
        "\n",
        "print(\"Max Acc.: {acc:.2f}%\".format(acc=np.max(smooth_val_acc_exp9)*100))\n",
        "print(\"Max Acc. Epoch: {epo}\".format(epo=np.argmax(smooth_val_acc_exp9)+skip_points+1))"
      ],
      "execution_count": 55,
      "outputs": [
        {
          "output_type": "stream",
          "text": [
            "Processing Fold #0\n",
            "Processing Fold #1\n",
            "Processing Fold #2\n",
            "Processing Fold #3\n",
            "Completed!\n"
          ],
          "name": "stdout"
        },
        {
          "output_type": "display_data",
          "data": {
            "image/png": "[encoded data removed]",
            "text/plain": [
              "<Figure size 432x288 with 1 Axes>"
            ]
          },
          "metadata": {
            "tags": [],
            "needs_background": "light"
          }
        },
        {
          "output_type": "stream",
          "text": [
            "Max Acc.: 91.88%\n",
            "Max Acc. Epoch: 43\n"
          ],
          "name": "stdout"
        }
      ]
    },
    {
      "cell_type": "markdown",
      "metadata": {
        "id": "xmFD9WkTVv0O"
      },
      "source": [
        "## Exp10: Hidden Layers = 2, Hidden Units = 32"
      ]
    },
    {
      "cell_type": "code",
      "metadata": {
        "colab": {
          "base_uri": "https://localhost:8080/",
          "height": 414
        },
        "id": "Dq04j1VrVwSO",
        "outputId": "3905fa9a-b6ec-4874-96c8-9323a1cbbf0b"
      },
      "source": [
        "exp_num = 10\n",
        "val_acc_by_epoch_exp10 = train_and_validate_model_with_k_fold(\n",
        "    x_train, y_train, k=4, num_epochs=100, num_hidden_layers=2, num_hidden_units=32\n",
        ")\n",
        "val_acc_by_epoch_exp10 = val_acc_by_epoch_exp10.mean(axis=0)\n",
        "\n",
        "skip_points = 10\n",
        "smooth_val_acc_exp10 = smooth_curve(val_acc_by_epoch_exp10[skip_points:], factor=0.8)\n",
        "\n",
        "plt.clf()\n",
        "plt.plot(range(skip_points + 1, skip_points + len(smooth_val_acc_exp10) + 1), smooth_val_acc_exp10)\n",
        "plt.grid()\n",
        "plt.title('Exp #{num}: Validation Accuracy by Epoch'.format(num=exp_num))\n",
        "plt.xlabel('Epochs')\n",
        "plt.ylabel('Validation Accuracy')\n",
        "plt.show()\n",
        "\n",
        "print(\"Max Acc.: {acc:.2f}%\".format(acc=np.max(smooth_val_acc_exp10)*100))\n",
        "print(\"Max Acc. Epoch: {epo}\".format(epo=np.argmax(smooth_val_acc_exp10)+skip_points+1))"
      ],
      "execution_count": 56,
      "outputs": [
        {
          "output_type": "stream",
          "text": [
            "Processing Fold #0\n",
            "Processing Fold #1\n",
            "Processing Fold #2\n",
            "Processing Fold #3\n",
            "Completed!\n"
          ],
          "name": "stdout"
        },
        {
          "output_type": "display_data",
          "data": {
            "image/png": "[encoded data removed]",
            "text/plain": [
              "<Figure size 432x288 with 1 Axes>"
            ]
          },
          "metadata": {
            "tags": [],
            "needs_background": "light"
          }
        },
        {
          "output_type": "stream",
          "text": [
            "Max Acc.: 92.34%\n",
            "Max Acc. Epoch: 15\n"
          ],
          "name": "stdout"
        }
      ]
    },
    {
      "cell_type": "markdown",
      "metadata": {
        "id": "o-Hx4QnBY3jx"
      },
      "source": [
        "## Exp11: Hidden Layers = 2, Hidden Units = 64"
      ]
    },
    {
      "cell_type": "code",
      "metadata": {
        "colab": {
          "base_uri": "https://localhost:8080/",
          "height": 414
        },
        "id": "eeNvQwC8Y8cF",
        "outputId": "8635e37e-5bce-40b8-e822-45cb6283e861"
      },
      "source": [
        "exp_num = 11\n",
        "val_acc_by_epoch_exp11 = train_and_validate_model_with_k_fold(\n",
        "    x_train, y_train, k=4, num_epochs=100, num_hidden_layers=2, num_hidden_units=64\n",
        ")\n",
        "val_acc_by_epoch_exp11 = val_acc_by_epoch_exp11.mean(axis=0)\n",
        "\n",
        "skip_points = 10\n",
        "smooth_val_acc_exp11 = smooth_curve(val_acc_by_epoch_exp11[skip_points:], factor=0.8)\n",
        "\n",
        "plt.clf()\n",
        "plt.plot(range(skip_points + 1, skip_points + len(smooth_val_acc_exp11) + 1), smooth_val_acc_exp11)\n",
        "plt.grid()\n",
        "plt.title('Exp #{num}: Validation Accuracy by Epoch'.format(num=exp_num))\n",
        "plt.xlabel('Epochs')\n",
        "plt.ylabel('Validation Accuracy')\n",
        "plt.show()\n",
        "\n",
        "print(\"Max Acc.: {acc:.2f}%\".format(acc=np.max(smooth_val_acc_exp11)*100))\n",
        "print(\"Max Acc. Epoch: {epo}\".format(epo=np.argmax(smooth_val_acc_exp11)+skip_points+1))"
      ],
      "execution_count": 57,
      "outputs": [
        {
          "output_type": "stream",
          "text": [
            "Processing Fold #0\n",
            "Processing Fold #1\n",
            "Processing Fold #2\n",
            "Processing Fold #3\n",
            "Completed!\n"
          ],
          "name": "stdout"
        },
        {
          "output_type": "display_data",
          "data": {
            "image/png": "[encoded data removed]",
            "text/plain": [
              "<Figure size 432x288 with 1 Axes>"
            ]
          },
          "metadata": {
            "tags": [],
            "needs_background": "light"
          }
        },
        {
          "output_type": "stream",
          "text": [
            "Max Acc.: 94.81%\n",
            "Max Acc. Epoch: 13\n"
          ],
          "name": "stdout"
        }
      ]
    },
    {
      "cell_type": "markdown",
      "metadata": {
        "id": "Hl3uOkLnaaC1"
      },
      "source": [
        "## Exp12: Hidden Layers = 2, Hidden Units = 128"
      ]
    },
    {
      "cell_type": "code",
      "metadata": {
        "colab": {
          "base_uri": "https://localhost:8080/",
          "height": 414
        },
        "id": "NUdeVJsZad9C",
        "outputId": "92097058-3458-43f3-a594-8347bf5d4585"
      },
      "source": [
        "exp_num = 12\n",
        "val_acc_by_epoch_exp12 = train_and_validate_model_with_k_fold(\n",
        "    x_train, y_train, k=4, num_epochs=100, num_hidden_layers=2, num_hidden_units=128\n",
        ")\n",
        "val_acc_by_epoch_exp12 = val_acc_by_epoch_exp12.mean(axis=0)\n",
        "\n",
        "skip_points = 10\n",
        "smooth_val_acc_exp12 = smooth_curve(val_acc_by_epoch_exp12[skip_points:], factor=0.8)\n",
        "\n",
        "plt.clf()\n",
        "plt.plot(range(skip_points + 1, skip_points + len(smooth_val_acc_exp12) + 1), smooth_val_acc_exp12)\n",
        "plt.grid()\n",
        "plt.title('Exp #{num}: Validation Accuracy by Epoch'.format(num=exp_num))\n",
        "plt.xlabel('Epochs')\n",
        "plt.ylabel('Validation Accuracy')\n",
        "plt.show()\n",
        "\n",
        "print(\"Max Acc.: {acc:.2f}%\".format(acc=np.max(smooth_val_acc_exp12)*100))\n",
        "print(\"Max Acc. Epoch: {epo}\".format(epo=np.argmax(smooth_val_acc_exp12)+skip_points+1))"
      ],
      "execution_count": 58,
      "outputs": [
        {
          "output_type": "stream",
          "text": [
            "Processing Fold #0\n",
            "Processing Fold #1\n",
            "Processing Fold #2\n",
            "Processing Fold #3\n",
            "Completed!\n"
          ],
          "name": "stdout"
        },
        {
          "output_type": "display_data",
          "data": {
            "image/png": "[encoded data removed]",
            "text/plain": [
              "<Figure size 432x288 with 1 Axes>"
            ]
          },
          "metadata": {
            "tags": [],
            "needs_background": "light"
          }
        },
        {
          "output_type": "stream",
          "text": [
            "Max Acc.: 94.71%\n",
            "Max Acc. Epoch: 12\n"
          ],
          "name": "stdout"
        }
      ]
    },
    {
      "cell_type": "markdown",
      "metadata": {
        "id": "tVwPaS88bjWq"
      },
      "source": [
        "## Comparing the Results for 2 Hidden Layer and Varying Number of Hidden Units"
      ]
    },
    {
      "cell_type": "markdown",
      "metadata": {
        "id": "PnTwZ1cdcwIa"
      },
      "source": [
        "The model performs best for 2 hidden layers and 64 hidden units."
      ]
    },
    {
      "cell_type": "code",
      "metadata": {
        "colab": {
          "base_uri": "https://localhost:8080/",
          "height": 295
        },
        "id": "qpoUbcxRbl-5",
        "outputId": "d5cdf6b3-1135-44c8-feca-d2fb17ff7f86"
      },
      "source": [
        "plt.clf()\n",
        "plt.plot(range(skip_points + 1, skip_points + len(smooth_val_acc_exp9) + 1), smooth_val_acc_exp9, 'b')\n",
        "plt.plot(range(skip_points + 1, skip_points + len(smooth_val_acc_exp10) + 1), smooth_val_acc_exp10, 'g')\n",
        "plt.plot(range(skip_points + 1, skip_points + len(smooth_val_acc_exp11) + 1), smooth_val_acc_exp11, 'r')\n",
        "plt.plot(range(skip_points + 1, skip_points + len(smooth_val_acc_exp12) + 1), smooth_val_acc_exp12, 'k')\n",
        "plt.grid()\n",
        "plt.title('Validation Accuracy by Epoch'.format(num=exp_num))\n",
        "plt.legend(['{units} Hidden Units'.format(units=2**i) for i in range(4, 8)], loc='lower right')\n",
        "plt.xlabel('Epochs')\n",
        "plt.ylabel('Validation Accuracy')\n",
        "plt.show()"
      ],
      "execution_count": 59,
      "outputs": [
        {
          "output_type": "display_data",
          "data": {
            "image/png": "[encoded data removed]",
            "text/plain": [
              "<Figure size 432x288 with 1 Axes>"
            ]
          },
          "metadata": {
            "tags": [],
            "needs_background": "light"
          }
        }
      ]
    },
    {
      "cell_type": "markdown",
      "metadata": {
        "id": "JSXmckaZLc4i"
      },
      "source": [
        "# Final Model"
      ]
    },
    {
      "cell_type": "markdown",
      "metadata": {
        "id": "KeXrWApNOsea"
      },
      "source": [
        "Our model is givng its best performance with 2 hidden layers and 64 hidden units. So, let's try this configiruration for testing over all the training data and evaluating it on the testing data."
      ]
    },
    {
      "cell_type": "code",
      "metadata": {
        "colab": {
          "base_uri": "https://localhost:8080/"
        },
        "id": "fbrofTqndgRG",
        "outputId": "535d8038-ab06-49ef-cef5-ceca3be8b01a"
      },
      "source": [
        "model = build_model(num_hidden_units=64, num_hidden_layers=2)\n",
        "model.fit(x_train, y_train, epochs=15, batch_size=1)"
      ],
      "execution_count": 60,
      "outputs": [
        {
          "output_type": "stream",
          "text": [
            "Epoch 1/15\n",
            "210/210 [==============================] - 1s 1ms/step - loss: 0.4973 - accuracy: 0.7557\n",
            "Epoch 2/15\n",
            "210/210 [==============================] - 0s 1ms/step - loss: 0.2610 - accuracy: 0.9104\n",
            "Epoch 3/15\n",
            "210/210 [==============================] - 0s 1ms/step - loss: 0.1733 - accuracy: 0.9422\n",
            "Epoch 4/15\n",
            "210/210 [==============================] - 0s 1ms/step - loss: 0.1390 - accuracy: 0.9610\n",
            "Epoch 5/15\n",
            "210/210 [==============================] - 0s 1ms/step - loss: 0.0735 - accuracy: 0.9713\n",
            "Epoch 6/15\n",
            "210/210 [==============================] - 0s 1ms/step - loss: 0.0517 - accuracy: 0.9840\n",
            "Epoch 7/15\n",
            "210/210 [==============================] - 0s 1ms/step - loss: 0.0794 - accuracy: 0.9350\n",
            "Epoch 8/15\n",
            "210/210 [==============================] - 0s 1ms/step - loss: 0.0413 - accuracy: 0.9719\n",
            "Epoch 9/15\n",
            "210/210 [==============================] - 0s 1ms/step - loss: 0.0270 - accuracy: 0.9910\n",
            "Epoch 10/15\n",
            "210/210 [==============================] - 0s 1ms/step - loss: 0.0374 - accuracy: 0.9812\n",
            "Epoch 11/15\n",
            "210/210 [==============================] - 0s 1ms/step - loss: 0.0514 - accuracy: 0.9852\n",
            "Epoch 12/15\n",
            "210/210 [==============================] - 0s 1ms/step - loss: 0.0099 - accuracy: 0.9986\n",
            "Epoch 13/15\n",
            "210/210 [==============================] - 0s 1ms/step - loss: 0.0113 - accuracy: 0.9962\n",
            "Epoch 14/15\n",
            "210/210 [==============================] - 0s 1ms/step - loss: 0.0020 - accuracy: 0.9993\n",
            "Epoch 15/15\n",
            "210/210 [==============================] - 0s 1ms/step - loss: 0.0041 - accuracy: 0.9988\n"
          ],
          "name": "stdout"
        },
        {
          "output_type": "execute_result",
          "data": {
            "text/plain": [
              "<tensorflow.python.keras.callbacks.History at 0x7f1d272dabd0>"
            ]
          },
          "metadata": {
            "tags": []
          },
          "execution_count": 60
        }
      ]
    },
    {
      "cell_type": "markdown",
      "metadata": {
        "id": "MeLOmXUsPGPG"
      },
      "source": [
        "# Final Evaluation"
      ]
    },
    {
      "cell_type": "code",
      "metadata": {
        "colab": {
          "base_uri": "https://localhost:8080/"
        },
        "id": "tQT3cMg2do8D",
        "outputId": "42e9c9a4-97c4-4fe8-c77a-db200367045c"
      },
      "source": [
        "results = model.evaluate(x_test, y_test)\n",
        "print(\"Accuracy for Test Dataset: {acc:.2f}%\".format(acc=results[1]*100))"
      ],
      "execution_count": 63,
      "outputs": [
        {
          "output_type": "stream",
          "text": [
            "5/5 [==============================] - 0s 3ms/step - loss: 0.2370 - accuracy: 0.9571\n",
            "Accuracy for Test Dataset: 95.71%\n"
          ],
          "name": "stdout"
        }
      ]
    }
  ]
}