{
  "nbformat": 4,
  "nbformat_minor": 0,
  "metadata": {
    "colab": {
      "name": "car_price_assignment.ipynb",
      "provenance": []
    },
    "kernelspec": {
      "name": "python3",
      "display_name": "Python 3"
    },
    "language_info": {
      "name": "python"
    }
  },
  "cells": [
    {
      "cell_type": "markdown",
      "metadata": {
        "id": "FP_cvZ66Z7KT"
      },
      "source": [
        "<h1 align=\"center\">DL Assignment: Car Price Prediction (Regression)</h1>"
      ]
    },
    {
      "cell_type": "code",
      "metadata": {
        "id": "a7jUOoEQ-Tcd"
      },
      "source": [
        "import numpy as np\n",
        "import pandas as pd\n",
        "import matplotlib.pyplot as plt\n",
        "import re\n",
        "\n",
        "from keras.utils.np_utils import to_categorical\n",
        "from keras import models, layers, losses"
      ],
      "execution_count": 1,
      "outputs": []
    },
    {
      "cell_type": "markdown",
      "metadata": {
        "id": "SFtLwZvkaebF"
      },
      "source": [
        "# Loading Dataset"
      ]
    },
    {
      "cell_type": "code",
      "metadata": {
        "id": "YnZjYjdn-ymK"
      },
      "source": [
        "dataset_directory = '/content/drive/MyDrive/datasets/car_price_assignment.csv'"
      ],
      "execution_count": 2,
      "outputs": []
    },
    {
      "cell_type": "code",
      "metadata": {
        "id": "M_o51U_C-67I"
      },
      "source": [
        "data_df = pd.read_csv(dataset_directory, index_col=0)"
      ],
      "execution_count": 3,
      "outputs": []
    },
    {
      "cell_type": "markdown",
      "metadata": {
        "id": "868pq0ofakQG"
      },
      "source": [
        "# Preprocessing Dataset"
      ]
    },
    {
      "cell_type": "code",
      "metadata": {
        "colab": {
          "base_uri": "https://localhost:8080/",
          "height": 306
        },
        "id": "nqt3qFwg_4aO",
        "outputId": "465b4b20-59f5-4a48-d31e-d84cd9e712a4"
      },
      "source": [
        "data_df.head()"
      ],
      "execution_count": 4,
      "outputs": [
        {
          "output_type": "execute_result",
          "data": {
            "text/html": [
              "<div>\n",
              "<style scoped>\n",
              "    .dataframe tbody tr th:only-of-type {\n",
              "        vertical-align: middle;\n",
              "    }\n",
              "\n",
              "    .dataframe tbody tr th {\n",
              "        vertical-align: top;\n",
              "    }\n",
              "\n",
              "    .dataframe thead th {\n",
              "        text-align: right;\n",
              "    }\n",
              "</style>\n",
              "<table border=\"1\" class=\"dataframe\">\n",
              "  <thead>\n",
              "    <tr style=\"text-align: right;\">\n",
              "      <th></th>\n",
              "      <th>symboling</th>\n",
              "      <th>CarName</th>\n",
              "      <th>fueltype</th>\n",
              "      <th>aspiration</th>\n",
              "      <th>doornumber</th>\n",
              "      <th>carbody</th>\n",
              "      <th>drivewheel</th>\n",
              "      <th>enginelocation</th>\n",
              "      <th>wheelbase</th>\n",
              "      <th>carlength</th>\n",
              "      <th>carwidth</th>\n",
              "      <th>carheight</th>\n",
              "      <th>curbweight</th>\n",
              "      <th>enginetype</th>\n",
              "      <th>cylindernumber</th>\n",
              "      <th>enginesize</th>\n",
              "      <th>fuelsystem</th>\n",
              "      <th>boreratio</th>\n",
              "      <th>stroke</th>\n",
              "      <th>compressionratio</th>\n",
              "      <th>horsepower</th>\n",
              "      <th>peakrpm</th>\n",
              "      <th>citympg</th>\n",
              "      <th>highwaympg</th>\n",
              "      <th>price</th>\n",
              "    </tr>\n",
              "    <tr>\n",
              "      <th>car_ID</th>\n",
              "      <th></th>\n",
              "      <th></th>\n",
              "      <th></th>\n",
              "      <th></th>\n",
              "      <th></th>\n",
              "      <th></th>\n",
              "      <th></th>\n",
              "      <th></th>\n",
              "      <th></th>\n",
              "      <th></th>\n",
              "      <th></th>\n",
              "      <th></th>\n",
              "      <th></th>\n",
              "      <th></th>\n",
              "      <th></th>\n",
              "      <th></th>\n",
              "      <th></th>\n",
              "      <th></th>\n",
              "      <th></th>\n",
              "      <th></th>\n",
              "      <th></th>\n",
              "      <th></th>\n",
              "      <th></th>\n",
              "      <th></th>\n",
              "      <th></th>\n",
              "    </tr>\n",
              "  </thead>\n",
              "  <tbody>\n",
              "    <tr>\n",
              "      <th>1</th>\n",
              "      <td>3</td>\n",
              "      <td>alfa-romero giulia</td>\n",
              "      <td>gas</td>\n",
              "      <td>std</td>\n",
              "      <td>two</td>\n",
              "      <td>convertible</td>\n",
              "      <td>rwd</td>\n",
              "      <td>front</td>\n",
              "      <td>88.6</td>\n",
              "      <td>168.8</td>\n",
              "      <td>64.1</td>\n",
              "      <td>48.8</td>\n",
              "      <td>2548</td>\n",
              "      <td>dohc</td>\n",
              "      <td>four</td>\n",
              "      <td>130</td>\n",
              "      <td>mpfi</td>\n",
              "      <td>3.47</td>\n",
              "      <td>2.68</td>\n",
              "      <td>9.0</td>\n",
              "      <td>111</td>\n",
              "      <td>5000</td>\n",
              "      <td>21</td>\n",
              "      <td>27</td>\n",
              "      <td>13495.0</td>\n",
              "    </tr>\n",
              "    <tr>\n",
              "      <th>2</th>\n",
              "      <td>3</td>\n",
              "      <td>alfa-romero stelvio</td>\n",
              "      <td>gas</td>\n",
              "      <td>std</td>\n",
              "      <td>two</td>\n",
              "      <td>convertible</td>\n",
              "      <td>rwd</td>\n",
              "      <td>front</td>\n",
              "      <td>88.6</td>\n",
              "      <td>168.8</td>\n",
              "      <td>64.1</td>\n",
              "      <td>48.8</td>\n",
              "      <td>2548</td>\n",
              "      <td>dohc</td>\n",
              "      <td>four</td>\n",
              "      <td>130</td>\n",
              "      <td>mpfi</td>\n",
              "      <td>3.47</td>\n",
              "      <td>2.68</td>\n",
              "      <td>9.0</td>\n",
              "      <td>111</td>\n",
              "      <td>5000</td>\n",
              "      <td>21</td>\n",
              "      <td>27</td>\n",
              "      <td>16500.0</td>\n",
              "    </tr>\n",
              "    <tr>\n",
              "      <th>3</th>\n",
              "      <td>1</td>\n",
              "      <td>alfa-romero Quadrifoglio</td>\n",
              "      <td>gas</td>\n",
              "      <td>std</td>\n",
              "      <td>two</td>\n",
              "      <td>hatchback</td>\n",
              "      <td>rwd</td>\n",
              "      <td>front</td>\n",
              "      <td>94.5</td>\n",
              "      <td>171.2</td>\n",
              "      <td>65.5</td>\n",
              "      <td>52.4</td>\n",
              "      <td>2823</td>\n",
              "      <td>ohcv</td>\n",
              "      <td>six</td>\n",
              "      <td>152</td>\n",
              "      <td>mpfi</td>\n",
              "      <td>2.68</td>\n",
              "      <td>3.47</td>\n",
              "      <td>9.0</td>\n",
              "      <td>154</td>\n",
              "      <td>5000</td>\n",
              "      <td>19</td>\n",
              "      <td>26</td>\n",
              "      <td>16500.0</td>\n",
              "    </tr>\n",
              "    <tr>\n",
              "      <th>4</th>\n",
              "      <td>2</td>\n",
              "      <td>audi 100 ls</td>\n",
              "      <td>gas</td>\n",
              "      <td>std</td>\n",
              "      <td>four</td>\n",
              "      <td>sedan</td>\n",
              "      <td>fwd</td>\n",
              "      <td>front</td>\n",
              "      <td>99.8</td>\n",
              "      <td>176.6</td>\n",
              "      <td>66.2</td>\n",
              "      <td>54.3</td>\n",
              "      <td>2337</td>\n",
              "      <td>ohc</td>\n",
              "      <td>four</td>\n",
              "      <td>109</td>\n",
              "      <td>mpfi</td>\n",
              "      <td>3.19</td>\n",
              "      <td>3.40</td>\n",
              "      <td>10.0</td>\n",
              "      <td>102</td>\n",
              "      <td>5500</td>\n",
              "      <td>24</td>\n",
              "      <td>30</td>\n",
              "      <td>13950.0</td>\n",
              "    </tr>\n",
              "    <tr>\n",
              "      <th>5</th>\n",
              "      <td>2</td>\n",
              "      <td>audi 100ls</td>\n",
              "      <td>gas</td>\n",
              "      <td>std</td>\n",
              "      <td>four</td>\n",
              "      <td>sedan</td>\n",
              "      <td>4wd</td>\n",
              "      <td>front</td>\n",
              "      <td>99.4</td>\n",
              "      <td>176.6</td>\n",
              "      <td>66.4</td>\n",
              "      <td>54.3</td>\n",
              "      <td>2824</td>\n",
              "      <td>ohc</td>\n",
              "      <td>five</td>\n",
              "      <td>136</td>\n",
              "      <td>mpfi</td>\n",
              "      <td>3.19</td>\n",
              "      <td>3.40</td>\n",
              "      <td>8.0</td>\n",
              "      <td>115</td>\n",
              "      <td>5500</td>\n",
              "      <td>18</td>\n",
              "      <td>22</td>\n",
              "      <td>17450.0</td>\n",
              "    </tr>\n",
              "  </tbody>\n",
              "</table>\n",
              "</div>"
            ],
            "text/plain": [
              "        symboling                   CarName  ... highwaympg    price\n",
              "car_ID                                       ...                    \n",
              "1               3        alfa-romero giulia  ...         27  13495.0\n",
              "2               3       alfa-romero stelvio  ...         27  16500.0\n",
              "3               1  alfa-romero Quadrifoglio  ...         26  16500.0\n",
              "4               2               audi 100 ls  ...         30  13950.0\n",
              "5               2                audi 100ls  ...         22  17450.0\n",
              "\n",
              "[5 rows x 25 columns]"
            ]
          },
          "metadata": {
            "tags": []
          },
          "execution_count": 4
        }
      ]
    },
    {
      "cell_type": "code",
      "metadata": {
        "colab": {
          "base_uri": "https://localhost:8080/",
          "height": 317
        },
        "id": "w763ifovQpu_",
        "outputId": "3bf78e1c-d305-47ce-c99b-907c5f815521"
      },
      "source": [
        "data_df.describe()"
      ],
      "execution_count": 5,
      "outputs": [
        {
          "output_type": "execute_result",
          "data": {
            "text/html": [
              "<div>\n",
              "<style scoped>\n",
              "    .dataframe tbody tr th:only-of-type {\n",
              "        vertical-align: middle;\n",
              "    }\n",
              "\n",
              "    .dataframe tbody tr th {\n",
              "        vertical-align: top;\n",
              "    }\n",
              "\n",
              "    .dataframe thead th {\n",
              "        text-align: right;\n",
              "    }\n",
              "</style>\n",
              "<table border=\"1\" class=\"dataframe\">\n",
              "  <thead>\n",
              "    <tr style=\"text-align: right;\">\n",
              "      <th></th>\n",
              "      <th>symboling</th>\n",
              "      <th>wheelbase</th>\n",
              "      <th>carlength</th>\n",
              "      <th>carwidth</th>\n",
              "      <th>carheight</th>\n",
              "      <th>curbweight</th>\n",
              "      <th>enginesize</th>\n",
              "      <th>boreratio</th>\n",
              "      <th>stroke</th>\n",
              "      <th>compressionratio</th>\n",
              "      <th>horsepower</th>\n",
              "      <th>peakrpm</th>\n",
              "      <th>citympg</th>\n",
              "      <th>highwaympg</th>\n",
              "      <th>price</th>\n",
              "    </tr>\n",
              "  </thead>\n",
              "  <tbody>\n",
              "    <tr>\n",
              "      <th>count</th>\n",
              "      <td>205.000000</td>\n",
              "      <td>205.000000</td>\n",
              "      <td>205.000000</td>\n",
              "      <td>205.000000</td>\n",
              "      <td>205.000000</td>\n",
              "      <td>205.000000</td>\n",
              "      <td>205.000000</td>\n",
              "      <td>205.000000</td>\n",
              "      <td>205.000000</td>\n",
              "      <td>205.000000</td>\n",
              "      <td>205.000000</td>\n",
              "      <td>205.000000</td>\n",
              "      <td>205.000000</td>\n",
              "      <td>205.000000</td>\n",
              "      <td>205.000000</td>\n",
              "    </tr>\n",
              "    <tr>\n",
              "      <th>mean</th>\n",
              "      <td>0.834146</td>\n",
              "      <td>98.756585</td>\n",
              "      <td>174.049268</td>\n",
              "      <td>65.907805</td>\n",
              "      <td>53.724878</td>\n",
              "      <td>2555.565854</td>\n",
              "      <td>126.907317</td>\n",
              "      <td>3.329756</td>\n",
              "      <td>3.255415</td>\n",
              "      <td>10.142537</td>\n",
              "      <td>104.117073</td>\n",
              "      <td>5125.121951</td>\n",
              "      <td>25.219512</td>\n",
              "      <td>30.751220</td>\n",
              "      <td>13276.710571</td>\n",
              "    </tr>\n",
              "    <tr>\n",
              "      <th>std</th>\n",
              "      <td>1.245307</td>\n",
              "      <td>6.021776</td>\n",
              "      <td>12.337289</td>\n",
              "      <td>2.145204</td>\n",
              "      <td>2.443522</td>\n",
              "      <td>520.680204</td>\n",
              "      <td>41.642693</td>\n",
              "      <td>0.270844</td>\n",
              "      <td>0.313597</td>\n",
              "      <td>3.972040</td>\n",
              "      <td>39.544167</td>\n",
              "      <td>476.985643</td>\n",
              "      <td>6.542142</td>\n",
              "      <td>6.886443</td>\n",
              "      <td>7988.852332</td>\n",
              "    </tr>\n",
              "    <tr>\n",
              "      <th>min</th>\n",
              "      <td>-2.000000</td>\n",
              "      <td>86.600000</td>\n",
              "      <td>141.100000</td>\n",
              "      <td>60.300000</td>\n",
              "      <td>47.800000</td>\n",
              "      <td>1488.000000</td>\n",
              "      <td>61.000000</td>\n",
              "      <td>2.540000</td>\n",
              "      <td>2.070000</td>\n",
              "      <td>7.000000</td>\n",
              "      <td>48.000000</td>\n",
              "      <td>4150.000000</td>\n",
              "      <td>13.000000</td>\n",
              "      <td>16.000000</td>\n",
              "      <td>5118.000000</td>\n",
              "    </tr>\n",
              "    <tr>\n",
              "      <th>25%</th>\n",
              "      <td>0.000000</td>\n",
              "      <td>94.500000</td>\n",
              "      <td>166.300000</td>\n",
              "      <td>64.100000</td>\n",
              "      <td>52.000000</td>\n",
              "      <td>2145.000000</td>\n",
              "      <td>97.000000</td>\n",
              "      <td>3.150000</td>\n",
              "      <td>3.110000</td>\n",
              "      <td>8.600000</td>\n",
              "      <td>70.000000</td>\n",
              "      <td>4800.000000</td>\n",
              "      <td>19.000000</td>\n",
              "      <td>25.000000</td>\n",
              "      <td>7788.000000</td>\n",
              "    </tr>\n",
              "    <tr>\n",
              "      <th>50%</th>\n",
              "      <td>1.000000</td>\n",
              "      <td>97.000000</td>\n",
              "      <td>173.200000</td>\n",
              "      <td>65.500000</td>\n",
              "      <td>54.100000</td>\n",
              "      <td>2414.000000</td>\n",
              "      <td>120.000000</td>\n",
              "      <td>3.310000</td>\n",
              "      <td>3.290000</td>\n",
              "      <td>9.000000</td>\n",
              "      <td>95.000000</td>\n",
              "      <td>5200.000000</td>\n",
              "      <td>24.000000</td>\n",
              "      <td>30.000000</td>\n",
              "      <td>10295.000000</td>\n",
              "    </tr>\n",
              "    <tr>\n",
              "      <th>75%</th>\n",
              "      <td>2.000000</td>\n",
              "      <td>102.400000</td>\n",
              "      <td>183.100000</td>\n",
              "      <td>66.900000</td>\n",
              "      <td>55.500000</td>\n",
              "      <td>2935.000000</td>\n",
              "      <td>141.000000</td>\n",
              "      <td>3.580000</td>\n",
              "      <td>3.410000</td>\n",
              "      <td>9.400000</td>\n",
              "      <td>116.000000</td>\n",
              "      <td>5500.000000</td>\n",
              "      <td>30.000000</td>\n",
              "      <td>34.000000</td>\n",
              "      <td>16503.000000</td>\n",
              "    </tr>\n",
              "    <tr>\n",
              "      <th>max</th>\n",
              "      <td>3.000000</td>\n",
              "      <td>120.900000</td>\n",
              "      <td>208.100000</td>\n",
              "      <td>72.300000</td>\n",
              "      <td>59.800000</td>\n",
              "      <td>4066.000000</td>\n",
              "      <td>326.000000</td>\n",
              "      <td>3.940000</td>\n",
              "      <td>4.170000</td>\n",
              "      <td>23.000000</td>\n",
              "      <td>288.000000</td>\n",
              "      <td>6600.000000</td>\n",
              "      <td>49.000000</td>\n",
              "      <td>54.000000</td>\n",
              "      <td>45400.000000</td>\n",
              "    </tr>\n",
              "  </tbody>\n",
              "</table>\n",
              "</div>"
            ],
            "text/plain": [
              "        symboling   wheelbase   carlength  ...     citympg  highwaympg         price\n",
              "count  205.000000  205.000000  205.000000  ...  205.000000  205.000000    205.000000\n",
              "mean     0.834146   98.756585  174.049268  ...   25.219512   30.751220  13276.710571\n",
              "std      1.245307    6.021776   12.337289  ...    6.542142    6.886443   7988.852332\n",
              "min     -2.000000   86.600000  141.100000  ...   13.000000   16.000000   5118.000000\n",
              "25%      0.000000   94.500000  166.300000  ...   19.000000   25.000000   7788.000000\n",
              "50%      1.000000   97.000000  173.200000  ...   24.000000   30.000000  10295.000000\n",
              "75%      2.000000  102.400000  183.100000  ...   30.000000   34.000000  16503.000000\n",
              "max      3.000000  120.900000  208.100000  ...   49.000000   54.000000  45400.000000\n",
              "\n",
              "[8 rows x 15 columns]"
            ]
          },
          "metadata": {
            "tags": []
          },
          "execution_count": 5
        }
      ]
    },
    {
      "cell_type": "code",
      "metadata": {
        "colab": {
          "base_uri": "https://localhost:8080/"
        },
        "id": "YxVn3es-IO8q",
        "outputId": "25ed4de5-52f9-44e4-9ba7-a749e97393c0"
      },
      "source": [
        "data_df.shape"
      ],
      "execution_count": 6,
      "outputs": [
        {
          "output_type": "execute_result",
          "data": {
            "text/plain": [
              "(205, 25)"
            ]
          },
          "metadata": {
            "tags": []
          },
          "execution_count": 6
        }
      ]
    },
    {
      "cell_type": "markdown",
      "metadata": {
        "id": "orLxC3wWaos3"
      },
      "source": [
        "## Checking for Duplicate Value"
      ]
    },
    {
      "cell_type": "markdown",
      "metadata": {
        "id": "852bYRyNa8Gb"
      },
      "source": [
        "There are no duplicate rows."
      ]
    },
    {
      "cell_type": "code",
      "metadata": {
        "colab": {
          "base_uri": "https://localhost:8080/"
        },
        "id": "h_bM3oUkJSS8",
        "outputId": "946a8f73-55b0-4ce2-9bc7-63bf21ba38d9"
      },
      "source": [
        "data_df.duplicated().any()"
      ],
      "execution_count": 7,
      "outputs": [
        {
          "output_type": "execute_result",
          "data": {
            "text/plain": [
              "False"
            ]
          },
          "metadata": {
            "tags": []
          },
          "execution_count": 7
        }
      ]
    },
    {
      "cell_type": "markdown",
      "metadata": {
        "id": "ukXvPVLIbCHe"
      },
      "source": [
        "## Checking for Missing Values"
      ]
    },
    {
      "cell_type": "markdown",
      "metadata": {
        "id": "_NVI88qwbHcp"
      },
      "source": [
        "There are no missing values."
      ]
    },
    {
      "cell_type": "code",
      "metadata": {
        "colab": {
          "base_uri": "https://localhost:8080/"
        },
        "id": "-BcpBFB44FD1",
        "outputId": "c3b96092-dd25-4870-99d3-f98b5fc64809"
      },
      "source": [
        "data_df.info()"
      ],
      "execution_count": 8,
      "outputs": [
        {
          "output_type": "stream",
          "text": [
            "<class 'pandas.core.frame.DataFrame'>\n",
            "Int64Index: 205 entries, 1 to 205\n",
            "Data columns (total 25 columns):\n",
            " #   Column            Non-Null Count  Dtype  \n",
            "---  ------            --------------  -----  \n",
            " 0   symboling         205 non-null    int64  \n",
            " 1   CarName           205 non-null    object \n",
            " 2   fueltype          205 non-null    object \n",
            " 3   aspiration        205 non-null    object \n",
            " 4   doornumber        205 non-null    object \n",
            " 5   carbody           205 non-null    object \n",
            " 6   drivewheel        205 non-null    object \n",
            " 7   enginelocation    205 non-null    object \n",
            " 8   wheelbase         205 non-null    float64\n",
            " 9   carlength         205 non-null    float64\n",
            " 10  carwidth          205 non-null    float64\n",
            " 11  carheight         205 non-null    float64\n",
            " 12  curbweight        205 non-null    int64  \n",
            " 13  enginetype        205 non-null    object \n",
            " 14  cylindernumber    205 non-null    object \n",
            " 15  enginesize        205 non-null    int64  \n",
            " 16  fuelsystem        205 non-null    object \n",
            " 17  boreratio         205 non-null    float64\n",
            " 18  stroke            205 non-null    float64\n",
            " 19  compressionratio  205 non-null    float64\n",
            " 20  horsepower        205 non-null    int64  \n",
            " 21  peakrpm           205 non-null    int64  \n",
            " 22  citympg           205 non-null    int64  \n",
            " 23  highwaympg        205 non-null    int64  \n",
            " 24  price             205 non-null    float64\n",
            "dtypes: float64(8), int64(7), object(10)\n",
            "memory usage: 41.6+ KB\n"
          ],
          "name": "stdout"
        }
      ]
    },
    {
      "cell_type": "markdown",
      "metadata": {
        "id": "lurLpmnFbN_Z"
      },
      "source": [
        "## Converting String Data to Numerical Data"
      ]
    },
    {
      "cell_type": "markdown",
      "metadata": {
        "id": "Q88afnZvbvPX"
      },
      "source": [
        "There are some columns in the data containg strings. Let's convert them to numerical form."
      ]
    },
    {
      "cell_type": "markdown",
      "metadata": {
        "id": "350qBNFPDt6t"
      },
      "source": [
        "But before that, the \"CarName\" column contains car model names. I think Car Name is irrelevant in our case. However, company's good will do have effect on a car price. So, let's convert this column to company/brand name."
      ]
    },
    {
      "cell_type": "code",
      "metadata": {
        "id": "f_EBIzrZA4h3"
      },
      "source": [
        "def convert_to_brand_name(from_str, to_str):\n",
        "  regexp = re.compile(from_str + \"[0-9A-Z\\s\\-()]+\", flags=re.RegexFlag.IGNORECASE)\n",
        "  data_df[\"CarName\"] = data_df[\"CarName\"].replace(regexp, value=to_str, regex=True)"
      ],
      "execution_count": 9,
      "outputs": []
    },
    {
      "cell_type": "code",
      "metadata": {
        "id": "C5IWxohDBdJ8"
      },
      "source": [
        "convert_to_brand_name(from_str=\"alfa\", to_str=\"alfa romeo\")\n",
        "convert_to_brand_name(from_str=\"audi\", to_str=\"audi\")\n",
        "convert_to_brand_name(from_str=\"bmw\", to_str=\"bmw\")\n",
        "convert_to_brand_name(from_str=\"chevrolet\", to_str=\"chevrolet\")\n",
        "convert_to_brand_name(from_str=\"dodge\", to_str=\"dodge\")\n",
        "convert_to_brand_name(from_str=\"honda\", to_str=\"honda\")\n",
        "convert_to_brand_name(from_str=\"isuzu\", to_str=\"isuzu\")\n",
        "convert_to_brand_name(from_str=\"jaguar\", to_str=\"jaguar\")\n",
        "convert_to_brand_name(from_str=\"ma\", to_str=\"mazda\")\n",
        "convert_to_brand_name(from_str=\"buick\", to_str=\"buick\")\n",
        "convert_to_brand_name(from_str=\"mercury\", to_str=\"mercury\")\n",
        "convert_to_brand_name(from_str=\"mitsubishi\", to_str=\"mitsubishi\")\n",
        "convert_to_brand_name(from_str=\"nissan\", to_str=\"nissan\")\n",
        "convert_to_brand_name(from_str=\"peugeot\", to_str=\"peugeot\")\n",
        "convert_to_brand_name(from_str=\"plymouth\", to_str=\"plymouth\")\n",
        "convert_to_brand_name(from_str=\"por\", to_str=\"porsche\")\n",
        "convert_to_brand_name(from_str=\"renault\", to_str=\"renault\")\n",
        "convert_to_brand_name(from_str=\"saab\", to_str=\"saab\")\n",
        "convert_to_brand_name(from_str=\"subaru\", to_str=\"subaru\")\n",
        "convert_to_brand_name(from_str=\"to\", to_str=\"toyota\")\n",
        "convert_to_brand_name(from_str=\"volkswagen\", to_str=\"volkswagen\")\n",
        "convert_to_brand_name(from_str=\"vokswagen\", to_str=\"volkswagen\")\n",
        "convert_to_brand_name(from_str=\"vw\", to_str=\"volkswagen\")\n",
        "convert_to_brand_name(from_str=\"volvo\", to_str=\"volvo\")"
      ],
      "execution_count": 10,
      "outputs": []
    },
    {
      "cell_type": "markdown",
      "metadata": {
        "id": "aUML9hGTEQ13"
      },
      "source": [
        "Now, convert the data into numerical form."
      ]
    },
    {
      "cell_type": "code",
      "metadata": {
        "id": "RE5hDTExXd9R"
      },
      "source": [
        "def convert_to_categorical(df, col):\n",
        "  data_df[col] = data_df[col].astype(\"category\").cat.codes"
      ],
      "execution_count": 11,
      "outputs": []
    },
    {
      "cell_type": "code",
      "metadata": {
        "id": "rpE-5Qp1xvm8"
      },
      "source": [
        "convert_to_categorical(data_df, \"CarName\")\n",
        "convert_to_categorical(data_df, \"fueltype\")\n",
        "convert_to_categorical(data_df, \"aspiration\")\n",
        "convert_to_categorical(data_df, \"doornumber\")\n",
        "convert_to_categorical(data_df, \"carbody\")\n",
        "convert_to_categorical(data_df, \"drivewheel\")\n",
        "convert_to_categorical(data_df, \"enginelocation\")\n",
        "convert_to_categorical(data_df, \"enginetype\")\n",
        "convert_to_categorical(data_df, \"cylindernumber\")\n",
        "convert_to_categorical(data_df, \"fuelsystem\")"
      ],
      "execution_count": 12,
      "outputs": []
    },
    {
      "cell_type": "code",
      "metadata": {
        "colab": {
          "base_uri": "https://localhost:8080/",
          "height": 255
        },
        "id": "cA95BY5hFfl2",
        "outputId": "623f2732-2f41-48ad-a412-d34c13af0f52"
      },
      "source": [
        "data_df.head()"
      ],
      "execution_count": 13,
      "outputs": [
        {
          "output_type": "execute_result",
          "data": {
            "text/html": [
              "<div>\n",
              "<style scoped>\n",
              "    .dataframe tbody tr th:only-of-type {\n",
              "        vertical-align: middle;\n",
              "    }\n",
              "\n",
              "    .dataframe tbody tr th {\n",
              "        vertical-align: top;\n",
              "    }\n",
              "\n",
              "    .dataframe thead th {\n",
              "        text-align: right;\n",
              "    }\n",
              "</style>\n",
              "<table border=\"1\" class=\"dataframe\">\n",
              "  <thead>\n",
              "    <tr style=\"text-align: right;\">\n",
              "      <th></th>\n",
              "      <th>symboling</th>\n",
              "      <th>CarName</th>\n",
              "      <th>fueltype</th>\n",
              "      <th>aspiration</th>\n",
              "      <th>doornumber</th>\n",
              "      <th>carbody</th>\n",
              "      <th>drivewheel</th>\n",
              "      <th>enginelocation</th>\n",
              "      <th>wheelbase</th>\n",
              "      <th>carlength</th>\n",
              "      <th>carwidth</th>\n",
              "      <th>carheight</th>\n",
              "      <th>curbweight</th>\n",
              "      <th>enginetype</th>\n",
              "      <th>cylindernumber</th>\n",
              "      <th>enginesize</th>\n",
              "      <th>fuelsystem</th>\n",
              "      <th>boreratio</th>\n",
              "      <th>stroke</th>\n",
              "      <th>compressionratio</th>\n",
              "      <th>horsepower</th>\n",
              "      <th>peakrpm</th>\n",
              "      <th>citympg</th>\n",
              "      <th>highwaympg</th>\n",
              "      <th>price</th>\n",
              "    </tr>\n",
              "    <tr>\n",
              "      <th>car_ID</th>\n",
              "      <th></th>\n",
              "      <th></th>\n",
              "      <th></th>\n",
              "      <th></th>\n",
              "      <th></th>\n",
              "      <th></th>\n",
              "      <th></th>\n",
              "      <th></th>\n",
              "      <th></th>\n",
              "      <th></th>\n",
              "      <th></th>\n",
              "      <th></th>\n",
              "      <th></th>\n",
              "      <th></th>\n",
              "      <th></th>\n",
              "      <th></th>\n",
              "      <th></th>\n",
              "      <th></th>\n",
              "      <th></th>\n",
              "      <th></th>\n",
              "      <th></th>\n",
              "      <th></th>\n",
              "      <th></th>\n",
              "      <th></th>\n",
              "      <th></th>\n",
              "    </tr>\n",
              "  </thead>\n",
              "  <tbody>\n",
              "    <tr>\n",
              "      <th>1</th>\n",
              "      <td>3</td>\n",
              "      <td>0</td>\n",
              "      <td>1</td>\n",
              "      <td>0</td>\n",
              "      <td>1</td>\n",
              "      <td>0</td>\n",
              "      <td>2</td>\n",
              "      <td>0</td>\n",
              "      <td>88.6</td>\n",
              "      <td>168.8</td>\n",
              "      <td>64.1</td>\n",
              "      <td>48.8</td>\n",
              "      <td>2548</td>\n",
              "      <td>0</td>\n",
              "      <td>2</td>\n",
              "      <td>130</td>\n",
              "      <td>5</td>\n",
              "      <td>3.47</td>\n",
              "      <td>2.68</td>\n",
              "      <td>9.0</td>\n",
              "      <td>111</td>\n",
              "      <td>5000</td>\n",
              "      <td>21</td>\n",
              "      <td>27</td>\n",
              "      <td>13495.0</td>\n",
              "    </tr>\n",
              "    <tr>\n",
              "      <th>2</th>\n",
              "      <td>3</td>\n",
              "      <td>0</td>\n",
              "      <td>1</td>\n",
              "      <td>0</td>\n",
              "      <td>1</td>\n",
              "      <td>0</td>\n",
              "      <td>2</td>\n",
              "      <td>0</td>\n",
              "      <td>88.6</td>\n",
              "      <td>168.8</td>\n",
              "      <td>64.1</td>\n",
              "      <td>48.8</td>\n",
              "      <td>2548</td>\n",
              "      <td>0</td>\n",
              "      <td>2</td>\n",
              "      <td>130</td>\n",
              "      <td>5</td>\n",
              "      <td>3.47</td>\n",
              "      <td>2.68</td>\n",
              "      <td>9.0</td>\n",
              "      <td>111</td>\n",
              "      <td>5000</td>\n",
              "      <td>21</td>\n",
              "      <td>27</td>\n",
              "      <td>16500.0</td>\n",
              "    </tr>\n",
              "    <tr>\n",
              "      <th>3</th>\n",
              "      <td>1</td>\n",
              "      <td>0</td>\n",
              "      <td>1</td>\n",
              "      <td>0</td>\n",
              "      <td>1</td>\n",
              "      <td>2</td>\n",
              "      <td>2</td>\n",
              "      <td>0</td>\n",
              "      <td>94.5</td>\n",
              "      <td>171.2</td>\n",
              "      <td>65.5</td>\n",
              "      <td>52.4</td>\n",
              "      <td>2823</td>\n",
              "      <td>5</td>\n",
              "      <td>3</td>\n",
              "      <td>152</td>\n",
              "      <td>5</td>\n",
              "      <td>2.68</td>\n",
              "      <td>3.47</td>\n",
              "      <td>9.0</td>\n",
              "      <td>154</td>\n",
              "      <td>5000</td>\n",
              "      <td>19</td>\n",
              "      <td>26</td>\n",
              "      <td>16500.0</td>\n",
              "    </tr>\n",
              "    <tr>\n",
              "      <th>4</th>\n",
              "      <td>2</td>\n",
              "      <td>1</td>\n",
              "      <td>1</td>\n",
              "      <td>0</td>\n",
              "      <td>0</td>\n",
              "      <td>3</td>\n",
              "      <td>1</td>\n",
              "      <td>0</td>\n",
              "      <td>99.8</td>\n",
              "      <td>176.6</td>\n",
              "      <td>66.2</td>\n",
              "      <td>54.3</td>\n",
              "      <td>2337</td>\n",
              "      <td>3</td>\n",
              "      <td>2</td>\n",
              "      <td>109</td>\n",
              "      <td>5</td>\n",
              "      <td>3.19</td>\n",
              "      <td>3.40</td>\n",
              "      <td>10.0</td>\n",
              "      <td>102</td>\n",
              "      <td>5500</td>\n",
              "      <td>24</td>\n",
              "      <td>30</td>\n",
              "      <td>13950.0</td>\n",
              "    </tr>\n",
              "    <tr>\n",
              "      <th>5</th>\n",
              "      <td>2</td>\n",
              "      <td>1</td>\n",
              "      <td>1</td>\n",
              "      <td>0</td>\n",
              "      <td>0</td>\n",
              "      <td>3</td>\n",
              "      <td>0</td>\n",
              "      <td>0</td>\n",
              "      <td>99.4</td>\n",
              "      <td>176.6</td>\n",
              "      <td>66.4</td>\n",
              "      <td>54.3</td>\n",
              "      <td>2824</td>\n",
              "      <td>3</td>\n",
              "      <td>1</td>\n",
              "      <td>136</td>\n",
              "      <td>5</td>\n",
              "      <td>3.19</td>\n",
              "      <td>3.40</td>\n",
              "      <td>8.0</td>\n",
              "      <td>115</td>\n",
              "      <td>5500</td>\n",
              "      <td>18</td>\n",
              "      <td>22</td>\n",
              "      <td>17450.0</td>\n",
              "    </tr>\n",
              "  </tbody>\n",
              "</table>\n",
              "</div>"
            ],
            "text/plain": [
              "        symboling  CarName  fueltype  ...  citympg  highwaympg    price\n",
              "car_ID                                ...                              \n",
              "1               3        0         1  ...       21          27  13495.0\n",
              "2               3        0         1  ...       21          27  16500.0\n",
              "3               1        0         1  ...       19          26  16500.0\n",
              "4               2        1         1  ...       24          30  13950.0\n",
              "5               2        1         1  ...       18          22  17450.0\n",
              "\n",
              "[5 rows x 25 columns]"
            ]
          },
          "metadata": {
            "tags": []
          },
          "execution_count": 13
        }
      ]
    },
    {
      "cell_type": "markdown",
      "metadata": {
        "id": "DbLscmLscPFS"
      },
      "source": [
        "Now, the data is converted into numerical form."
      ]
    },
    {
      "cell_type": "code",
      "metadata": {
        "colab": {
          "base_uri": "https://localhost:8080/"
        },
        "id": "1jiHTkEXys-e",
        "outputId": "2ac5f936-a8f9-4b0d-e740-00c1924a40eb"
      },
      "source": [
        "data_df.info()"
      ],
      "execution_count": 14,
      "outputs": [
        {
          "output_type": "stream",
          "text": [
            "<class 'pandas.core.frame.DataFrame'>\n",
            "Int64Index: 205 entries, 1 to 205\n",
            "Data columns (total 25 columns):\n",
            " #   Column            Non-Null Count  Dtype  \n",
            "---  ------            --------------  -----  \n",
            " 0   symboling         205 non-null    int64  \n",
            " 1   CarName           205 non-null    int8   \n",
            " 2   fueltype          205 non-null    int8   \n",
            " 3   aspiration        205 non-null    int8   \n",
            " 4   doornumber        205 non-null    int8   \n",
            " 5   carbody           205 non-null    int8   \n",
            " 6   drivewheel        205 non-null    int8   \n",
            " 7   enginelocation    205 non-null    int8   \n",
            " 8   wheelbase         205 non-null    float64\n",
            " 9   carlength         205 non-null    float64\n",
            " 10  carwidth          205 non-null    float64\n",
            " 11  carheight         205 non-null    float64\n",
            " 12  curbweight        205 non-null    int64  \n",
            " 13  enginetype        205 non-null    int8   \n",
            " 14  cylindernumber    205 non-null    int8   \n",
            " 15  enginesize        205 non-null    int64  \n",
            " 16  fuelsystem        205 non-null    int8   \n",
            " 17  boreratio         205 non-null    float64\n",
            " 18  stroke            205 non-null    float64\n",
            " 19  compressionratio  205 non-null    float64\n",
            " 20  horsepower        205 non-null    int64  \n",
            " 21  peakrpm           205 non-null    int64  \n",
            " 22  citympg           205 non-null    int64  \n",
            " 23  highwaympg        205 non-null    int64  \n",
            " 24  price             205 non-null    float64\n",
            "dtypes: float64(8), int64(7), int8(10)\n",
            "memory usage: 27.6 KB\n"
          ],
          "name": "stdout"
        }
      ]
    },
    {
      "cell_type": "markdown",
      "metadata": {
        "id": "fQucO2-6JOT1"
      },
      "source": [
        "## Creating Tensors for Training, Validation and Testing Datasets"
      ]
    },
    {
      "cell_type": "markdown",
      "metadata": {
        "id": "E4BXdvHQJkw-"
      },
      "source": [
        "Let's, first, shuffle the data."
      ]
    },
    {
      "cell_type": "code",
      "metadata": {
        "id": "9BVzbPSCJMEI"
      },
      "source": [
        "data_arr = np.asarray(data_df)"
      ],
      "execution_count": 15,
      "outputs": []
    },
    {
      "cell_type": "code",
      "metadata": {
        "id": "HLzhCtjzJc-p"
      },
      "source": [
        "np.random.seed(1234)\n",
        "np.random.shuffle(data_arr)"
      ],
      "execution_count": 16,
      "outputs": []
    },
    {
      "cell_type": "markdown",
      "metadata": {
        "id": "CijwfginKGTY"
      },
      "source": [
        "Now let's prepare the tensors for feeding our model."
      ]
    },
    {
      "cell_type": "code",
      "metadata": {
        "id": "Jqai9P-cJjBT"
      },
      "source": [
        "x_train = data_arr[:int(data_arr.shape[0] * 0.5), :-1]\n",
        "y_train = data_arr[:int(data_arr.shape[0] * 0.5), -1]\n",
        "\n",
        "x_val = data_arr[int(data_arr.shape[0] * 0.5) : int(data_arr.shape[0] * 0.7), :-1]\n",
        "y_val = data_arr[int(data_arr.shape[0] * 0.5) : int(data_arr.shape[0] * 0.7), -1]\n",
        "\n",
        "x_test = data_arr[int(data_arr.shape[0] * 0.7):, :-1]\n",
        "y_test = data_arr[int(data_arr.shape[0] * 0.7):, -1]"
      ],
      "execution_count": 17,
      "outputs": []
    },
    {
      "cell_type": "code",
      "metadata": {
        "colab": {
          "base_uri": "https://localhost:8080/"
        },
        "id": "D7X-WU1TKIN4",
        "outputId": "8834e1aa-f3a0-49fe-855b-a7377fcad77b"
      },
      "source": [
        "num_features = x_train.shape[1]\n",
        "num_features"
      ],
      "execution_count": 18,
      "outputs": [
        {
          "output_type": "execute_result",
          "data": {
            "text/plain": [
              "24"
            ]
          },
          "metadata": {
            "tags": []
          },
          "execution_count": 18
        }
      ]
    },
    {
      "cell_type": "markdown",
      "metadata": {
        "id": "zs2J8oCjKeMN"
      },
      "source": [
        "# Build the Model"
      ]
    },
    {
      "cell_type": "code",
      "metadata": {
        "id": "qzhC5oqQKLWf"
      },
      "source": [
        "def build_model(num_hidden_units=16):\n",
        "  model = models.Sequential()\n",
        "  model.add(layers.Dense(num_hidden_units, activation='relu', input_shape=(num_features, )))\n",
        "  model.add(layers.Dense(num_hidden_units, activation='relu'))\n",
        "  model.add(layers.Dense(num_hidden_units, activation='relu'))\n",
        "  model.add(layers.Dense(1))\n",
        "\n",
        "  model.compile(\n",
        "    optimizer='rmsprop',\n",
        "    loss=losses.mse,\n",
        "    metrics=['mae']\n",
        "  )\n",
        "\n",
        "  return model"
      ],
      "execution_count": 19,
      "outputs": []
    },
    {
      "cell_type": "code",
      "metadata": {
        "id": "I_qg511zKj06"
      },
      "source": [
        "def smooth_curve(points, factor=0.9):\n",
        "  smoothed_points = np.zeros_like(points)\n",
        "  for i, point in enumerate(points):\n",
        "    if i > 0:\n",
        "      previous = smoothed_points[i - 1]\n",
        "      smoothed_points[i] = previous * factor + point * (1- factor)\n",
        "    else:\n",
        "      smoothed_points[0] = point\n",
        "  \n",
        "  return smoothed_points"
      ],
      "execution_count": 20,
      "outputs": []
    },
    {
      "cell_type": "markdown",
      "metadata": {
        "id": "94iDJlTZFm-7"
      },
      "source": [
        "# Training the Model"
      ]
    },
    {
      "cell_type": "markdown",
      "metadata": {
        "id": "BCHJTs3WFp68"
      },
      "source": [
        "Now, we will train our model for different number of hidden units."
      ]
    },
    {
      "cell_type": "markdown",
      "metadata": {
        "id": "qVQAdFLpFxZh"
      },
      "source": [
        "## Exp1: Hidden Units = 2"
      ]
    },
    {
      "cell_type": "code",
      "metadata": {
        "colab": {
          "base_uri": "https://localhost:8080/",
          "height": 312
        },
        "id": "1psM8QiMKlXV",
        "outputId": "eb280e8b-38f8-4180-d4b4-b01504826291"
      },
      "source": [
        "exp_num = 1\n",
        "num_epochs = 500\n",
        "num_hidden_units = 2\n",
        "batch_size = 1\n",
        "\n",
        "model1 = build_model(num_hidden_units)\n",
        "history1 = model1.fit(\n",
        "  x_train,\n",
        "  y_train,\n",
        "  epochs=num_epochs,\n",
        "  batch_size=batch_size,\n",
        "  validation_data=(x_val, y_val),\n",
        "  verbose=False\n",
        ")\n",
        "\n",
        "train_mae_1 = history1.history['mae']\n",
        "val_mae_1 = history1.history['val_mae']\n",
        "\n",
        "plt.clf()\n",
        "plt.plot(range(1, num_epochs+1), train_mae_1)\n",
        "plt.plot(range(1, num_epochs+1), val_mae_1)\n",
        "plt.title('Exp #{e} MAE by Epochs: Hidden Units {u}'.format(\n",
        "  e=exp_num, u=num_hidden_units\n",
        "))\n",
        "plt.xlabel('Epochs')\n",
        "plt.ylabel('Mean Asolute Error')\n",
        "plt.legend(['Training MAE', 'Validation MAE'])\n",
        "plt.grid()\n",
        "plt.show()\n",
        "\n",
        "print(\"Validation MAE after {e} Epochs: {v:.4f}\".format(e=num_epochs, v=val_mae_1[-1]))"
      ],
      "execution_count": 23,
      "outputs": [
        {
          "output_type": "display_data",
          "data": {
            "image/png": "[encoded data removed]",
            "text/plain": [
              "<Figure size 432x288 with 1 Axes>"
            ]
          },
          "metadata": {
            "tags": [],
            "needs_background": "light"
          }
        },
        {
          "output_type": "stream",
          "text": [
            "Validation MAE after 500 Epochs: 2681.0725\n"
          ],
          "name": "stdout"
        }
      ]
    },
    {
      "cell_type": "markdown",
      "metadata": {
        "id": "rrzOeVGfFzKs"
      },
      "source": [
        "## Exp2: Hidden Units = 4"
      ]
    },
    {
      "cell_type": "code",
      "metadata": {
        "colab": {
          "base_uri": "https://localhost:8080/",
          "height": 312
        },
        "id": "GcngpIKRKy34",
        "outputId": "11016621-e451-4ff7-aecf-404ebadf4b01"
      },
      "source": [
        "exp_num = 2\n",
        "num_epochs = 500\n",
        "num_hidden_units = 4\n",
        "batch_size = 1\n",
        "\n",
        "model2 = build_model(num_hidden_units)\n",
        "history2 = model2.fit(\n",
        "  x_train,\n",
        "  y_train,\n",
        "  epochs=num_epochs,\n",
        "  batch_size=batch_size,\n",
        "  validation_data=(x_val, y_val),\n",
        "  verbose=False\n",
        ")\n",
        "\n",
        "train_mae_2 = history2.history['mae']\n",
        "val_mae_2 = history2.history['val_mae']\n",
        "\n",
        "plt.clf()\n",
        "plt.plot(range(1, num_epochs+1), train_mae_2)\n",
        "plt.plot(range(1, num_epochs+1), val_mae_2)\n",
        "plt.title('Exp #{e} MAE by Epochs: Hidden Units {u}'.format(\n",
        "  e=exp_num, u=num_hidden_units\n",
        "))\n",
        "plt.xlabel('Epochs')\n",
        "plt.ylabel('Mean Asolute Error')\n",
        "plt.legend(['Training MAE', 'Validation MAE'])\n",
        "plt.grid()\n",
        "plt.show()\n",
        "\n",
        "print(\"Validation MAE after {e} Epochs: {v:.4f}\".format(e=num_epochs, v=val_mae_2[-1]))"
      ],
      "execution_count": 29,
      "outputs": [
        {
          "output_type": "display_data",
          "data": {
            "image/png": "[encoded data removed]",
            "text/plain": [
              "<Figure size 432x288 with 1 Axes>"
            ]
          },
          "metadata": {
            "tags": [],
            "needs_background": "light"
          }
        },
        {
          "output_type": "stream",
          "text": [
            "Validation MAE after 500 Epochs: 2574.3835\n"
          ],
          "name": "stdout"
        }
      ]
    },
    {
      "cell_type": "markdown",
      "metadata": {
        "id": "0Xx9EXI5F2-A"
      },
      "source": [
        "## Exp3: Hidden Units = 8"
      ]
    },
    {
      "cell_type": "code",
      "metadata": {
        "colab": {
          "base_uri": "https://localhost:8080/",
          "height": 312
        },
        "id": "KrS7XiImMNtQ",
        "outputId": "c5d6f4b2-0037-450d-fdd6-14dc03a06a9c"
      },
      "source": [
        "exp_num = 3\n",
        "num_epochs = 500\n",
        "num_hidden_units = 8\n",
        "batch_size = 1\n",
        "\n",
        "model3 = build_model(num_hidden_units)\n",
        "history3 = model3.fit(\n",
        "  x_train,\n",
        "  y_train,\n",
        "  epochs=num_epochs,\n",
        "  batch_size=batch_size,\n",
        "  validation_data=(x_val, y_val),\n",
        "  verbose=False\n",
        ")\n",
        "\n",
        "train_mae_3 = history3.history['mae']\n",
        "val_mae_3 = history3.history['val_mae']\n",
        "\n",
        "plt.clf()\n",
        "plt.plot(range(1, num_epochs+1), train_mae_3)\n",
        "plt.plot(range(1, num_epochs+1), val_mae_3)\n",
        "plt.title('Exp #{e} MAE by Epochs: Hidden Units {u}'.format(\n",
        "  e=exp_num, u=num_hidden_units\n",
        "))\n",
        "plt.xlabel('Epochs')\n",
        "plt.ylabel('Mean Asolute Error')\n",
        "plt.legend(['Training MAE', 'Validation MAE'])\n",
        "plt.grid()\n",
        "plt.show()\n",
        "\n",
        "print(\"Validation MAE after {e} Epochs: {v:.4f}\".format(e=num_epochs, v=val_mae_3[-1]))"
      ],
      "execution_count": 30,
      "outputs": [
        {
          "output_type": "display_data",
          "data": {
            "image/png": "[encoded data removed]",
            "text/plain": [
              "<Figure size 432x288 with 1 Axes>"
            ]
          },
          "metadata": {
            "tags": [],
            "needs_background": "light"
          }
        },
        {
          "output_type": "stream",
          "text": [
            "Validation MAE after 500 Epochs: 2169.9397\n"
          ],
          "name": "stdout"
        }
      ]
    },
    {
      "cell_type": "markdown",
      "metadata": {
        "id": "dfLcGey1F6uW"
      },
      "source": [
        "## Exp4: Hidden Units = 16"
      ]
    },
    {
      "cell_type": "code",
      "metadata": {
        "colab": {
          "base_uri": "https://localhost:8080/",
          "height": 312
        },
        "id": "DzeRuoJcNeIB",
        "outputId": "e81df035-3ada-4493-dabf-4efcd3bd566c"
      },
      "source": [
        "exp_num = 4\n",
        "num_epochs = 500\n",
        "num_hidden_units = 16\n",
        "batch_size = 1\n",
        "\n",
        "model4 = build_model(num_hidden_units)\n",
        "history4 = model4.fit(\n",
        "  x_train,\n",
        "  y_train,\n",
        "  epochs=num_epochs,\n",
        "  batch_size=batch_size,\n",
        "  validation_data=(x_val, y_val),\n",
        "  verbose=False\n",
        ")\n",
        "\n",
        "train_mae_4 = history4.history['mae']\n",
        "val_mae_4 = history4.history['val_mae']\n",
        "\n",
        "plt.clf()\n",
        "plt.plot(range(1, num_epochs+1), train_mae_4)\n",
        "plt.plot(range(1, num_epochs+1), val_mae_4)\n",
        "plt.title('Exp #{e} MAE by Epochs: Hidden Units {u}'.format(\n",
        "  e=exp_num, u=num_hidden_units\n",
        "))\n",
        "plt.xlabel('Epochs')\n",
        "plt.ylabel('Mean Asolute Error')\n",
        "plt.legend(['Training MAE', 'Validation MAE'])\n",
        "plt.grid()\n",
        "plt.show()\n",
        "\n",
        "print(\"Validation MAE after {e} Epochs: {v:.4f}\".format(e=num_epochs, v=val_mae_4[-1]))"
      ],
      "execution_count": 31,
      "outputs": [
        {
          "output_type": "display_data",
          "data": {
            "image/png": "[encoded data removed]",
            "text/plain": [
              "<Figure size 432x288 with 1 Axes>"
            ]
          },
          "metadata": {
            "tags": [],
            "needs_background": "light"
          }
        },
        {
          "output_type": "stream",
          "text": [
            "Validation MAE after 500 Epochs: 1861.2418\n"
          ],
          "name": "stdout"
        }
      ]
    },
    {
      "cell_type": "markdown",
      "metadata": {
        "id": "UelnBJIfF--K"
      },
      "source": [
        "## Exp5: Hidden Units = 32"
      ]
    },
    {
      "cell_type": "code",
      "metadata": {
        "colab": {
          "base_uri": "https://localhost:8080/",
          "height": 312
        },
        "id": "YZccyfRhOmnS",
        "outputId": "2550aa07-5772-46ef-f44c-b3662f2691df"
      },
      "source": [
        "exp_num = 5\n",
        "num_epochs = 500\n",
        "num_hidden_units = 32\n",
        "batch_size = 1\n",
        "\n",
        "model5 = build_model(num_hidden_units)\n",
        "history5 = model5.fit(\n",
        "  x_train,\n",
        "  y_train,\n",
        "  epochs=num_epochs,\n",
        "  batch_size=batch_size,\n",
        "  validation_data=(x_val, y_val),\n",
        "  verbose=False\n",
        ")\n",
        "\n",
        "train_mae_5 = history5.history['mae']\n",
        "val_mae_5 = history5.history['val_mae']\n",
        "\n",
        "plt.clf()\n",
        "plt.plot(range(1, num_epochs+1), train_mae_5)\n",
        "plt.plot(range(1, num_epochs+1), val_mae_5)\n",
        "plt.title('Exp #{e} MAE by Epochs: Hidden Units {u}'.format(\n",
        "  e=exp_num, u=num_hidden_units\n",
        "))\n",
        "plt.xlabel('Epochs')\n",
        "plt.ylabel('Mean Asolute Error')\n",
        "plt.legend(['Training MAE', 'Validation MAE'])\n",
        "plt.grid()\n",
        "plt.show()\n",
        "\n",
        "print(\"Validation MAE after {e} Epochs: {v:.4f}\".format(e=num_epochs, v=val_mae_5[-1]))"
      ],
      "execution_count": 32,
      "outputs": [
        {
          "output_type": "display_data",
          "data": {
            "image/png": "[encoded data removed]",
            "text/plain": [
              "<Figure size 432x288 with 1 Axes>"
            ]
          },
          "metadata": {
            "tags": [],
            "needs_background": "light"
          }
        },
        {
          "output_type": "stream",
          "text": [
            "Validation MAE after 500 Epochs: 1892.5836\n"
          ],
          "name": "stdout"
        }
      ]
    },
    {
      "cell_type": "markdown",
      "metadata": {
        "id": "JQHmJpfSGCb3"
      },
      "source": [
        "## Exp6: Hidden Units = 64"
      ]
    },
    {
      "cell_type": "code",
      "metadata": {
        "colab": {
          "base_uri": "https://localhost:8080/",
          "height": 312
        },
        "id": "XP2fnhU1PVC3",
        "outputId": "048e7744-7603-48d2-ad5a-3950edea6f1e"
      },
      "source": [
        "exp_num = 6\n",
        "num_epochs = 500\n",
        "num_hidden_units = 64\n",
        "batch_size = 1\n",
        "\n",
        "model6 = build_model(num_hidden_units)\n",
        "history6 = model6.fit(\n",
        "  x_train,\n",
        "  y_train,\n",
        "  epochs=num_epochs,\n",
        "  batch_size=batch_size,\n",
        "  validation_data=(x_val, y_val),\n",
        "  verbose=False\n",
        ")\n",
        "\n",
        "train_mae_6 = history6.history['mae']\n",
        "val_mae_6 = history6.history['val_mae']\n",
        "\n",
        "plt.clf()\n",
        "plt.plot(range(1, num_epochs+1), train_mae_6)\n",
        "plt.plot(range(1, num_epochs+1), val_mae_6)\n",
        "plt.title('Exp #{e} MAE by Epochs: Hidden Units {u}'.format(\n",
        "  e=exp_num, u=num_hidden_units\n",
        "))\n",
        "plt.xlabel('Epochs')\n",
        "plt.ylabel('Mean Asolute Error')\n",
        "plt.legend(['Training MAE', 'Validation MAE'])\n",
        "plt.grid()\n",
        "plt.show()\n",
        "\n",
        "print(\"Validation MAE after {e} Epochs: {v:.4f}\".format(e=num_epochs, v=val_mae_6[-1]))"
      ],
      "execution_count": 33,
      "outputs": [
        {
          "output_type": "display_data",
          "data": {
            "image/png": "[encoded data removed]",
            "text/plain": [
              "<Figure size 432x288 with 1 Axes>"
            ]
          },
          "metadata": {
            "tags": [],
            "needs_background": "light"
          }
        },
        {
          "output_type": "stream",
          "text": [
            "Validation MAE after 500 Epochs: 2349.3982\n"
          ],
          "name": "stdout"
        }
      ]
    },
    {
      "cell_type": "markdown",
      "metadata": {
        "id": "1boBNlwvGGL9"
      },
      "source": [
        "## Exp7: Hidden Units = 128"
      ]
    },
    {
      "cell_type": "code",
      "metadata": {
        "colab": {
          "base_uri": "https://localhost:8080/",
          "height": 312
        },
        "id": "yLDhx1JDO803",
        "outputId": "0a9bf332-8ebf-4753-f3f4-b1c1f5d91f72"
      },
      "source": [
        "exp_num = 7\n",
        "num_epochs = 500\n",
        "num_hidden_units = 128\n",
        "batch_size = 1\n",
        "\n",
        "model7 = build_model(num_hidden_units)\n",
        "history7 = model7.fit(\n",
        "  x_train,\n",
        "  y_train,\n",
        "  epochs=num_epochs,\n",
        "  batch_size=batch_size,\n",
        "  validation_data=(x_val, y_val),\n",
        "  verbose=False\n",
        ")\n",
        "\n",
        "train_mae_7 = history7.history['mae']\n",
        "val_mae_7 = history7.history['val_mae']\n",
        "\n",
        "plt.clf()\n",
        "plt.plot(range(1, num_epochs+1), train_mae_7)\n",
        "plt.plot(range(1, num_epochs+1), val_mae_7)\n",
        "plt.title('Exp #{e} MAE by Epochs: Hidden Units {u}'.format(\n",
        "  e=exp_num, u=num_hidden_units\n",
        "))\n",
        "plt.xlabel('Epochs')\n",
        "plt.ylabel('Mean Asolute Error')\n",
        "plt.legend(['Training MAE', 'Validation MAE'])\n",
        "plt.grid()\n",
        "plt.show()\n",
        "\n",
        "print(\"Validation MAE after {e} Epochs: {v:.4f}\".format(e=num_epochs, v=val_mae_7[-1]))"
      ],
      "execution_count": 34,
      "outputs": [
        {
          "output_type": "display_data",
          "data": {
            "image/png": "[encoded data removed]",
            "text/plain": [
              "<Figure size 432x288 with 1 Axes>"
            ]
          },
          "metadata": {
            "tags": [],
            "needs_background": "light"
          }
        },
        {
          "output_type": "stream",
          "text": [
            "Validation MAE after 500 Epochs: 2024.5156\n"
          ],
          "name": "stdout"
        }
      ]
    },
    {
      "cell_type": "markdown",
      "metadata": {
        "id": "QIyAldW3GK4K"
      },
      "source": [
        "## Exp8: Hidden Units = 256"
      ]
    },
    {
      "cell_type": "code",
      "metadata": {
        "colab": {
          "base_uri": "https://localhost:8080/",
          "height": 312
        },
        "id": "A7l0d-gLAqyd",
        "outputId": "99aa7e50-b3be-4946-9ade-5b60f96e382f"
      },
      "source": [
        "exp_num = 8\n",
        "num_epochs = 500\n",
        "num_hidden_units = 256\n",
        "batch_size = 1\n",
        "\n",
        "model8 = build_model(num_hidden_units)\n",
        "history8 = model8.fit(\n",
        "  x_train,\n",
        "  y_train,\n",
        "  epochs=num_epochs,\n",
        "  batch_size=batch_size,\n",
        "  validation_data=(x_val, y_val),\n",
        "  verbose=False\n",
        ")\n",
        "\n",
        "train_mae_8 = history8.history['mae']\n",
        "val_mae_8 = history8.history['val_mae']\n",
        "\n",
        "plt.clf()\n",
        "plt.plot(range(1, num_epochs+1), train_mae_8)\n",
        "plt.plot(range(1, num_epochs+1), val_mae_8)\n",
        "plt.title('Exp #{e} MAE by Epochs: Hidden Units {u}'.format(\n",
        "  e=exp_num, u=num_hidden_units\n",
        "))\n",
        "plt.xlabel('Epochs')\n",
        "plt.ylabel('Mean Asolute Error')\n",
        "plt.legend(['Training MAE', 'Validation MAE'])\n",
        "plt.grid()\n",
        "plt.show()\n",
        "\n",
        "print(\"Validation MAE after {e} Epochs: {v:.4f}\".format(e=num_epochs, v=val_mae_8[-1]))"
      ],
      "execution_count": 36,
      "outputs": [
        {
          "output_type": "display_data",
          "data": {
            "image/png": "[encoded data removed]",
            "text/plain": [
              "<Figure size 432x288 with 1 Axes>"
            ]
          },
          "metadata": {
            "tags": [],
            "needs_background": "light"
          }
        },
        {
          "output_type": "stream",
          "text": [
            "Validation MAE after 500 Epochs: 1726.7687\n"
          ],
          "name": "stdout"
        }
      ]
    },
    {
      "cell_type": "markdown",
      "metadata": {
        "id": "OxFDaM5UGORh"
      },
      "source": [
        "## Comparing the Results for Varying Number of Hidden Units"
      ]
    },
    {
      "cell_type": "code",
      "metadata": {
        "colab": {
          "base_uri": "https://localhost:8080/",
          "height": 295
        },
        "id": "4GdxARDBAwfE",
        "outputId": "472113a6-00a7-43c0-b00d-5609b0f62d23"
      },
      "source": [
        "total_experiments = 8\n",
        "plt.clf()\n",
        "plt.plot(range(11, num_epochs+1), smooth_curve(val_mae_1[10:]))\n",
        "plt.plot(range(11, num_epochs+1), smooth_curve(val_mae_2[10:]))\n",
        "plt.plot(range(11, num_epochs+1), smooth_curve(val_mae_3[10:]))\n",
        "plt.plot(range(11, num_epochs+1), smooth_curve(val_mae_4[10:]))\n",
        "plt.plot(range(11, num_epochs+1), smooth_curve(val_mae_5[10:]))\n",
        "plt.plot(range(11, num_epochs+1), smooth_curve(val_mae_6[10:]))\n",
        "plt.plot(range(11, num_epochs+1), smooth_curve(val_mae_7[10:]))\n",
        "plt.plot(range(11, num_epochs+1), smooth_curve(val_mae_8[10:]))\n",
        "plt.title('Comparison of Validation MAE for 1 Hidden Layer and Varying Hidden Units')\n",
        "plt.xlabel('Epochs')\n",
        "plt.ylabel('Mean Asolute Error')\n",
        "plt.legend([\n",
        "  '{units} Hidden Units'.format(units=2**i) for i in range(1, total_experiments + 1)\n",
        "], loc='upper right')\n",
        "plt.grid()\n",
        "plt.show()"
      ],
      "execution_count": 37,
      "outputs": [
        {
          "output_type": "display_data",
          "data": {
            "image/png": "[encoded data removed]",
            "text/plain": [
              "<Figure size 432x288 with 1 Axes>"
            ]
          },
          "metadata": {
            "tags": [],
            "needs_background": "light"
          }
        }
      ]
    },
    {
      "cell_type": "markdown",
      "metadata": {
        "id": "rXd5cN4BGYze"
      },
      "source": [
        "After comparing the results of these models, it can be seen that the model in experiment 5 with 32 hidden units performs best."
      ]
    },
    {
      "cell_type": "markdown",
      "metadata": {
        "id": "5PNTmeBXQOt5"
      },
      "source": [
        "# Final Model"
      ]
    },
    {
      "cell_type": "code",
      "metadata": {
        "colab": {
          "base_uri": "https://localhost:8080/"
        },
        "id": "BeydFH_JKMuu",
        "outputId": "9caee9a7-c45a-499c-b530-baafe37d3052"
      },
      "source": [
        "model = build_model(32)\n",
        "model.fit(\n",
        "  np.vstack((x_train, x_val)),\n",
        "  np.hstack((y_train, y_val)),\n",
        "  epochs=num_epochs,\n",
        "  batch_size=batch_size,\n",
        "  verbose=False\n",
        ")"
      ],
      "execution_count": 38,
      "outputs": [
        {
          "output_type": "execute_result",
          "data": {
            "text/plain": [
              "<tensorflow.python.keras.callbacks.History at 0x7fca99010790>"
            ]
          },
          "metadata": {
            "tags": []
          },
          "execution_count": 38
        }
      ]
    },
    {
      "cell_type": "markdown",
      "metadata": {
        "id": "2z83OwlWQQyw"
      },
      "source": [
        "# Final Evaluation"
      ]
    },
    {
      "cell_type": "code",
      "metadata": {
        "colab": {
          "base_uri": "https://localhost:8080/"
        },
        "id": "aciH0dTvNtjV",
        "outputId": "72ad8955-bfe8-43fa-d55f-2dd258f9cad8"
      },
      "source": [
        "result = model.evaluate(x_test, y_test)\n",
        "\n",
        "print(\"Test MAE: {v:.4f}\".format(v=result[1]))"
      ],
      "execution_count": 43,
      "outputs": [
        {
          "output_type": "stream",
          "text": [
            "2/2 [==============================] - 0s 9ms/step - loss: 14379196.0000 - mae: 2274.9548\n",
            "Test MAE: 2274.9548\n"
          ],
          "name": "stdout"
        }
      ]
    }
  ]
}